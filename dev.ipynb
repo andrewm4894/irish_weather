{
 "cells": [
  {
   "cell_type": "code",
   "execution_count": 1,
   "metadata": {},
   "outputs": [],
   "source": [
    "import pandas as pd\n",
    "import numpy as np"
   ]
  },
  {
   "cell_type": "code",
   "execution_count": 2,
   "metadata": {},
   "outputs": [
    {
     "name": "stdout",
     "output_type": "stream",
     "text": [
      "(171163, 19)\n"
     ]
    },
    {
     "name": "stderr",
     "output_type": "stream",
     "text": [
      "C:\\Users\\amaguire\\AppData\\Local\\Continuum\\anaconda3\\envs\\ami\\lib\\site-packages\\pyarrow\\pandas_compat.py:708: FutureWarning: .labels was deprecated in version 0.24.0. Use .codes instead.\n",
      "  labels = getattr(columns, 'labels', None) or [\n",
      "C:\\Users\\amaguire\\AppData\\Local\\Continuum\\anaconda3\\envs\\ami\\lib\\site-packages\\pyarrow\\pandas_compat.py:735: FutureWarning: the 'labels' keyword is deprecated, use 'codes' instead\n",
      "  return pd.MultiIndex(levels=new_levels, labels=labels, names=columns.names)\n",
      "C:\\Users\\amaguire\\AppData\\Local\\Continuum\\anaconda3\\envs\\ami\\lib\\site-packages\\pyarrow\\pandas_compat.py:752: FutureWarning: .labels was deprecated in version 0.24.0. Use .codes instead.\n",
      "  labels, = index.labels\n"
     ]
    },
    {
     "data": {
      "text/html": [
       "<div>\n",
       "<style scoped>\n",
       "    .dataframe tbody tr th:only-of-type {\n",
       "        vertical-align: middle;\n",
       "    }\n",
       "\n",
       "    .dataframe tbody tr th {\n",
       "        vertical-align: top;\n",
       "    }\n",
       "\n",
       "    .dataframe thead th {\n",
       "        text-align: right;\n",
       "    }\n",
       "</style>\n",
       "<table border=\"1\" class=\"dataframe\">\n",
       "  <thead>\n",
       "    <tr style=\"text-align: right;\">\n",
       "      <th></th>\n",
       "      <th>latitide</th>\n",
       "      <th>longitude</th>\n",
       "      <th>rain_max</th>\n",
       "      <th>rain_mean</th>\n",
       "      <th>rain_min</th>\n",
       "      <th>rain_std</th>\n",
       "      <th>rhum_max</th>\n",
       "      <th>rhum_mean</th>\n",
       "      <th>rhum_min</th>\n",
       "      <th>rhum_std</th>\n",
       "      <th>station_number</th>\n",
       "      <th>temp_max</th>\n",
       "      <th>temp_mean</th>\n",
       "      <th>temp_min</th>\n",
       "      <th>temp_std</th>\n",
       "      <th>wdsp_max</th>\n",
       "      <th>wdsp_mean</th>\n",
       "      <th>wdsp_min</th>\n",
       "      <th>wdsp_std</th>\n",
       "    </tr>\n",
       "    <tr>\n",
       "      <th>date</th>\n",
       "      <th></th>\n",
       "      <th></th>\n",
       "      <th></th>\n",
       "      <th></th>\n",
       "      <th></th>\n",
       "      <th></th>\n",
       "      <th></th>\n",
       "      <th></th>\n",
       "      <th></th>\n",
       "      <th></th>\n",
       "      <th></th>\n",
       "      <th></th>\n",
       "      <th></th>\n",
       "      <th></th>\n",
       "      <th></th>\n",
       "      <th></th>\n",
       "      <th></th>\n",
       "      <th></th>\n",
       "      <th></th>\n",
       "    </tr>\n",
       "  </thead>\n",
       "  <tbody>\n",
       "    <tr>\n",
       "      <th>1989-01-01</th>\n",
       "      <td>51.793</td>\n",
       "      <td>-8.244</td>\n",
       "      <td>0.0</td>\n",
       "      <td>0.00</td>\n",
       "      <td>0.0</td>\n",
       "      <td>0.00</td>\n",
       "      <td>97.0</td>\n",
       "      <td>86.33</td>\n",
       "      <td>74.0</td>\n",
       "      <td>7.54</td>\n",
       "      <td>1075</td>\n",
       "      <td>10.0</td>\n",
       "      <td>9.33</td>\n",
       "      <td>8.2</td>\n",
       "      <td>0.64</td>\n",
       "      <td>16.0</td>\n",
       "      <td>11.71</td>\n",
       "      <td>7.0</td>\n",
       "      <td>2.16</td>\n",
       "    </tr>\n",
       "    <tr>\n",
       "      <th>1989-01-02</th>\n",
       "      <td>51.793</td>\n",
       "      <td>-8.244</td>\n",
       "      <td>0.5</td>\n",
       "      <td>0.03</td>\n",
       "      <td>0.0</td>\n",
       "      <td>0.11</td>\n",
       "      <td>96.0</td>\n",
       "      <td>84.46</td>\n",
       "      <td>73.0</td>\n",
       "      <td>5.16</td>\n",
       "      <td>1075</td>\n",
       "      <td>9.1</td>\n",
       "      <td>8.86</td>\n",
       "      <td>8.5</td>\n",
       "      <td>0.18</td>\n",
       "      <td>17.0</td>\n",
       "      <td>13.96</td>\n",
       "      <td>7.0</td>\n",
       "      <td>2.03</td>\n",
       "    </tr>\n",
       "    <tr>\n",
       "      <th>1989-01-03</th>\n",
       "      <td>51.793</td>\n",
       "      <td>-8.244</td>\n",
       "      <td>1.9</td>\n",
       "      <td>0.22</td>\n",
       "      <td>0.0</td>\n",
       "      <td>0.51</td>\n",
       "      <td>99.0</td>\n",
       "      <td>89.25</td>\n",
       "      <td>75.0</td>\n",
       "      <td>7.04</td>\n",
       "      <td>1075</td>\n",
       "      <td>10.9</td>\n",
       "      <td>10.12</td>\n",
       "      <td>9.2</td>\n",
       "      <td>0.52</td>\n",
       "      <td>30.0</td>\n",
       "      <td>23.96</td>\n",
       "      <td>18.0</td>\n",
       "      <td>3.26</td>\n",
       "    </tr>\n",
       "    <tr>\n",
       "      <th>1989-01-04</th>\n",
       "      <td>51.793</td>\n",
       "      <td>-8.244</td>\n",
       "      <td>0.7</td>\n",
       "      <td>0.07</td>\n",
       "      <td>0.0</td>\n",
       "      <td>0.17</td>\n",
       "      <td>86.0</td>\n",
       "      <td>80.25</td>\n",
       "      <td>72.0</td>\n",
       "      <td>4.38</td>\n",
       "      <td>1075</td>\n",
       "      <td>9.2</td>\n",
       "      <td>6.60</td>\n",
       "      <td>5.0</td>\n",
       "      <td>1.42</td>\n",
       "      <td>29.0</td>\n",
       "      <td>17.88</td>\n",
       "      <td>9.0</td>\n",
       "      <td>6.32</td>\n",
       "    </tr>\n",
       "    <tr>\n",
       "      <th>1989-01-05</th>\n",
       "      <td>51.793</td>\n",
       "      <td>-8.244</td>\n",
       "      <td>1.2</td>\n",
       "      <td>0.26</td>\n",
       "      <td>0.0</td>\n",
       "      <td>0.36</td>\n",
       "      <td>99.0</td>\n",
       "      <td>91.38</td>\n",
       "      <td>81.0</td>\n",
       "      <td>5.48</td>\n",
       "      <td>1075</td>\n",
       "      <td>12.4</td>\n",
       "      <td>9.65</td>\n",
       "      <td>5.9</td>\n",
       "      <td>2.04</td>\n",
       "      <td>25.0</td>\n",
       "      <td>16.58</td>\n",
       "      <td>7.0</td>\n",
       "      <td>5.83</td>\n",
       "    </tr>\n",
       "  </tbody>\n",
       "</table>\n",
       "</div>"
      ],
      "text/plain": [
       "            latitide  longitude  rain_max  rain_mean  rain_min  rain_std  \\\n",
       "date                                                                       \n",
       "1989-01-01    51.793     -8.244       0.0       0.00       0.0      0.00   \n",
       "1989-01-02    51.793     -8.244       0.5       0.03       0.0      0.11   \n",
       "1989-01-03    51.793     -8.244       1.9       0.22       0.0      0.51   \n",
       "1989-01-04    51.793     -8.244       0.7       0.07       0.0      0.17   \n",
       "1989-01-05    51.793     -8.244       1.2       0.26       0.0      0.36   \n",
       "\n",
       "            rhum_max  rhum_mean  rhum_min  rhum_std  station_number  temp_max  \\\n",
       "date                                                                            \n",
       "1989-01-01      97.0      86.33      74.0      7.54            1075      10.0   \n",
       "1989-01-02      96.0      84.46      73.0      5.16            1075       9.1   \n",
       "1989-01-03      99.0      89.25      75.0      7.04            1075      10.9   \n",
       "1989-01-04      86.0      80.25      72.0      4.38            1075       9.2   \n",
       "1989-01-05      99.0      91.38      81.0      5.48            1075      12.4   \n",
       "\n",
       "            temp_mean  temp_min  temp_std  wdsp_max  wdsp_mean  wdsp_min  \\\n",
       "date                                                                       \n",
       "1989-01-01       9.33       8.2      0.64      16.0      11.71       7.0   \n",
       "1989-01-02       8.86       8.5      0.18      17.0      13.96       7.0   \n",
       "1989-01-03      10.12       9.2      0.52      30.0      23.96      18.0   \n",
       "1989-01-04       6.60       5.0      1.42      29.0      17.88       9.0   \n",
       "1989-01-05       9.65       5.9      2.04      25.0      16.58       7.0   \n",
       "\n",
       "            wdsp_std  \n",
       "date                  \n",
       "1989-01-01      2.16  \n",
       "1989-01-02      2.03  \n",
       "1989-01-03      3.26  \n",
       "1989-01-04      6.32  \n",
       "1989-01-05      5.83  "
      ]
     },
     "execution_count": 2,
     "metadata": {},
     "output_type": "execute_result"
    }
   ],
   "source": [
    "df = pd.read_parquet('data/data_daily_by_station.gz.parquet')\n",
    "print(df.shape)\n",
    "df.head()"
   ]
  },
  {
   "cell_type": "code",
   "execution_count": 3,
   "metadata": {},
   "outputs": [
    {
     "name": "stdout",
     "output_type": "stream",
     "text": [
      "[CellId: 80f0694000000000, CellId: 80f06b4000000000, CellId: 80f06bc000000000, CellId: 80f06d0000000000, CellId: 80f06e4000000000, CellId: 80f06ec000000000, CellId: 80f0724000000000, CellId: 80f072c000000000]\n"
     ]
    }
   ],
   "source": [
    "import s2sphere\n",
    "\n",
    "r = s2sphere.RegionCoverer()\n",
    "p1 = s2sphere.LatLng.from_degrees(33, -122)\n",
    "p2 = s2sphere.LatLng.from_degrees(33.1, -122.1)\n",
    "cell_ids = r.get_covering(s2sphere.LatLngRect.from_point_pair(p1, p2))\n",
    "print(cell_ids)"
   ]
  },
  {
   "cell_type": "code",
   "execution_count": 8,
   "metadata": {},
   "outputs": [],
   "source": [
    "cell = s2sphere.Cell.from_lat_lng(s2sphere.LatLng.from_degrees(33, -122))"
   ]
  },
  {
   "cell_type": "code",
   "execution_count": 115,
   "metadata": {},
   "outputs": [
    {
     "data": {
      "text/plain": [
       "Cell: face 4, level 30, orientation 0, id 9291052239093219947"
      ]
     },
     "execution_count": 115,
     "metadata": {},
     "output_type": "execute_result"
    }
   ],
   "source": [
    "cell"
   ]
  },
  {
   "cell_type": "code",
   "execution_count": 121,
   "metadata": {},
   "outputs": [
    {
     "data": {
      "text/plain": [
       "s2sphere.sphere.Cell"
      ]
     },
     "execution_count": 121,
     "metadata": {},
     "output_type": "execute_result"
    }
   ],
   "source": [
    "type(cell)"
   ]
  },
  {
   "cell_type": "code",
   "execution_count": 124,
   "metadata": {},
   "outputs": [
    {
     "data": {
      "text/plain": [
       "s2sphere.sphere.Cell"
      ]
     },
     "execution_count": 124,
     "metadata": {},
     "output_type": "execute_result"
    }
   ],
   "source": [
    "type(s2sphere.Cell(cell.id().parent()))"
   ]
  },
  {
   "cell_type": "code",
   "execution_count": 43,
   "metadata": {},
   "outputs": [
    {
     "name": "stdout",
     "output_type": "stream",
     "text": [
      "[CellId: 485c494589ad39f1]\n"
     ]
    }
   ],
   "source": [
    "import s2sphere\n",
    "\n",
    "r = s2sphere.RegionCoverer()\n",
    "p = s2sphere.LatLng.from_degrees(53.4, -7.9)\n",
    "cell_ids = r.get_covering(s2sphere.LatLngRect.from_point(p))\n",
    "print(cell_ids)"
   ]
  },
  {
   "cell_type": "code",
   "execution_count": 62,
   "metadata": {},
   "outputs": [
    {
     "data": {
      "text/plain": [
       "[(-7.899999924726439, 53.3999999888054),\n",
       " (-7.899999948305971, 53.40000007014335),\n",
       " (-7.900000056757584, 53.400000062940045),\n",
       " (-7.900000033178052, 53.39999998160209)]"
      ]
     },
     "execution_count": 62,
     "metadata": {},
     "output_type": "execute_result"
    }
   ],
   "source": [
    "import s2sphere\n",
    "\n",
    "def s2_latlng_to_polygon(latlng,parent_level=7):\n",
    "    cell = s2sphere.Cell.from_lat_lng(s2sphere.LatLng.from_degrees(*latlng))\n",
    "    parent_cell = s2sphere.Cell(cell.id().parent(parent_level))\n",
    "    polygon_tuples = [(float(x[1]),float(x[0])) for x in [str(s2sphere.LatLng.from_point(parent_cell.get_vertex(k))).replace('LatLng: ','').split(',') for k in range(4)]]\n",
    "    return polygon_tuples\n",
    "    \n",
    "s2_latlng_to_polygon((53.4,-7.9),parent_level=30)"
   ]
  },
  {
   "cell_type": "code",
   "execution_count": 45,
   "metadata": {},
   "outputs": [
    {
     "data": {
      "text/plain": [
       "{'level_30': {'cell_id': 5214123031599593969,\n",
       "  'cell_uid': CellId: 485c494589ad39f1,\n",
       "  'cell_vertex_list': [(-7.899999924726439, 53.3999999888054),\n",
       "   (-7.899999948305971, 53.40000007014335),\n",
       "   (-7.900000056757584, 53.400000062940045),\n",
       "   (-7.900000033178052, 53.39999998160209)]},\n",
       " 'level_29': {'cell_id': 5214123031599593972,\n",
       "  'cell_uid': CellId: 485c494589ad39f4,\n",
       "  'cell_vertex_list': [(-7.899999924726439, 53.3999999888054),\n",
       "   (-7.899999971885503, 53.40000015148129),\n",
       "   (-7.900000188788726, 53.40000013707468),\n",
       "   (-7.900000141629661, 53.39999997439879)]},\n",
       " 'level_28': {'cell_id': 5214123031599593968,\n",
       "  'cell_uid': CellId: 485c494589ad39f0,\n",
       "  'cell_vertex_list': [(-7.899999660664155, 53.39999984053612),\n",
       "   (-7.899999754982276, 53.4000001658879),\n",
       "   (-7.900000188788726, 53.40000013707468),\n",
       "   (-7.900000094470601, 53.39999981172291)]},\n",
       " 'level_27': {'cell_id': 5214123031599593920,\n",
       "  'cell_uid': CellId: 485c494589ad39c0,\n",
       "  'cell_vertex_list': [(-7.899999566346033, 53.39999951518434),\n",
       "   (-7.899999754982276, 53.4000001658879),\n",
       "   (-7.900000622595182, 53.40000010826146),\n",
       "   (-7.900000433958918, 53.3999994575579)]},\n",
       " 'level_26': {'cell_id': 5214123031599593728,\n",
       "  'cell_uid': CellId: 485c494589ad3900,\n",
       "  'cell_vertex_list': [(-7.899999377709793, 53.399998864480764),\n",
       "   (-7.899999754982276, 53.4000001658879),\n",
       "   (-7.900001490208098, 53.400000050635015),\n",
       "   (-7.9000011129355325, 53.39999874922788)]},\n",
       " 'level_25': {'cell_id': 5214123031599594496,\n",
       "  'cell_uid': CellId: 485c494589ad3c00,\n",
       "  'cell_vertex_list': [(-7.899999377709793, 53.399998864480764),\n",
       "   (-7.9000001322547915, 53.40000146729507),\n",
       "   (-7.900003602706622, 53.40000123678924),\n",
       "   (-7.900002848161302, 53.399998633974974)]},\n",
       " 'level_24': {'cell_id': 5214123031599591424,\n",
       "  'cell_uid': CellId: 485c494589ad3000,\n",
       "  'cell_vertex_list': [(-7.899995907258407, 53.39999909498644),\n",
       "   (-7.899997416347874, 53.400004300615194),\n",
       "   (-7.900004357252061, 53.40000383960358),\n",
       "   (-7.900002848161302, 53.399998633974974)]},\n",
       " 'level_23': {'cell_id': 5214123031599595520,\n",
       "  'cell_uid': CellId: 485c494589ad4000,\n",
       "  'cell_vertex_list': [(-7.8999943981694125, 53.39999388935803),\n",
       "   (-7.899997416347874, 53.400004300615194),\n",
       "   (-7.9000112981567385, 53.400003378591514),\n",
       "   (-7.900008279973111, 53.399992967334946)]},\n",
       " 'level_22': {'cell_id': 5214123031599579136,\n",
       "  'cell_uid': CellId: 485c494589ad0000,\n",
       "  'cell_vertex_list': [(-7.8999943981694125, 53.39999388935803),\n",
       "   (-7.900000434528226, 53.40001471187371),\n",
       "   (-7.900028198158257, 53.40001286782337),\n",
       "   (-7.900022161778769, 53.39999204531008)]},\n",
       " 'level_21': {'cell_id': 5214123031599513600,\n",
       "  'cell_uid': CellId: 485c494589ac0000,\n",
       "  'cell_vertex_list': [(-7.8999943981694125, 53.39999388935803),\n",
       "   (-7.9000064708946, 53.40003553439478),\n",
       "   (-7.900061998203862, 53.40003184628219),\n",
       "   (-7.900049925395978, 53.39999020125501)]},\n",
       " 'level_20': {'cell_id': 5214123031599775744,\n",
       "  'cell_uid': CellId: 485c494589b00000,\n",
       "  'cell_vertex_list': [(-7.899982325474459, 53.39995224434283),\n",
       "   (-7.9000064708946, 53.40003553439478),\n",
       "   (-7.900117525544519, 53.40002815814111),\n",
       "   (-7.9000933797936, 53.399944868127484)]},\n",
       " 'level_19': {'cell_id': 5214123031600824320,\n",
       "  'cell_uid': CellId: 485c494589c00000,\n",
       "  'cell_vertex_list': [(-7.89995818017526, 53.39986895437713),\n",
       "   (-7.9000064708946, 53.40003553439478),\n",
       "   (-7.900228580320036, 53.400020781773506),\n",
       "   (-7.900180288277591, 53.399854201909164)]},\n",
       " 'level_18': {'cell_id': 5214123031588241408,\n",
       "  'cell_uid': CellId: 485c494589000000,\n",
       "  'cell_vertex_list': [(-7.899736072575318, 53.399883706389375),\n",
       "   (-7.89983265185154, 53.400216867076345),\n",
       "   (-7.900276872846263, 53.400187361982866),\n",
       "   (-7.900180288277591, 53.399854201909164)]},\n",
       " 'level_17': {'cell_id': 5214123031638573056,\n",
       "  'cell_uid': CellId: 485c49458c000000,\n",
       "  'cell_vertex_list': [(-7.899736072575318, 53.399883706389375),\n",
       "   (-7.899929233062812, 53.40055002914341),\n",
       "   (-7.9008176876468745, 53.400491015906944),\n",
       "   (-7.900624505989383, 53.39982469560603)]},\n",
       " 'level_16': {'cell_id': 5214123031705681920,\n",
       "  'cell_uid': CellId: 485c494590000000,\n",
       "  'cell_vertex_list': [(-7.898847647199607, 53.399942709881174),\n",
       "   (-7.899233933574217, 53.40127536581529),\n",
       "   (-7.90101087704559, 53.4011573417281),\n",
       "   (-7.900624505989383, 53.39982469560603)]},\n",
       " 'level_15': {'cell_id': 5214123032510988288,\n",
       "  'cell_uid': CellId: 485c4945c0000000,\n",
       "  'cell_vertex_list': [(-7.898847647199607, 53.399942709881174),\n",
       "   (-7.899620250909015, 53.40260804383037),\n",
       "   (-7.903174339379179, 53.402371946858466),\n",
       "   (-7.902401396930356, 53.39970665216388)]},\n",
       " 'level_14': {'cell_id': 5214123029289762816,\n",
       "  'cell_uid': CellId: 485c494500000000,\n",
       "  'cell_vertex_list': [(-7.8952940260914275, 53.40017865093644),\n",
       "   (-7.896838679835271, 53.405509485630326),\n",
       "   (-7.903947405734553, 53.40503732986336),\n",
       "   (-7.902401396930356, 53.39970665216388)]},\n",
       " 'level_13': {'cell_id': 5214123024994795520,\n",
       "  'cell_uid': CellId: 485c494400000000,\n",
       "  'cell_vertex_list': [(-7.8952940260914275, 53.40017865093644),\n",
       "   (-7.898383828904177, 53.41084067356752),\n",
       "   (-7.912604506004795, 53.409895580935896),\n",
       "   (-7.90950928211731, 53.39923418669515)]},\n",
       " 'level_12': {'cell_id': 5214123076534403072,\n",
       "  'cell_uid': CellId: 485c495000000000,\n",
       "  'cell_vertex_list': [(-7.877998423923485, 53.390460012803985),\n",
       "   (-7.8841652103575, 53.41178389858894),\n",
       "   (-7.912604506004795, 53.409895580935896),\n",
       "   (-7.9064160419386535, 53.38857420541102)]},\n",
       " 'level_11': {'cell_id': 5214123007814926336,\n",
       "  'cell_uid': CellId: 485c494000000000,\n",
       "  'cell_vertex_list': [(-7.877998423923485, 53.390460012803985),\n",
       "   (-7.89033991234886, 53.43311343632934),\n",
       "   (-7.947270137162894, 53.42932429023979),\n",
       "   (-7.93484188487752, 53.38668093418168)]},\n",
       " 'level_10': {'cell_id': 5214122732937019392,\n",
       "  'cell_uid': CellId: 485c490000000000,\n",
       "  'cell_vertex_list': [(-7.877998423923485, 53.390460012803985),\n",
       "   (-7.9027131207023675, 53.475789440468255),\n",
       "   (-8.016780351258843, 53.46816092156128),\n",
       "   (-7.991718172667284, 53.38287197566011)]},\n",
       " 'level_9': {'cell_id': 5214126031471902720,\n",
       "  'cell_uid': CellId: 485c4c0000000000,\n",
       "  'cell_vertex_list': [(-7.740168061249966, 53.31265020104409),\n",
       "   (-7.788777791827688, 53.48329801614975),\n",
       "   (-8.016780351258843, 53.46816092156128),\n",
       "   (-7.966784105213128, 53.29767334272058)]},\n",
       " 'level_8': {'cell_id': 5214130429518413824,\n",
       "  'cell_uid': CellId: 485c500000000000,\n",
       "  'cell_vertex_list': [(-7.69205362146914, 53.142367155138835),\n",
       "   (-7.788777791827688, 53.48329801614975),\n",
       "   (-8.24530580488937, 53.45254248069385),\n",
       "   (-8.143062367243154, 53.112258857863836)]},\n",
       " 'level_7': {'cell_id': 5214112837332369408,\n",
       "  'cell_uid': CellId: 485c400000000000,\n",
       "  'cell_vertex_list': [(-7.69205362146914, 53.142367155138835),\n",
       "   (-7.887512320786876, 53.82567405964538),\n",
       "   (-8.813876304402688, 53.76086081280781),\n",
       "   (-8.596125484319387, 53.08025238265586)]},\n",
       " 'level_6': {'cell_id': 5214323943564902400,\n",
       "  'cell_uid': CellId: 485d000000000000,\n",
       "  'cell_vertex_list': [(-6.6302672811716565, 52.51729571887205),\n",
       "   (-6.969666287129459, 53.88267662496677),\n",
       "   (-8.813876304402688, 53.76086081280781),\n",
       "   (-8.387032378659491, 52.405415375105505)]},\n",
       " 'level_5': {'cell_id': 5214042468588191744,\n",
       "  'cell_uid': CellId: 485c000000000000,\n",
       "  'cell_vertex_list': [(-6.6302672811716565, 52.51729571887205),\n",
       "   (-7.338606336236236, 55.271147659547914),\n",
       "   (-11.247314160685438, 54.97098937885164),\n",
       "   (-10.175510843043208, 52.26403022762314)]},\n",
       " 'level_4': {'cell_id': 5210664768867663872,\n",
       "  'cell_uid': CellId: 4850000000000000,\n",
       "  'cell_vertex_list': [(-6.027530295521267, 49.86230374719826),\n",
       "   (-7.338606336236236, 55.271147659547914),\n",
       "   (-15.255118703057777, 54.525961350264645),\n",
       "   (-12.604147283761835, 49.3292221793741)]},\n",
       " 'level_3': {'cell_id': 5206161169240293376,\n",
       "  'cell_uid': CellId: 4840000000000000,\n",
       "  'cell_vertex_list': [(-0.0, 45.0),\n",
       "   (-0.0, 55.49147701233161),\n",
       "   (-15.255118703057777, 54.525961350264645),\n",
       "   (-10.619655276155134, 44.50509820989622)]},\n",
       " 'level_2': {'cell_id': 5260204364768739328,\n",
       "  'cell_uid': CellId: 4900000000000000,\n",
       "  'cell_vertex_list': [(-0.0, 45.0),\n",
       "   (-0.0, 67.38013505195958),\n",
       "   (-45.0, 59.491041133797204),\n",
       "   (-22.619864948040426, 42.70938995736147)]},\n",
       " 'level_1': {'cell_id': 5476377146882523136,\n",
       "  'cell_uid': CellId: 4c00000000000000,\n",
       "  'cell_vertex_list': [(-0.0, 45.0),\n",
       "   (-180.0, 90.0),\n",
       "   (-90.0, 45.0),\n",
       "   (-45.0, 35.264389682754654)]}}"
      ]
     },
     "execution_count": 45,
     "metadata": {},
     "output_type": "execute_result"
    }
   ],
   "source": [
    "import s2sphere\n",
    "cell = s2sphere.Cell.from_lat_lng(s2sphere.LatLng.from_degrees(53.4, -7.9))\n",
    "n_steps = 30\n",
    "cell_meta = dict()\n",
    "curr_cell = cell\n",
    "for n in range(n_steps):\n",
    "    curr_cell_uid = curr_cell.id()\n",
    "    curr_cell_id = curr_cell.id().id()\n",
    "    curr_cell_level = curr_cell.id().level()\n",
    "    cell_meta[f'level_{curr_cell_level}'] = {\n",
    "        'cell_id' : curr_cell_id,\n",
    "        'cell_uid' : curr_cell_uid,\n",
    "        'cell_vertex_list' : [(float(x[1]),float(x[0])) for x in [str(s2sphere.LatLng.from_point(curr_cell.get_vertex(k))).replace('LatLng: ','').split(',') for k in range(4)]]\n",
    "    }\n",
    "    parent_cell = s2sphere.Cell(curr_cell.id().parent())\n",
    "    curr_cell = parent_cell\n",
    "cell_meta"
   ]
  },
  {
   "cell_type": "code",
   "execution_count": 170,
   "metadata": {},
   "outputs": [
    {
     "name": "stdout",
     "output_type": "stream",
     "text": [
      "LatLng: 52.80976598419109,-2.0889960238054526\n",
      "LatLng: 52.80976594422005,-2.0889959719554083\n",
      "LatLng: 52.80976602587492,-2.0889959781407157\n",
      "LatLng: 52.809766024162116,-2.0889960756555026\n",
      "LatLng: 52.80976594250725,-2.0889960694701943\n"
     ]
    }
   ],
   "source": [
    "import s2sphere\n",
    "lat = 52.809766\n",
    "lng = -2.088996\n",
    "cell_id = s2sphere.CellId.from_lat_lng(s2sphere.LatLng.from_degrees(lat,lng)).parent(30)\n",
    "print (s2sphere.LatLng.from_point(s2sphere.Cell(cell_id).get_center()))\n",
    "print (s2sphere.LatLng.from_point(s2sphere.Cell(cell_id).get_vertex(0)))\n",
    "print (s2sphere.LatLng.from_point(s2sphere.Cell(cell_id).get_vertex(1)))\n",
    "print (s2sphere.LatLng.from_point(s2sphere.Cell(cell_id).get_vertex(2)))\n",
    "print (s2sphere.LatLng.from_point(s2sphere.Cell(cell_id).get_vertex(3)))"
   ]
  },
  {
   "cell_type": "code",
   "execution_count": 12,
   "metadata": {},
   "outputs": [
    {
     "ename": "TypeError",
     "evalue": "'float' object is not callable",
     "output_type": "error",
     "traceback": [
      "\u001b[1;31m---------------------------------------------------------------------------\u001b[0m",
      "\u001b[1;31mTypeError\u001b[0m                                 Traceback (most recent call last)",
      "\u001b[1;32m<ipython-input-12-bcc9e46e98b1>\u001b[0m in \u001b[0;36m<module>\u001b[1;34m\u001b[0m\n\u001b[0;32m     32\u001b[0m         \u001b[0mlatlng\u001b[0m \u001b[1;33m=\u001b[0m \u001b[0ms2sphere\u001b[0m\u001b[1;33m.\u001b[0m\u001b[0mLatLng\u001b[0m\u001b[1;33m(\u001b[0m\u001b[0mvertex_tmp_lat\u001b[0m\u001b[1;33m,\u001b[0m\u001b[0mvertex_tmp_long\u001b[0m\u001b[1;33m)\u001b[0m\u001b[1;33m\u001b[0m\u001b[1;33m\u001b[0m\u001b[0m\n\u001b[0;32m     33\u001b[0m         \u001b[1;31m#latlng = s2sphere.LatLng.from_point(vertex)\u001b[0m\u001b[1;33m\u001b[0m\u001b[1;33m\u001b[0m\u001b[1;33m\u001b[0m\u001b[0m\n\u001b[1;32m---> 34\u001b[1;33m         vertices.append((latlng.lat().degrees(),\n\u001b[0m\u001b[0;32m     35\u001b[0m                          latlng.lng().degrees()))\n\u001b[0;32m     36\u001b[0m     \u001b[0mgeo\u001b[0m \u001b[1;33m=\u001b[0m \u001b[0mPolygon\u001b[0m\u001b[1;33m(\u001b[0m\u001b[0mvertices\u001b[0m\u001b[1;33m)\u001b[0m\u001b[1;33m\u001b[0m\u001b[1;33m\u001b[0m\u001b[0m\n",
      "\u001b[1;31mTypeError\u001b[0m: 'float' object is not callable"
     ]
    },
    {
     "name": "stdout",
     "output_type": "stream",
     "text": [
      "Error in callback <function install_repl_displayhook.<locals>.post_execute at 0x000002E776F5E8C8> (for post_execute):\n"
     ]
    },
    {
     "ename": "ValueError",
     "evalue": "A non-empty list of tiles should be provided to merge.",
     "output_type": "error",
     "traceback": [
      "\u001b[1;31m---------------------------------------------------------------------------\u001b[0m",
      "\u001b[1;31mValueError\u001b[0m                                Traceback (most recent call last)",
      "\u001b[1;32m~\\AppData\\Local\\Continuum\\anaconda3\\envs\\ami\\lib\\site-packages\\matplotlib\\pyplot.py\u001b[0m in \u001b[0;36mpost_execute\u001b[1;34m()\u001b[0m\n\u001b[0;32m    107\u001b[0m             \u001b[1;32mdef\u001b[0m \u001b[0mpost_execute\u001b[0m\u001b[1;33m(\u001b[0m\u001b[1;33m)\u001b[0m\u001b[1;33m:\u001b[0m\u001b[1;33m\u001b[0m\u001b[1;33m\u001b[0m\u001b[0m\n\u001b[0;32m    108\u001b[0m                 \u001b[1;32mif\u001b[0m \u001b[0mmatplotlib\u001b[0m\u001b[1;33m.\u001b[0m\u001b[0mis_interactive\u001b[0m\u001b[1;33m(\u001b[0m\u001b[1;33m)\u001b[0m\u001b[1;33m:\u001b[0m\u001b[1;33m\u001b[0m\u001b[1;33m\u001b[0m\u001b[0m\n\u001b[1;32m--> 109\u001b[1;33m                     \u001b[0mdraw_all\u001b[0m\u001b[1;33m(\u001b[0m\u001b[1;33m)\u001b[0m\u001b[1;33m\u001b[0m\u001b[1;33m\u001b[0m\u001b[0m\n\u001b[0m\u001b[0;32m    110\u001b[0m \u001b[1;33m\u001b[0m\u001b[0m\n\u001b[0;32m    111\u001b[0m             \u001b[1;31m# IPython >= 2\u001b[0m\u001b[1;33m\u001b[0m\u001b[1;33m\u001b[0m\u001b[1;33m\u001b[0m\u001b[0m\n",
      "\u001b[1;32m~\\AppData\\Local\\Continuum\\anaconda3\\envs\\ami\\lib\\site-packages\\matplotlib\\_pylab_helpers.py\u001b[0m in \u001b[0;36mdraw_all\u001b[1;34m(cls, force)\u001b[0m\n\u001b[0;32m    126\u001b[0m         \u001b[1;32mfor\u001b[0m \u001b[0mf_mgr\u001b[0m \u001b[1;32min\u001b[0m \u001b[0mcls\u001b[0m\u001b[1;33m.\u001b[0m\u001b[0mget_all_fig_managers\u001b[0m\u001b[1;33m(\u001b[0m\u001b[1;33m)\u001b[0m\u001b[1;33m:\u001b[0m\u001b[1;33m\u001b[0m\u001b[1;33m\u001b[0m\u001b[0m\n\u001b[0;32m    127\u001b[0m             \u001b[1;32mif\u001b[0m \u001b[0mforce\u001b[0m \u001b[1;32mor\u001b[0m \u001b[0mf_mgr\u001b[0m\u001b[1;33m.\u001b[0m\u001b[0mcanvas\u001b[0m\u001b[1;33m.\u001b[0m\u001b[0mfigure\u001b[0m\u001b[1;33m.\u001b[0m\u001b[0mstale\u001b[0m\u001b[1;33m:\u001b[0m\u001b[1;33m\u001b[0m\u001b[1;33m\u001b[0m\u001b[0m\n\u001b[1;32m--> 128\u001b[1;33m                 \u001b[0mf_mgr\u001b[0m\u001b[1;33m.\u001b[0m\u001b[0mcanvas\u001b[0m\u001b[1;33m.\u001b[0m\u001b[0mdraw_idle\u001b[0m\u001b[1;33m(\u001b[0m\u001b[1;33m)\u001b[0m\u001b[1;33m\u001b[0m\u001b[1;33m\u001b[0m\u001b[0m\n\u001b[0m\u001b[0;32m    129\u001b[0m \u001b[1;33m\u001b[0m\u001b[0m\n\u001b[0;32m    130\u001b[0m \u001b[0matexit\u001b[0m\u001b[1;33m.\u001b[0m\u001b[0mregister\u001b[0m\u001b[1;33m(\u001b[0m\u001b[0mGcf\u001b[0m\u001b[1;33m.\u001b[0m\u001b[0mdestroy_all\u001b[0m\u001b[1;33m)\u001b[0m\u001b[1;33m\u001b[0m\u001b[1;33m\u001b[0m\u001b[0m\n",
      "\u001b[1;32m~\\AppData\\Local\\Continuum\\anaconda3\\envs\\ami\\lib\\site-packages\\matplotlib\\backend_bases.py\u001b[0m in \u001b[0;36mdraw_idle\u001b[1;34m(self, *args, **kwargs)\u001b[0m\n\u001b[0;32m   1905\u001b[0m         \u001b[1;32mif\u001b[0m \u001b[1;32mnot\u001b[0m \u001b[0mself\u001b[0m\u001b[1;33m.\u001b[0m\u001b[0m_is_idle_drawing\u001b[0m\u001b[1;33m:\u001b[0m\u001b[1;33m\u001b[0m\u001b[1;33m\u001b[0m\u001b[0m\n\u001b[0;32m   1906\u001b[0m             \u001b[1;32mwith\u001b[0m \u001b[0mself\u001b[0m\u001b[1;33m.\u001b[0m\u001b[0m_idle_draw_cntx\u001b[0m\u001b[1;33m(\u001b[0m\u001b[1;33m)\u001b[0m\u001b[1;33m:\u001b[0m\u001b[1;33m\u001b[0m\u001b[1;33m\u001b[0m\u001b[0m\n\u001b[1;32m-> 1907\u001b[1;33m                 \u001b[0mself\u001b[0m\u001b[1;33m.\u001b[0m\u001b[0mdraw\u001b[0m\u001b[1;33m(\u001b[0m\u001b[1;33m*\u001b[0m\u001b[0margs\u001b[0m\u001b[1;33m,\u001b[0m \u001b[1;33m**\u001b[0m\u001b[0mkwargs\u001b[0m\u001b[1;33m)\u001b[0m\u001b[1;33m\u001b[0m\u001b[1;33m\u001b[0m\u001b[0m\n\u001b[0m\u001b[0;32m   1908\u001b[0m \u001b[1;33m\u001b[0m\u001b[0m\n\u001b[0;32m   1909\u001b[0m     \u001b[1;32mdef\u001b[0m \u001b[0mdraw_cursor\u001b[0m\u001b[1;33m(\u001b[0m\u001b[0mself\u001b[0m\u001b[1;33m,\u001b[0m \u001b[0mevent\u001b[0m\u001b[1;33m)\u001b[0m\u001b[1;33m:\u001b[0m\u001b[1;33m\u001b[0m\u001b[1;33m\u001b[0m\u001b[0m\n",
      "\u001b[1;32m~\\AppData\\Local\\Continuum\\anaconda3\\envs\\ami\\lib\\site-packages\\matplotlib\\backends\\backend_agg.py\u001b[0m in \u001b[0;36mdraw\u001b[1;34m(self)\u001b[0m\n\u001b[0;32m    386\u001b[0m         \u001b[0mself\u001b[0m\u001b[1;33m.\u001b[0m\u001b[0mrenderer\u001b[0m \u001b[1;33m=\u001b[0m \u001b[0mself\u001b[0m\u001b[1;33m.\u001b[0m\u001b[0mget_renderer\u001b[0m\u001b[1;33m(\u001b[0m\u001b[0mcleared\u001b[0m\u001b[1;33m=\u001b[0m\u001b[1;32mTrue\u001b[0m\u001b[1;33m)\u001b[0m\u001b[1;33m\u001b[0m\u001b[1;33m\u001b[0m\u001b[0m\n\u001b[0;32m    387\u001b[0m         \u001b[1;32mwith\u001b[0m \u001b[0mRendererAgg\u001b[0m\u001b[1;33m.\u001b[0m\u001b[0mlock\u001b[0m\u001b[1;33m:\u001b[0m\u001b[1;33m\u001b[0m\u001b[1;33m\u001b[0m\u001b[0m\n\u001b[1;32m--> 388\u001b[1;33m             \u001b[0mself\u001b[0m\u001b[1;33m.\u001b[0m\u001b[0mfigure\u001b[0m\u001b[1;33m.\u001b[0m\u001b[0mdraw\u001b[0m\u001b[1;33m(\u001b[0m\u001b[0mself\u001b[0m\u001b[1;33m.\u001b[0m\u001b[0mrenderer\u001b[0m\u001b[1;33m)\u001b[0m\u001b[1;33m\u001b[0m\u001b[1;33m\u001b[0m\u001b[0m\n\u001b[0m\u001b[0;32m    389\u001b[0m             \u001b[1;31m# A GUI class may be need to update a window using this draw, so\u001b[0m\u001b[1;33m\u001b[0m\u001b[1;33m\u001b[0m\u001b[1;33m\u001b[0m\u001b[0m\n\u001b[0;32m    390\u001b[0m             \u001b[1;31m# don't forget to call the superclass.\u001b[0m\u001b[1;33m\u001b[0m\u001b[1;33m\u001b[0m\u001b[1;33m\u001b[0m\u001b[0m\n",
      "\u001b[1;32m~\\AppData\\Local\\Continuum\\anaconda3\\envs\\ami\\lib\\site-packages\\matplotlib\\artist.py\u001b[0m in \u001b[0;36mdraw_wrapper\u001b[1;34m(artist, renderer, *args, **kwargs)\u001b[0m\n\u001b[0;32m     36\u001b[0m                 \u001b[0mrenderer\u001b[0m\u001b[1;33m.\u001b[0m\u001b[0mstart_filter\u001b[0m\u001b[1;33m(\u001b[0m\u001b[1;33m)\u001b[0m\u001b[1;33m\u001b[0m\u001b[1;33m\u001b[0m\u001b[0m\n\u001b[0;32m     37\u001b[0m \u001b[1;33m\u001b[0m\u001b[0m\n\u001b[1;32m---> 38\u001b[1;33m             \u001b[1;32mreturn\u001b[0m \u001b[0mdraw\u001b[0m\u001b[1;33m(\u001b[0m\u001b[0martist\u001b[0m\u001b[1;33m,\u001b[0m \u001b[0mrenderer\u001b[0m\u001b[1;33m,\u001b[0m \u001b[1;33m*\u001b[0m\u001b[0margs\u001b[0m\u001b[1;33m,\u001b[0m \u001b[1;33m**\u001b[0m\u001b[0mkwargs\u001b[0m\u001b[1;33m)\u001b[0m\u001b[1;33m\u001b[0m\u001b[1;33m\u001b[0m\u001b[0m\n\u001b[0m\u001b[0;32m     39\u001b[0m         \u001b[1;32mfinally\u001b[0m\u001b[1;33m:\u001b[0m\u001b[1;33m\u001b[0m\u001b[1;33m\u001b[0m\u001b[0m\n\u001b[0;32m     40\u001b[0m             \u001b[1;32mif\u001b[0m \u001b[0martist\u001b[0m\u001b[1;33m.\u001b[0m\u001b[0mget_agg_filter\u001b[0m\u001b[1;33m(\u001b[0m\u001b[1;33m)\u001b[0m \u001b[1;32mis\u001b[0m \u001b[1;32mnot\u001b[0m \u001b[1;32mNone\u001b[0m\u001b[1;33m:\u001b[0m\u001b[1;33m\u001b[0m\u001b[1;33m\u001b[0m\u001b[0m\n",
      "\u001b[1;32m~\\AppData\\Local\\Continuum\\anaconda3\\envs\\ami\\lib\\site-packages\\matplotlib\\figure.py\u001b[0m in \u001b[0;36mdraw\u001b[1;34m(self, renderer)\u001b[0m\n\u001b[0;32m   1707\u001b[0m             \u001b[0mself\u001b[0m\u001b[1;33m.\u001b[0m\u001b[0mpatch\u001b[0m\u001b[1;33m.\u001b[0m\u001b[0mdraw\u001b[0m\u001b[1;33m(\u001b[0m\u001b[0mrenderer\u001b[0m\u001b[1;33m)\u001b[0m\u001b[1;33m\u001b[0m\u001b[1;33m\u001b[0m\u001b[0m\n\u001b[0;32m   1708\u001b[0m             mimage._draw_list_compositing_images(\n\u001b[1;32m-> 1709\u001b[1;33m                 renderer, self, artists, self.suppressComposite)\n\u001b[0m\u001b[0;32m   1710\u001b[0m \u001b[1;33m\u001b[0m\u001b[0m\n\u001b[0;32m   1711\u001b[0m             \u001b[0mrenderer\u001b[0m\u001b[1;33m.\u001b[0m\u001b[0mclose_group\u001b[0m\u001b[1;33m(\u001b[0m\u001b[1;34m'figure'\u001b[0m\u001b[1;33m)\u001b[0m\u001b[1;33m\u001b[0m\u001b[1;33m\u001b[0m\u001b[0m\n",
      "\u001b[1;32m~\\AppData\\Local\\Continuum\\anaconda3\\envs\\ami\\lib\\site-packages\\matplotlib\\image.py\u001b[0m in \u001b[0;36m_draw_list_compositing_images\u001b[1;34m(renderer, parent, artists, suppress_composite)\u001b[0m\n\u001b[0;32m    133\u001b[0m     \u001b[1;32mif\u001b[0m \u001b[0mnot_composite\u001b[0m \u001b[1;32mor\u001b[0m \u001b[1;32mnot\u001b[0m \u001b[0mhas_images\u001b[0m\u001b[1;33m:\u001b[0m\u001b[1;33m\u001b[0m\u001b[1;33m\u001b[0m\u001b[0m\n\u001b[0;32m    134\u001b[0m         \u001b[1;32mfor\u001b[0m \u001b[0ma\u001b[0m \u001b[1;32min\u001b[0m \u001b[0martists\u001b[0m\u001b[1;33m:\u001b[0m\u001b[1;33m\u001b[0m\u001b[1;33m\u001b[0m\u001b[0m\n\u001b[1;32m--> 135\u001b[1;33m             \u001b[0ma\u001b[0m\u001b[1;33m.\u001b[0m\u001b[0mdraw\u001b[0m\u001b[1;33m(\u001b[0m\u001b[0mrenderer\u001b[0m\u001b[1;33m)\u001b[0m\u001b[1;33m\u001b[0m\u001b[1;33m\u001b[0m\u001b[0m\n\u001b[0m\u001b[0;32m    136\u001b[0m     \u001b[1;32melse\u001b[0m\u001b[1;33m:\u001b[0m\u001b[1;33m\u001b[0m\u001b[1;33m\u001b[0m\u001b[0m\n\u001b[0;32m    137\u001b[0m         \u001b[1;31m# Composite any adjacent images together\u001b[0m\u001b[1;33m\u001b[0m\u001b[1;33m\u001b[0m\u001b[1;33m\u001b[0m\u001b[0m\n",
      "\u001b[1;32m~\\AppData\\Local\\Continuum\\anaconda3\\envs\\ami\\lib\\site-packages\\matplotlib\\artist.py\u001b[0m in \u001b[0;36mdraw_wrapper\u001b[1;34m(artist, renderer, *args, **kwargs)\u001b[0m\n\u001b[0;32m     36\u001b[0m                 \u001b[0mrenderer\u001b[0m\u001b[1;33m.\u001b[0m\u001b[0mstart_filter\u001b[0m\u001b[1;33m(\u001b[0m\u001b[1;33m)\u001b[0m\u001b[1;33m\u001b[0m\u001b[1;33m\u001b[0m\u001b[0m\n\u001b[0;32m     37\u001b[0m \u001b[1;33m\u001b[0m\u001b[0m\n\u001b[1;32m---> 38\u001b[1;33m             \u001b[1;32mreturn\u001b[0m \u001b[0mdraw\u001b[0m\u001b[1;33m(\u001b[0m\u001b[0martist\u001b[0m\u001b[1;33m,\u001b[0m \u001b[0mrenderer\u001b[0m\u001b[1;33m,\u001b[0m \u001b[1;33m*\u001b[0m\u001b[0margs\u001b[0m\u001b[1;33m,\u001b[0m \u001b[1;33m**\u001b[0m\u001b[0mkwargs\u001b[0m\u001b[1;33m)\u001b[0m\u001b[1;33m\u001b[0m\u001b[1;33m\u001b[0m\u001b[0m\n\u001b[0m\u001b[0;32m     39\u001b[0m         \u001b[1;32mfinally\u001b[0m\u001b[1;33m:\u001b[0m\u001b[1;33m\u001b[0m\u001b[1;33m\u001b[0m\u001b[0m\n\u001b[0;32m     40\u001b[0m             \u001b[1;32mif\u001b[0m \u001b[0martist\u001b[0m\u001b[1;33m.\u001b[0m\u001b[0mget_agg_filter\u001b[0m\u001b[1;33m(\u001b[0m\u001b[1;33m)\u001b[0m \u001b[1;32mis\u001b[0m \u001b[1;32mnot\u001b[0m \u001b[1;32mNone\u001b[0m\u001b[1;33m:\u001b[0m\u001b[1;33m\u001b[0m\u001b[1;33m\u001b[0m\u001b[0m\n",
      "\u001b[1;32m~\\AppData\\Local\\Continuum\\anaconda3\\envs\\ami\\lib\\site-packages\\cartopy\\mpl\\geoaxes.py\u001b[0m in \u001b[0;36mdraw\u001b[1;34m(self, renderer, inframe)\u001b[0m\n\u001b[0;32m    380\u001b[0m             \u001b[1;32mfor\u001b[0m \u001b[0mfactory\u001b[0m\u001b[1;33m,\u001b[0m \u001b[0margs\u001b[0m\u001b[1;33m,\u001b[0m \u001b[0mkwargs\u001b[0m \u001b[1;32min\u001b[0m \u001b[0mself\u001b[0m\u001b[1;33m.\u001b[0m\u001b[0mimg_factories\u001b[0m\u001b[1;33m:\u001b[0m\u001b[1;33m\u001b[0m\u001b[1;33m\u001b[0m\u001b[0m\n\u001b[0;32m    381\u001b[0m                 img, extent, origin = factory.image_for_domain(\n\u001b[1;32m--> 382\u001b[1;33m                     self._get_extent_geom(factory.crs), args[0])\n\u001b[0m\u001b[0;32m    383\u001b[0m                 self.imshow(img, extent=extent, origin=origin,\n\u001b[0;32m    384\u001b[0m                             transform=factory.crs, *args[1:], **kwargs)\n",
      "\u001b[1;32m~\\AppData\\Local\\Continuum\\anaconda3\\envs\\ami\\lib\\site-packages\\cartopy\\io\\img_tiles.py\u001b[0m in \u001b[0;36mimage_for_domain\u001b[1;34m(self, target_domain, target_z)\u001b[0m\n\u001b[0;32m     66\u001b[0m             \u001b[0mtiles\u001b[0m\u001b[1;33m.\u001b[0m\u001b[0mappend\u001b[0m\u001b[1;33m(\u001b[0m\u001b[1;33m[\u001b[0m\u001b[0mimg\u001b[0m\u001b[1;33m,\u001b[0m \u001b[0mx\u001b[0m\u001b[1;33m,\u001b[0m \u001b[0my\u001b[0m\u001b[1;33m,\u001b[0m \u001b[0morigin\u001b[0m\u001b[1;33m]\u001b[0m\u001b[1;33m)\u001b[0m\u001b[1;33m\u001b[0m\u001b[1;33m\u001b[0m\u001b[0m\n\u001b[0;32m     67\u001b[0m \u001b[1;33m\u001b[0m\u001b[0m\n\u001b[1;32m---> 68\u001b[1;33m         \u001b[0mimg\u001b[0m\u001b[1;33m,\u001b[0m \u001b[0mextent\u001b[0m\u001b[1;33m,\u001b[0m \u001b[0morigin\u001b[0m \u001b[1;33m=\u001b[0m \u001b[0m_merge_tiles\u001b[0m\u001b[1;33m(\u001b[0m\u001b[0mtiles\u001b[0m\u001b[1;33m)\u001b[0m\u001b[1;33m\u001b[0m\u001b[1;33m\u001b[0m\u001b[0m\n\u001b[0m\u001b[0;32m     69\u001b[0m         \u001b[1;32mreturn\u001b[0m \u001b[0mimg\u001b[0m\u001b[1;33m,\u001b[0m \u001b[0mextent\u001b[0m\u001b[1;33m,\u001b[0m \u001b[0morigin\u001b[0m\u001b[1;33m\u001b[0m\u001b[1;33m\u001b[0m\u001b[0m\n\u001b[0;32m     70\u001b[0m \u001b[1;33m\u001b[0m\u001b[0m\n",
      "\u001b[1;32m~\\AppData\\Local\\Continuum\\anaconda3\\envs\\ami\\lib\\site-packages\\cartopy\\io\\img_tiles.py\u001b[0m in \u001b[0;36m_merge_tiles\u001b[1;34m(tiles)\u001b[0m\n\u001b[0;32m    501\u001b[0m     \u001b[1;34m\"\"\"Return a single image, merging the given images.\"\"\"\u001b[0m\u001b[1;33m\u001b[0m\u001b[1;33m\u001b[0m\u001b[0m\n\u001b[0;32m    502\u001b[0m     \u001b[1;32mif\u001b[0m \u001b[1;32mnot\u001b[0m \u001b[0mtiles\u001b[0m\u001b[1;33m:\u001b[0m\u001b[1;33m\u001b[0m\u001b[1;33m\u001b[0m\u001b[0m\n\u001b[1;32m--> 503\u001b[1;33m         raise ValueError('A non-empty list of tiles should '\n\u001b[0m\u001b[0;32m    504\u001b[0m                          'be provided to merge.')\n\u001b[0;32m    505\u001b[0m     \u001b[0mxset\u001b[0m \u001b[1;33m=\u001b[0m \u001b[1;33m[\u001b[0m\u001b[0mset\u001b[0m\u001b[1;33m(\u001b[0m\u001b[0mx\u001b[0m\u001b[1;33m)\u001b[0m \u001b[1;32mfor\u001b[0m \u001b[0mi\u001b[0m\u001b[1;33m,\u001b[0m \u001b[0mx\u001b[0m\u001b[1;33m,\u001b[0m \u001b[0my\u001b[0m\u001b[1;33m,\u001b[0m \u001b[0m_\u001b[0m \u001b[1;32min\u001b[0m \u001b[0mtiles\u001b[0m\u001b[1;33m]\u001b[0m\u001b[1;33m\u001b[0m\u001b[1;33m\u001b[0m\u001b[0m\n",
      "\u001b[1;31mValueError\u001b[0m: A non-empty list of tiles should be provided to merge."
     ]
    },
    {
     "ename": "ValueError",
     "evalue": "A non-empty list of tiles should be provided to merge.",
     "output_type": "error",
     "traceback": [
      "\u001b[1;31m---------------------------------------------------------------------------\u001b[0m",
      "\u001b[1;31mValueError\u001b[0m                                Traceback (most recent call last)",
      "\u001b[1;32m~\\AppData\\Local\\Continuum\\anaconda3\\envs\\ami\\lib\\site-packages\\IPython\\core\\formatters.py\u001b[0m in \u001b[0;36m__call__\u001b[1;34m(self, obj)\u001b[0m\n\u001b[0;32m    339\u001b[0m                 \u001b[1;32mpass\u001b[0m\u001b[1;33m\u001b[0m\u001b[1;33m\u001b[0m\u001b[0m\n\u001b[0;32m    340\u001b[0m             \u001b[1;32melse\u001b[0m\u001b[1;33m:\u001b[0m\u001b[1;33m\u001b[0m\u001b[1;33m\u001b[0m\u001b[0m\n\u001b[1;32m--> 341\u001b[1;33m                 \u001b[1;32mreturn\u001b[0m \u001b[0mprinter\u001b[0m\u001b[1;33m(\u001b[0m\u001b[0mobj\u001b[0m\u001b[1;33m)\u001b[0m\u001b[1;33m\u001b[0m\u001b[1;33m\u001b[0m\u001b[0m\n\u001b[0m\u001b[0;32m    342\u001b[0m             \u001b[1;31m# Finally look for special method names\u001b[0m\u001b[1;33m\u001b[0m\u001b[1;33m\u001b[0m\u001b[1;33m\u001b[0m\u001b[0m\n\u001b[0;32m    343\u001b[0m             \u001b[0mmethod\u001b[0m \u001b[1;33m=\u001b[0m \u001b[0mget_real_method\u001b[0m\u001b[1;33m(\u001b[0m\u001b[0mobj\u001b[0m\u001b[1;33m,\u001b[0m \u001b[0mself\u001b[0m\u001b[1;33m.\u001b[0m\u001b[0mprint_method\u001b[0m\u001b[1;33m)\u001b[0m\u001b[1;33m\u001b[0m\u001b[1;33m\u001b[0m\u001b[0m\n",
      "\u001b[1;32m~\\AppData\\Local\\Continuum\\anaconda3\\envs\\ami\\lib\\site-packages\\IPython\\core\\pylabtools.py\u001b[0m in \u001b[0;36m<lambda>\u001b[1;34m(fig)\u001b[0m\n\u001b[0;32m    242\u001b[0m \u001b[1;33m\u001b[0m\u001b[0m\n\u001b[0;32m    243\u001b[0m     \u001b[1;32mif\u001b[0m \u001b[1;34m'png'\u001b[0m \u001b[1;32min\u001b[0m \u001b[0mformats\u001b[0m\u001b[1;33m:\u001b[0m\u001b[1;33m\u001b[0m\u001b[1;33m\u001b[0m\u001b[0m\n\u001b[1;32m--> 244\u001b[1;33m         \u001b[0mpng_formatter\u001b[0m\u001b[1;33m.\u001b[0m\u001b[0mfor_type\u001b[0m\u001b[1;33m(\u001b[0m\u001b[0mFigure\u001b[0m\u001b[1;33m,\u001b[0m \u001b[1;32mlambda\u001b[0m \u001b[0mfig\u001b[0m\u001b[1;33m:\u001b[0m \u001b[0mprint_figure\u001b[0m\u001b[1;33m(\u001b[0m\u001b[0mfig\u001b[0m\u001b[1;33m,\u001b[0m \u001b[1;34m'png'\u001b[0m\u001b[1;33m,\u001b[0m \u001b[1;33m**\u001b[0m\u001b[0mkwargs\u001b[0m\u001b[1;33m)\u001b[0m\u001b[1;33m)\u001b[0m\u001b[1;33m\u001b[0m\u001b[1;33m\u001b[0m\u001b[0m\n\u001b[0m\u001b[0;32m    245\u001b[0m     \u001b[1;32mif\u001b[0m \u001b[1;34m'retina'\u001b[0m \u001b[1;32min\u001b[0m \u001b[0mformats\u001b[0m \u001b[1;32mor\u001b[0m \u001b[1;34m'png2x'\u001b[0m \u001b[1;32min\u001b[0m \u001b[0mformats\u001b[0m\u001b[1;33m:\u001b[0m\u001b[1;33m\u001b[0m\u001b[1;33m\u001b[0m\u001b[0m\n\u001b[0;32m    246\u001b[0m         \u001b[0mpng_formatter\u001b[0m\u001b[1;33m.\u001b[0m\u001b[0mfor_type\u001b[0m\u001b[1;33m(\u001b[0m\u001b[0mFigure\u001b[0m\u001b[1;33m,\u001b[0m \u001b[1;32mlambda\u001b[0m \u001b[0mfig\u001b[0m\u001b[1;33m:\u001b[0m \u001b[0mretina_figure\u001b[0m\u001b[1;33m(\u001b[0m\u001b[0mfig\u001b[0m\u001b[1;33m,\u001b[0m \u001b[1;33m**\u001b[0m\u001b[0mkwargs\u001b[0m\u001b[1;33m)\u001b[0m\u001b[1;33m)\u001b[0m\u001b[1;33m\u001b[0m\u001b[1;33m\u001b[0m\u001b[0m\n",
      "\u001b[1;32m~\\AppData\\Local\\Continuum\\anaconda3\\envs\\ami\\lib\\site-packages\\IPython\\core\\pylabtools.py\u001b[0m in \u001b[0;36mprint_figure\u001b[1;34m(fig, fmt, bbox_inches, **kwargs)\u001b[0m\n\u001b[0;32m    126\u001b[0m \u001b[1;33m\u001b[0m\u001b[0m\n\u001b[0;32m    127\u001b[0m     \u001b[0mbytes_io\u001b[0m \u001b[1;33m=\u001b[0m \u001b[0mBytesIO\u001b[0m\u001b[1;33m(\u001b[0m\u001b[1;33m)\u001b[0m\u001b[1;33m\u001b[0m\u001b[1;33m\u001b[0m\u001b[0m\n\u001b[1;32m--> 128\u001b[1;33m     \u001b[0mfig\u001b[0m\u001b[1;33m.\u001b[0m\u001b[0mcanvas\u001b[0m\u001b[1;33m.\u001b[0m\u001b[0mprint_figure\u001b[0m\u001b[1;33m(\u001b[0m\u001b[0mbytes_io\u001b[0m\u001b[1;33m,\u001b[0m \u001b[1;33m**\u001b[0m\u001b[0mkw\u001b[0m\u001b[1;33m)\u001b[0m\u001b[1;33m\u001b[0m\u001b[1;33m\u001b[0m\u001b[0m\n\u001b[0m\u001b[0;32m    129\u001b[0m     \u001b[0mdata\u001b[0m \u001b[1;33m=\u001b[0m \u001b[0mbytes_io\u001b[0m\u001b[1;33m.\u001b[0m\u001b[0mgetvalue\u001b[0m\u001b[1;33m(\u001b[0m\u001b[1;33m)\u001b[0m\u001b[1;33m\u001b[0m\u001b[1;33m\u001b[0m\u001b[0m\n\u001b[0;32m    130\u001b[0m     \u001b[1;32mif\u001b[0m \u001b[0mfmt\u001b[0m \u001b[1;33m==\u001b[0m \u001b[1;34m'svg'\u001b[0m\u001b[1;33m:\u001b[0m\u001b[1;33m\u001b[0m\u001b[1;33m\u001b[0m\u001b[0m\n",
      "\u001b[1;32m~\\AppData\\Local\\Continuum\\anaconda3\\envs\\ami\\lib\\site-packages\\matplotlib\\backend_bases.py\u001b[0m in \u001b[0;36mprint_figure\u001b[1;34m(self, filename, dpi, facecolor, edgecolor, orientation, format, bbox_inches, **kwargs)\u001b[0m\n\u001b[0;32m   2054\u001b[0m                         \u001b[0morientation\u001b[0m\u001b[1;33m=\u001b[0m\u001b[0morientation\u001b[0m\u001b[1;33m,\u001b[0m\u001b[1;33m\u001b[0m\u001b[1;33m\u001b[0m\u001b[0m\n\u001b[0;32m   2055\u001b[0m                         \u001b[0mdryrun\u001b[0m\u001b[1;33m=\u001b[0m\u001b[1;32mTrue\u001b[0m\u001b[1;33m,\u001b[0m\u001b[1;33m\u001b[0m\u001b[1;33m\u001b[0m\u001b[0m\n\u001b[1;32m-> 2056\u001b[1;33m                         **kwargs)\n\u001b[0m\u001b[0;32m   2057\u001b[0m                     \u001b[0mrenderer\u001b[0m \u001b[1;33m=\u001b[0m \u001b[0mself\u001b[0m\u001b[1;33m.\u001b[0m\u001b[0mfigure\u001b[0m\u001b[1;33m.\u001b[0m\u001b[0m_cachedRenderer\u001b[0m\u001b[1;33m\u001b[0m\u001b[1;33m\u001b[0m\u001b[0m\n\u001b[0;32m   2058\u001b[0m                     \u001b[0mbbox_artists\u001b[0m \u001b[1;33m=\u001b[0m \u001b[0mkwargs\u001b[0m\u001b[1;33m.\u001b[0m\u001b[0mpop\u001b[0m\u001b[1;33m(\u001b[0m\u001b[1;34m\"bbox_extra_artists\"\u001b[0m\u001b[1;33m,\u001b[0m \u001b[1;32mNone\u001b[0m\u001b[1;33m)\u001b[0m\u001b[1;33m\u001b[0m\u001b[1;33m\u001b[0m\u001b[0m\n",
      "\u001b[1;32m~\\AppData\\Local\\Continuum\\anaconda3\\envs\\ami\\lib\\site-packages\\matplotlib\\backends\\backend_agg.py\u001b[0m in \u001b[0;36mprint_png\u001b[1;34m(self, filename_or_obj, metadata, pil_kwargs, *args, **kwargs)\u001b[0m\n\u001b[0;32m    525\u001b[0m \u001b[1;33m\u001b[0m\u001b[0m\n\u001b[0;32m    526\u001b[0m         \u001b[1;32melse\u001b[0m\u001b[1;33m:\u001b[0m\u001b[1;33m\u001b[0m\u001b[1;33m\u001b[0m\u001b[0m\n\u001b[1;32m--> 527\u001b[1;33m             \u001b[0mFigureCanvasAgg\u001b[0m\u001b[1;33m.\u001b[0m\u001b[0mdraw\u001b[0m\u001b[1;33m(\u001b[0m\u001b[0mself\u001b[0m\u001b[1;33m)\u001b[0m\u001b[1;33m\u001b[0m\u001b[1;33m\u001b[0m\u001b[0m\n\u001b[0m\u001b[0;32m    528\u001b[0m             \u001b[0mrenderer\u001b[0m \u001b[1;33m=\u001b[0m \u001b[0mself\u001b[0m\u001b[1;33m.\u001b[0m\u001b[0mget_renderer\u001b[0m\u001b[1;33m(\u001b[0m\u001b[1;33m)\u001b[0m\u001b[1;33m\u001b[0m\u001b[1;33m\u001b[0m\u001b[0m\n\u001b[0;32m    529\u001b[0m             \u001b[1;32mwith\u001b[0m \u001b[0mcbook\u001b[0m\u001b[1;33m.\u001b[0m\u001b[0m_setattr_cm\u001b[0m\u001b[1;33m(\u001b[0m\u001b[0mrenderer\u001b[0m\u001b[1;33m,\u001b[0m \u001b[0mdpi\u001b[0m\u001b[1;33m=\u001b[0m\u001b[0mself\u001b[0m\u001b[1;33m.\u001b[0m\u001b[0mfigure\u001b[0m\u001b[1;33m.\u001b[0m\u001b[0mdpi\u001b[0m\u001b[1;33m)\u001b[0m\u001b[1;33m,\u001b[0m\u001b[0;31m \u001b[0m\u001b[0;31m\\\u001b[0m\u001b[1;33m\u001b[0m\u001b[1;33m\u001b[0m\u001b[0m\n",
      "\u001b[1;32m~\\AppData\\Local\\Continuum\\anaconda3\\envs\\ami\\lib\\site-packages\\matplotlib\\backends\\backend_agg.py\u001b[0m in \u001b[0;36mdraw\u001b[1;34m(self)\u001b[0m\n\u001b[0;32m    386\u001b[0m         \u001b[0mself\u001b[0m\u001b[1;33m.\u001b[0m\u001b[0mrenderer\u001b[0m \u001b[1;33m=\u001b[0m \u001b[0mself\u001b[0m\u001b[1;33m.\u001b[0m\u001b[0mget_renderer\u001b[0m\u001b[1;33m(\u001b[0m\u001b[0mcleared\u001b[0m\u001b[1;33m=\u001b[0m\u001b[1;32mTrue\u001b[0m\u001b[1;33m)\u001b[0m\u001b[1;33m\u001b[0m\u001b[1;33m\u001b[0m\u001b[0m\n\u001b[0;32m    387\u001b[0m         \u001b[1;32mwith\u001b[0m \u001b[0mRendererAgg\u001b[0m\u001b[1;33m.\u001b[0m\u001b[0mlock\u001b[0m\u001b[1;33m:\u001b[0m\u001b[1;33m\u001b[0m\u001b[1;33m\u001b[0m\u001b[0m\n\u001b[1;32m--> 388\u001b[1;33m             \u001b[0mself\u001b[0m\u001b[1;33m.\u001b[0m\u001b[0mfigure\u001b[0m\u001b[1;33m.\u001b[0m\u001b[0mdraw\u001b[0m\u001b[1;33m(\u001b[0m\u001b[0mself\u001b[0m\u001b[1;33m.\u001b[0m\u001b[0mrenderer\u001b[0m\u001b[1;33m)\u001b[0m\u001b[1;33m\u001b[0m\u001b[1;33m\u001b[0m\u001b[0m\n\u001b[0m\u001b[0;32m    389\u001b[0m             \u001b[1;31m# A GUI class may be need to update a window using this draw, so\u001b[0m\u001b[1;33m\u001b[0m\u001b[1;33m\u001b[0m\u001b[1;33m\u001b[0m\u001b[0m\n\u001b[0;32m    390\u001b[0m             \u001b[1;31m# don't forget to call the superclass.\u001b[0m\u001b[1;33m\u001b[0m\u001b[1;33m\u001b[0m\u001b[1;33m\u001b[0m\u001b[0m\n",
      "\u001b[1;32m~\\AppData\\Local\\Continuum\\anaconda3\\envs\\ami\\lib\\site-packages\\matplotlib\\artist.py\u001b[0m in \u001b[0;36mdraw_wrapper\u001b[1;34m(artist, renderer, *args, **kwargs)\u001b[0m\n\u001b[0;32m     36\u001b[0m                 \u001b[0mrenderer\u001b[0m\u001b[1;33m.\u001b[0m\u001b[0mstart_filter\u001b[0m\u001b[1;33m(\u001b[0m\u001b[1;33m)\u001b[0m\u001b[1;33m\u001b[0m\u001b[1;33m\u001b[0m\u001b[0m\n\u001b[0;32m     37\u001b[0m \u001b[1;33m\u001b[0m\u001b[0m\n\u001b[1;32m---> 38\u001b[1;33m             \u001b[1;32mreturn\u001b[0m \u001b[0mdraw\u001b[0m\u001b[1;33m(\u001b[0m\u001b[0martist\u001b[0m\u001b[1;33m,\u001b[0m \u001b[0mrenderer\u001b[0m\u001b[1;33m,\u001b[0m \u001b[1;33m*\u001b[0m\u001b[0margs\u001b[0m\u001b[1;33m,\u001b[0m \u001b[1;33m**\u001b[0m\u001b[0mkwargs\u001b[0m\u001b[1;33m)\u001b[0m\u001b[1;33m\u001b[0m\u001b[1;33m\u001b[0m\u001b[0m\n\u001b[0m\u001b[0;32m     39\u001b[0m         \u001b[1;32mfinally\u001b[0m\u001b[1;33m:\u001b[0m\u001b[1;33m\u001b[0m\u001b[1;33m\u001b[0m\u001b[0m\n\u001b[0;32m     40\u001b[0m             \u001b[1;32mif\u001b[0m \u001b[0martist\u001b[0m\u001b[1;33m.\u001b[0m\u001b[0mget_agg_filter\u001b[0m\u001b[1;33m(\u001b[0m\u001b[1;33m)\u001b[0m \u001b[1;32mis\u001b[0m \u001b[1;32mnot\u001b[0m \u001b[1;32mNone\u001b[0m\u001b[1;33m:\u001b[0m\u001b[1;33m\u001b[0m\u001b[1;33m\u001b[0m\u001b[0m\n",
      "\u001b[1;32m~\\AppData\\Local\\Continuum\\anaconda3\\envs\\ami\\lib\\site-packages\\matplotlib\\figure.py\u001b[0m in \u001b[0;36mdraw\u001b[1;34m(self, renderer)\u001b[0m\n\u001b[0;32m   1707\u001b[0m             \u001b[0mself\u001b[0m\u001b[1;33m.\u001b[0m\u001b[0mpatch\u001b[0m\u001b[1;33m.\u001b[0m\u001b[0mdraw\u001b[0m\u001b[1;33m(\u001b[0m\u001b[0mrenderer\u001b[0m\u001b[1;33m)\u001b[0m\u001b[1;33m\u001b[0m\u001b[1;33m\u001b[0m\u001b[0m\n\u001b[0;32m   1708\u001b[0m             mimage._draw_list_compositing_images(\n\u001b[1;32m-> 1709\u001b[1;33m                 renderer, self, artists, self.suppressComposite)\n\u001b[0m\u001b[0;32m   1710\u001b[0m \u001b[1;33m\u001b[0m\u001b[0m\n\u001b[0;32m   1711\u001b[0m             \u001b[0mrenderer\u001b[0m\u001b[1;33m.\u001b[0m\u001b[0mclose_group\u001b[0m\u001b[1;33m(\u001b[0m\u001b[1;34m'figure'\u001b[0m\u001b[1;33m)\u001b[0m\u001b[1;33m\u001b[0m\u001b[1;33m\u001b[0m\u001b[0m\n",
      "\u001b[1;32m~\\AppData\\Local\\Continuum\\anaconda3\\envs\\ami\\lib\\site-packages\\matplotlib\\image.py\u001b[0m in \u001b[0;36m_draw_list_compositing_images\u001b[1;34m(renderer, parent, artists, suppress_composite)\u001b[0m\n\u001b[0;32m    133\u001b[0m     \u001b[1;32mif\u001b[0m \u001b[0mnot_composite\u001b[0m \u001b[1;32mor\u001b[0m \u001b[1;32mnot\u001b[0m \u001b[0mhas_images\u001b[0m\u001b[1;33m:\u001b[0m\u001b[1;33m\u001b[0m\u001b[1;33m\u001b[0m\u001b[0m\n\u001b[0;32m    134\u001b[0m         \u001b[1;32mfor\u001b[0m \u001b[0ma\u001b[0m \u001b[1;32min\u001b[0m \u001b[0martists\u001b[0m\u001b[1;33m:\u001b[0m\u001b[1;33m\u001b[0m\u001b[1;33m\u001b[0m\u001b[0m\n\u001b[1;32m--> 135\u001b[1;33m             \u001b[0ma\u001b[0m\u001b[1;33m.\u001b[0m\u001b[0mdraw\u001b[0m\u001b[1;33m(\u001b[0m\u001b[0mrenderer\u001b[0m\u001b[1;33m)\u001b[0m\u001b[1;33m\u001b[0m\u001b[1;33m\u001b[0m\u001b[0m\n\u001b[0m\u001b[0;32m    136\u001b[0m     \u001b[1;32melse\u001b[0m\u001b[1;33m:\u001b[0m\u001b[1;33m\u001b[0m\u001b[1;33m\u001b[0m\u001b[0m\n\u001b[0;32m    137\u001b[0m         \u001b[1;31m# Composite any adjacent images together\u001b[0m\u001b[1;33m\u001b[0m\u001b[1;33m\u001b[0m\u001b[1;33m\u001b[0m\u001b[0m\n",
      "\u001b[1;32m~\\AppData\\Local\\Continuum\\anaconda3\\envs\\ami\\lib\\site-packages\\matplotlib\\artist.py\u001b[0m in \u001b[0;36mdraw_wrapper\u001b[1;34m(artist, renderer, *args, **kwargs)\u001b[0m\n\u001b[0;32m     36\u001b[0m                 \u001b[0mrenderer\u001b[0m\u001b[1;33m.\u001b[0m\u001b[0mstart_filter\u001b[0m\u001b[1;33m(\u001b[0m\u001b[1;33m)\u001b[0m\u001b[1;33m\u001b[0m\u001b[1;33m\u001b[0m\u001b[0m\n\u001b[0;32m     37\u001b[0m \u001b[1;33m\u001b[0m\u001b[0m\n\u001b[1;32m---> 38\u001b[1;33m             \u001b[1;32mreturn\u001b[0m \u001b[0mdraw\u001b[0m\u001b[1;33m(\u001b[0m\u001b[0martist\u001b[0m\u001b[1;33m,\u001b[0m \u001b[0mrenderer\u001b[0m\u001b[1;33m,\u001b[0m \u001b[1;33m*\u001b[0m\u001b[0margs\u001b[0m\u001b[1;33m,\u001b[0m \u001b[1;33m**\u001b[0m\u001b[0mkwargs\u001b[0m\u001b[1;33m)\u001b[0m\u001b[1;33m\u001b[0m\u001b[1;33m\u001b[0m\u001b[0m\n\u001b[0m\u001b[0;32m     39\u001b[0m         \u001b[1;32mfinally\u001b[0m\u001b[1;33m:\u001b[0m\u001b[1;33m\u001b[0m\u001b[1;33m\u001b[0m\u001b[0m\n\u001b[0;32m     40\u001b[0m             \u001b[1;32mif\u001b[0m \u001b[0martist\u001b[0m\u001b[1;33m.\u001b[0m\u001b[0mget_agg_filter\u001b[0m\u001b[1;33m(\u001b[0m\u001b[1;33m)\u001b[0m \u001b[1;32mis\u001b[0m \u001b[1;32mnot\u001b[0m \u001b[1;32mNone\u001b[0m\u001b[1;33m:\u001b[0m\u001b[1;33m\u001b[0m\u001b[1;33m\u001b[0m\u001b[0m\n",
      "\u001b[1;32m~\\AppData\\Local\\Continuum\\anaconda3\\envs\\ami\\lib\\site-packages\\cartopy\\mpl\\geoaxes.py\u001b[0m in \u001b[0;36mdraw\u001b[1;34m(self, renderer, inframe)\u001b[0m\n\u001b[0;32m    380\u001b[0m             \u001b[1;32mfor\u001b[0m \u001b[0mfactory\u001b[0m\u001b[1;33m,\u001b[0m \u001b[0margs\u001b[0m\u001b[1;33m,\u001b[0m \u001b[0mkwargs\u001b[0m \u001b[1;32min\u001b[0m \u001b[0mself\u001b[0m\u001b[1;33m.\u001b[0m\u001b[0mimg_factories\u001b[0m\u001b[1;33m:\u001b[0m\u001b[1;33m\u001b[0m\u001b[1;33m\u001b[0m\u001b[0m\n\u001b[0;32m    381\u001b[0m                 img, extent, origin = factory.image_for_domain(\n\u001b[1;32m--> 382\u001b[1;33m                     self._get_extent_geom(factory.crs), args[0])\n\u001b[0m\u001b[0;32m    383\u001b[0m                 self.imshow(img, extent=extent, origin=origin,\n\u001b[0;32m    384\u001b[0m                             transform=factory.crs, *args[1:], **kwargs)\n",
      "\u001b[1;32m~\\AppData\\Local\\Continuum\\anaconda3\\envs\\ami\\lib\\site-packages\\cartopy\\io\\img_tiles.py\u001b[0m in \u001b[0;36mimage_for_domain\u001b[1;34m(self, target_domain, target_z)\u001b[0m\n\u001b[0;32m     66\u001b[0m             \u001b[0mtiles\u001b[0m\u001b[1;33m.\u001b[0m\u001b[0mappend\u001b[0m\u001b[1;33m(\u001b[0m\u001b[1;33m[\u001b[0m\u001b[0mimg\u001b[0m\u001b[1;33m,\u001b[0m \u001b[0mx\u001b[0m\u001b[1;33m,\u001b[0m \u001b[0my\u001b[0m\u001b[1;33m,\u001b[0m \u001b[0morigin\u001b[0m\u001b[1;33m]\u001b[0m\u001b[1;33m)\u001b[0m\u001b[1;33m\u001b[0m\u001b[1;33m\u001b[0m\u001b[0m\n\u001b[0;32m     67\u001b[0m \u001b[1;33m\u001b[0m\u001b[0m\n\u001b[1;32m---> 68\u001b[1;33m         \u001b[0mimg\u001b[0m\u001b[1;33m,\u001b[0m \u001b[0mextent\u001b[0m\u001b[1;33m,\u001b[0m \u001b[0morigin\u001b[0m \u001b[1;33m=\u001b[0m \u001b[0m_merge_tiles\u001b[0m\u001b[1;33m(\u001b[0m\u001b[0mtiles\u001b[0m\u001b[1;33m)\u001b[0m\u001b[1;33m\u001b[0m\u001b[1;33m\u001b[0m\u001b[0m\n\u001b[0m\u001b[0;32m     69\u001b[0m         \u001b[1;32mreturn\u001b[0m \u001b[0mimg\u001b[0m\u001b[1;33m,\u001b[0m \u001b[0mextent\u001b[0m\u001b[1;33m,\u001b[0m \u001b[0morigin\u001b[0m\u001b[1;33m\u001b[0m\u001b[1;33m\u001b[0m\u001b[0m\n\u001b[0;32m     70\u001b[0m \u001b[1;33m\u001b[0m\u001b[0m\n",
      "\u001b[1;32m~\\AppData\\Local\\Continuum\\anaconda3\\envs\\ami\\lib\\site-packages\\cartopy\\io\\img_tiles.py\u001b[0m in \u001b[0;36m_merge_tiles\u001b[1;34m(tiles)\u001b[0m\n\u001b[0;32m    501\u001b[0m     \u001b[1;34m\"\"\"Return a single image, merging the given images.\"\"\"\u001b[0m\u001b[1;33m\u001b[0m\u001b[1;33m\u001b[0m\u001b[0m\n\u001b[0;32m    502\u001b[0m     \u001b[1;32mif\u001b[0m \u001b[1;32mnot\u001b[0m \u001b[0mtiles\u001b[0m\u001b[1;33m:\u001b[0m\u001b[1;33m\u001b[0m\u001b[1;33m\u001b[0m\u001b[0m\n\u001b[1;32m--> 503\u001b[1;33m         raise ValueError('A non-empty list of tiles should '\n\u001b[0m\u001b[0;32m    504\u001b[0m                          'be provided to merge.')\n\u001b[0;32m    505\u001b[0m     \u001b[0mxset\u001b[0m \u001b[1;33m=\u001b[0m \u001b[1;33m[\u001b[0m\u001b[0mset\u001b[0m\u001b[1;33m(\u001b[0m\u001b[0mx\u001b[0m\u001b[1;33m)\u001b[0m \u001b[1;32mfor\u001b[0m \u001b[0mi\u001b[0m\u001b[1;33m,\u001b[0m \u001b[0mx\u001b[0m\u001b[1;33m,\u001b[0m \u001b[0my\u001b[0m\u001b[1;33m,\u001b[0m \u001b[0m_\u001b[0m \u001b[1;32min\u001b[0m \u001b[0mtiles\u001b[0m\u001b[1;33m]\u001b[0m\u001b[1;33m\u001b[0m\u001b[1;33m\u001b[0m\u001b[0m\n",
      "\u001b[1;31mValueError\u001b[0m: A non-empty list of tiles should be provided to merge."
     ]
    },
    {
     "data": {
      "text/plain": [
       "<Figure size 4000x4000 with 1 Axes>"
      ]
     },
     "metadata": {
      "needs_background": "light"
     },
     "output_type": "display_data"
    }
   ],
   "source": [
    "import matplotlib.pyplot as plt\n",
    "import s2sphere\n",
    "from shapely.geometry import Polygon\n",
    "import cartopy.crs as ccrs\n",
    "import cartopy.io.img_tiles as cimgt\n",
    "\n",
    "%matplotlib inline\n",
    "\n",
    "proj = cimgt.MapQuestOSM()\n",
    "plt.figure(figsize=(20,20), dpi=200)\n",
    "ax = plt.axes(projection=proj.crs)\n",
    "ax.add_image(proj, 12)\n",
    "ax.set_extent([-51.411886, -50.922470,\n",
    "               -30.301314, -29.94364])\n",
    "region_rect = s2sphere.LatLngRect(\n",
    "    s2sphere.LatLng.from_degrees(-51.264871, -30.241701),\n",
    "    s2sphere.LatLng.from_degrees(-51.04618, -30.000003))\n",
    "coverer = s2sphere.RegionCoverer()\n",
    "coverer.min_level = 8\n",
    "coverer.max_level = 15\n",
    "coverer.max_cells = 500\n",
    "covering = coverer.get_covering(region_rect)\n",
    "geoms = []\n",
    "for cellid in covering:\n",
    "    new_cell = s2sphere.Cell(cellid)\n",
    "    vertices = []\n",
    "    for i in range(0, 4):\n",
    "        vertex = new_cell.get_vertex(i)\n",
    "        vertex_tmp = str(s2sphere.LatLng.from_point(vertex))\n",
    "        vertex_tmp_lat = float(vertex_tmp.split(',')[0].split(':')[-1])\n",
    "        vertex_tmp_long = float(vertex_tmp.split(',')[-1])\n",
    "        latlng = s2sphere.LatLng(vertex_tmp_lat,vertex_tmp_long)\n",
    "        #latlng = s2sphere.LatLng.from_point(vertex)\n",
    "        vertices.append((latlng.lat().degrees(),\n",
    "                         latlng.lng().degrees()))\n",
    "    geo = Polygon(vertices)\n",
    "    geoms.append(geo)\n",
    "print(\"Total Geometries: {}\".format(len(geoms)))\n",
    "    \n",
    "ax.add_geometries(geoms, ccrs.PlateCarree(), facecolor='coral',\n",
    "                  edgecolor='black', alpha=0.4)\n",
    "plt.show()"
   ]
  },
  {
   "cell_type": "code",
   "execution_count": null,
   "metadata": {},
   "outputs": [],
   "source": []
  },
  {
   "cell_type": "code",
   "execution_count": 134,
   "metadata": {},
   "outputs": [
    {
     "data": {
      "text/plain": [
       "LatLngRect: LineInterval: (0.5759586518954118, 0.5759586536725844), SphereInterval: (-2.129301688541844, -2.1293016870276924)"
      ]
     },
     "execution_count": 134,
     "metadata": {},
     "output_type": "execute_result"
    }
   ],
   "source": [
    "cell.get_rect_bound()"
   ]
  },
  {
   "cell_type": "code",
   "execution_count": 157,
   "metadata": {},
   "outputs": [
    {
     "data": {
      "text/plain": [
       "'LatLng: 32.99999992765168,-122.00000006352735'"
      ]
     },
     "execution_count": 157,
     "metadata": {},
     "output_type": "execute_result"
    }
   ],
   "source": [
    "xx = s2sphere.LatLng.from_point(cell.get_vertex(1))\n",
    "dir(xx)\n",
    "str(xx)\n",
    "#dir(xx.lat)\n",
    "#xx._LatLng__coords"
   ]
  },
  {
   "cell_type": "code",
   "execution_count": 158,
   "metadata": {},
   "outputs": [
    {
     "data": {
      "text/plain": [
       "['LatLng: 33.00000000471436,-122.00000006352735',\n",
       " 'LatLng: 32.99999992765168,-122.00000006352735',\n",
       " 'LatLng: 32.999999952413425,-121.99999997677291',\n",
       " 'LatLng: 33.00000002947611,-121.99999997677291']"
      ]
     },
     "execution_count": 158,
     "metadata": {},
     "output_type": "execute_result"
    }
   ],
   "source": [
    "[str(s2sphere.LatLng.from_point(cell.get_vertex(k))) for k in range(4)]"
   ]
  },
  {
   "cell_type": "code",
   "execution_count": 135,
   "metadata": {},
   "outputs": [
    {
     "name": "stdout",
     "output_type": "stream",
     "text": [
      "LatLng: 33.00000000471436,-122.00000006352735\n",
      "LatLng: 32.99999992765168,-122.00000006352735\n",
      "LatLng: 32.999999952413425,-121.99999997677291\n",
      "LatLng: 33.00000002947611,-121.99999997677291\n"
     ]
    }
   ],
   "source": [
    "for k in range(4):\n",
    "    print(s2sphere.LatLng.from_point(cell.get_vertex(k)))"
   ]
  },
  {
   "cell_type": "code",
   "execution_count": 10,
   "metadata": {},
   "outputs": [],
   "source": [
    "level12_cell = s2sphere.Cell(cell.id().parent(12))"
   ]
  },
  {
   "cell_type": "code",
   "execution_count": 15,
   "metadata": {},
   "outputs": [
    {
     "data": {
      "text/plain": [
       "<bound method Cell.id of Cell: face 4, level 12, orientation 0, id 9291052268944097280>"
      ]
     },
     "execution_count": 15,
     "metadata": {},
     "output_type": "execute_result"
    }
   ],
   "source": [
    "level12_cell.id"
   ]
  },
  {
   "cell_type": "code",
   "execution_count": null,
   "metadata": {},
   "outputs": [],
   "source": []
  },
  {
   "cell_type": "code",
   "execution_count": null,
   "metadata": {},
   "outputs": [],
   "source": []
  },
  {
   "cell_type": "code",
   "execution_count": 1,
   "metadata": {},
   "outputs": [
    {
     "ename": "KeyError",
     "evalue": "'PROJ_LIB'",
     "output_type": "error",
     "traceback": [
      "\u001b[1;31m---------------------------------------------------------------------------\u001b[0m",
      "\u001b[1;31mKeyError\u001b[0m                                  Traceback (most recent call last)",
      "\u001b[1;32m<ipython-input-1-f0b0a68884d8>\u001b[0m in \u001b[0;36m<module>\u001b[1;34m\u001b[0m\n\u001b[1;32m----> 1\u001b[1;33m \u001b[1;32mfrom\u001b[0m \u001b[0mmpl_toolkits\u001b[0m\u001b[1;33m.\u001b[0m\u001b[0mbasemap\u001b[0m \u001b[1;32mimport\u001b[0m \u001b[0mBasemap\u001b[0m\u001b[1;33m\u001b[0m\u001b[1;33m\u001b[0m\u001b[0m\n\u001b[0m\u001b[0;32m      2\u001b[0m \u001b[1;32mimport\u001b[0m \u001b[0mmatplotlib\u001b[0m\u001b[1;33m.\u001b[0m\u001b[0mpyplot\u001b[0m \u001b[1;32mas\u001b[0m \u001b[0mplt\u001b[0m\u001b[1;33m\u001b[0m\u001b[1;33m\u001b[0m\u001b[0m\n\u001b[0;32m      3\u001b[0m \u001b[1;32mfrom\u001b[0m \u001b[0mmatplotlib\u001b[0m\u001b[1;33m.\u001b[0m\u001b[0mcollections\u001b[0m \u001b[1;32mimport\u001b[0m \u001b[0mPatchCollection\u001b[0m\u001b[1;33m\u001b[0m\u001b[1;33m\u001b[0m\u001b[0m\n\u001b[0;32m      4\u001b[0m \u001b[1;32mfrom\u001b[0m \u001b[0mmatplotlib\u001b[0m\u001b[1;33m.\u001b[0m\u001b[0mpatches\u001b[0m \u001b[1;32mimport\u001b[0m \u001b[0mPolygon\u001b[0m\u001b[1;33m\u001b[0m\u001b[1;33m\u001b[0m\u001b[0m\n\u001b[0;32m      5\u001b[0m \u001b[1;32mimport\u001b[0m \u001b[0mnumpy\u001b[0m \u001b[1;32mas\u001b[0m \u001b[0mnp\u001b[0m\u001b[1;33m\u001b[0m\u001b[1;33m\u001b[0m\u001b[0m\n",
      "\u001b[1;32m~\\AppData\\Local\\Continuum\\anaconda3\\envs\\ami\\lib\\site-packages\\mpl_toolkits\\basemap\\__init__.py\u001b[0m in \u001b[0;36m<module>\u001b[1;34m\u001b[0m\n\u001b[0;32m    153\u001b[0m \u001b[1;33m\u001b[0m\u001b[0m\n\u001b[0;32m    154\u001b[0m \u001b[1;31m# create dictionary that maps epsg codes to Basemap kwargs.\u001b[0m\u001b[1;33m\u001b[0m\u001b[1;33m\u001b[0m\u001b[1;33m\u001b[0m\u001b[0m\n\u001b[1;32m--> 155\u001b[1;33m \u001b[0mpyproj_datadir\u001b[0m \u001b[1;33m=\u001b[0m \u001b[0mos\u001b[0m\u001b[1;33m.\u001b[0m\u001b[0menviron\u001b[0m\u001b[1;33m[\u001b[0m\u001b[1;34m'PROJ_LIB'\u001b[0m\u001b[1;33m]\u001b[0m\u001b[1;33m\u001b[0m\u001b[1;33m\u001b[0m\u001b[0m\n\u001b[0m\u001b[0;32m    156\u001b[0m \u001b[0mepsgf\u001b[0m \u001b[1;33m=\u001b[0m \u001b[0mopen\u001b[0m\u001b[1;33m(\u001b[0m\u001b[0mos\u001b[0m\u001b[1;33m.\u001b[0m\u001b[0mpath\u001b[0m\u001b[1;33m.\u001b[0m\u001b[0mjoin\u001b[0m\u001b[1;33m(\u001b[0m\u001b[0mpyproj_datadir\u001b[0m\u001b[1;33m,\u001b[0m\u001b[1;34m'epsg'\u001b[0m\u001b[1;33m)\u001b[0m\u001b[1;33m)\u001b[0m\u001b[1;33m\u001b[0m\u001b[1;33m\u001b[0m\u001b[0m\n\u001b[0;32m    157\u001b[0m \u001b[0mepsg_dict\u001b[0m\u001b[1;33m=\u001b[0m\u001b[1;33m{\u001b[0m\u001b[1;33m}\u001b[0m\u001b[1;33m\u001b[0m\u001b[1;33m\u001b[0m\u001b[0m\n",
      "\u001b[1;32m~\\AppData\\Local\\Continuum\\anaconda3\\envs\\ami\\lib\\os.py\u001b[0m in \u001b[0;36m__getitem__\u001b[1;34m(self, key)\u001b[0m\n\u001b[0;32m    667\u001b[0m         \u001b[1;32mexcept\u001b[0m \u001b[0mKeyError\u001b[0m\u001b[1;33m:\u001b[0m\u001b[1;33m\u001b[0m\u001b[1;33m\u001b[0m\u001b[0m\n\u001b[0;32m    668\u001b[0m             \u001b[1;31m# raise KeyError with the original key value\u001b[0m\u001b[1;33m\u001b[0m\u001b[1;33m\u001b[0m\u001b[1;33m\u001b[0m\u001b[0m\n\u001b[1;32m--> 669\u001b[1;33m             \u001b[1;32mraise\u001b[0m \u001b[0mKeyError\u001b[0m\u001b[1;33m(\u001b[0m\u001b[0mkey\u001b[0m\u001b[1;33m)\u001b[0m \u001b[1;32mfrom\u001b[0m \u001b[1;32mNone\u001b[0m\u001b[1;33m\u001b[0m\u001b[1;33m\u001b[0m\u001b[0m\n\u001b[0m\u001b[0;32m    670\u001b[0m         \u001b[1;32mreturn\u001b[0m \u001b[0mself\u001b[0m\u001b[1;33m.\u001b[0m\u001b[0mdecodevalue\u001b[0m\u001b[1;33m(\u001b[0m\u001b[0mvalue\u001b[0m\u001b[1;33m)\u001b[0m\u001b[1;33m\u001b[0m\u001b[1;33m\u001b[0m\u001b[0m\n\u001b[0;32m    671\u001b[0m \u001b[1;33m\u001b[0m\u001b[0m\n",
      "\u001b[1;31mKeyError\u001b[0m: 'PROJ_LIB'"
     ]
    }
   ],
   "source": [
    "from mpl_toolkits.basemap import Basemap\n",
    "import matplotlib.pyplot as plt\n",
    "from matplotlib.collections import PatchCollection\n",
    "from matplotlib.patches import Polygon\n",
    "import numpy as np\n",
    "\n",
    "\n",
    "# Make the figure\n",
    "fig = plt.figure()\n",
    "ax = fig.add_subplot(111)\n",
    "\n",
    "# Easiest way to make a basemap is to use the cylidrical projection and \n",
    "# define the bottom left lat/lon and top right lat/lon corners\n",
    "\n",
    "# Map of Utah\n",
    "bot_left_lat  =36.5\n",
    "bot_left_lon  =-114.5\n",
    "top_right_lat =42.5\n",
    "top_right_lon = -108.5\n",
    "\n",
    "# create the map object, m\n",
    "m = Basemap(resolution='i', projection='cyl', \\\n",
    "    llcrnrlon=bot_left_lon, llcrnrlat=bot_left_lat, \\\n",
    "    urcrnrlon=top_right_lon, urcrnrlat=top_right_lat)\n",
    "\n",
    "# Note: You can define the resolution of the map you just created. Higher \n",
    "# resolutions take longer to create.\n",
    "#    'c' - crude\n",
    "#    'l' - low\n",
    "#    'i' - intermediate\n",
    "#    'h' - high\n",
    "#    'f' - full\n",
    "\n",
    "# Draw some map elements on the map\n",
    "m.drawcoastlines()\n",
    "m.drawstates()\n",
    "m.drawcountries()\n",
    "m.drawrivers(color='blue')\n",
    "\n",
    "# Drawing ArcGIS Basemap (only works with cylc projections??)\n",
    "# Examples of what each map looks like can be found here:\n",
    "# http://kbkb-wx-python.blogspot.com/2016/04/python-basemap-background-image-from.html\n",
    "maps = ['ESRI_Imagery_World_2D',    # 0\n",
    "        'ESRI_StreetMap_World_2D',  # 1\n",
    "        'NatGeo_World_Map',         # 2\n",
    "        'NGS_Topo_US_2D',           # 3\n",
    "        'Ocean_Basemap',            # 4\n",
    "        'USA_Topo_Maps',            # 5\n",
    "        'World_Imagery',            # 6\n",
    "        'World_Physical_Map',       # 7\n",
    "        'World_Shaded_Relief',      # 8\n",
    "        'World_Street_Map',         # 9\n",
    "        'World_Terrain_Base',       # 10\n",
    "        'World_Topo_Map'            # 11\n",
    "        ]\n",
    "print(\"drawing image from arcGIS server...\")\n",
    "m.arcgisimage(service=maps[8], xpixels=1000, verbose=False)\n",
    "print(\"...finished\")\n",
    "\n",
    "# Plot a scatter point at WBB on the map object\n",
    "lon = -111.85\n",
    "lat = 40.77\n",
    "m.scatter(lon,lat,c='r',s=150)\n",
    "\n",
    "# Plot some wind barbs\n",
    "lons = np.arange(-115,-100,.5)\n",
    "lats = np.arange(33,48,.5)\n",
    "u = np.arange(-5,10,.5)\n",
    "v = np.arange(5,20,.5)\n",
    "m.barbs(lons, lats, u, v, color='fuchsia')\n",
    "\n",
    "# Plot line between two points\n",
    "# (can also use greatcircle function to be more accurate)\n",
    "x = [-110, -112]\n",
    "y = [40, 42]\n",
    "m.plot(x, y, color='navy', lw=5)\n",
    "\n",
    "# Fill two polygon shapes\n",
    "patches = []\n",
    "homeplate = np.array([[-114,38],[-113,37],[-112,38],[-112,40],[-114,40]])\n",
    "patches.append(Polygon(homeplate))\n",
    "triangle = np.array([[-111,38],[-110,37],[-110,42]])\n",
    "patches.append(Polygon(triangle))\n",
    "ax.add_collection(PatchCollection(patches, facecolor='lightgreen', edgecolor='k', linewidths=1.5))\n",
    "\n",
    "# Plot shapefiles: see here: http://basemaptutorial.readthedocs.io/en/latest/shapefile.html\n",
    "\n",
    "# Plot contours\n",
    "# m.contour(lons2D, lats2D, values2D)  # contour lines\n",
    "# m.contourf(lons2D, lats2D, values2D) # contour color filled, can specify a cmap\n",
    "\n",
    "# Plot gridded data\n",
    "# m.pcolormesh(lons2D, lats2D, values2D) # can specify a cmap\n",
    "\n",
    "# Add plot title and other plot elements the normal way\n",
    "plt.title('Map of Utah Basemap Example')\n",
    "plt.xlabel('this is the x label')\n",
    "\n",
    "plt.show()"
   ]
  }
 ],
 "metadata": {
  "kernelspec": {
   "display_name": "Python 3",
   "language": "python",
   "name": "python3"
  },
  "language_info": {
   "codemirror_mode": {
    "name": "ipython",
    "version": 3
   },
   "file_extension": ".py",
   "mimetype": "text/x-python",
   "name": "python",
   "nbconvert_exporter": "python",
   "pygments_lexer": "ipython3",
   "version": "3.6.8"
  }
 },
 "nbformat": 4,
 "nbformat_minor": 2
}
