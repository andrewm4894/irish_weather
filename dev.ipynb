{
 "cells": [
  {
   "cell_type": "code",
   "execution_count": 1,
   "metadata": {},
   "outputs": [],
   "source": [
    "import pandas as pd\n",
    "import numpy as np"
   ]
  },
  {
   "cell_type": "code",
   "execution_count": 2,
   "metadata": {},
   "outputs": [
    {
     "name": "stdout",
     "output_type": "stream",
     "text": [
      "(171163, 19)\n"
     ]
    },
    {
     "name": "stderr",
     "output_type": "stream",
     "text": [
      "C:\\Users\\amaguire\\AppData\\Local\\Continuum\\anaconda3\\envs\\ami\\lib\\site-packages\\pyarrow\\pandas_compat.py:708: FutureWarning: .labels was deprecated in version 0.24.0. Use .codes instead.\n",
      "  labels = getattr(columns, 'labels', None) or [\n",
      "C:\\Users\\amaguire\\AppData\\Local\\Continuum\\anaconda3\\envs\\ami\\lib\\site-packages\\pyarrow\\pandas_compat.py:735: FutureWarning: the 'labels' keyword is deprecated, use 'codes' instead\n",
      "  return pd.MultiIndex(levels=new_levels, labels=labels, names=columns.names)\n",
      "C:\\Users\\amaguire\\AppData\\Local\\Continuum\\anaconda3\\envs\\ami\\lib\\site-packages\\pyarrow\\pandas_compat.py:752: FutureWarning: .labels was deprecated in version 0.24.0. Use .codes instead.\n",
      "  labels, = index.labels\n"
     ]
    },
    {
     "data": {
      "text/html": [
       "<div>\n",
       "<style scoped>\n",
       "    .dataframe tbody tr th:only-of-type {\n",
       "        vertical-align: middle;\n",
       "    }\n",
       "\n",
       "    .dataframe tbody tr th {\n",
       "        vertical-align: top;\n",
       "    }\n",
       "\n",
       "    .dataframe thead th {\n",
       "        text-align: right;\n",
       "    }\n",
       "</style>\n",
       "<table border=\"1\" class=\"dataframe\">\n",
       "  <thead>\n",
       "    <tr style=\"text-align: right;\">\n",
       "      <th></th>\n",
       "      <th>latitide</th>\n",
       "      <th>longitude</th>\n",
       "      <th>rain_max</th>\n",
       "      <th>rain_mean</th>\n",
       "      <th>rain_min</th>\n",
       "      <th>rain_std</th>\n",
       "      <th>rhum_max</th>\n",
       "      <th>rhum_mean</th>\n",
       "      <th>rhum_min</th>\n",
       "      <th>rhum_std</th>\n",
       "      <th>station_number</th>\n",
       "      <th>temp_max</th>\n",
       "      <th>temp_mean</th>\n",
       "      <th>temp_min</th>\n",
       "      <th>temp_std</th>\n",
       "      <th>wdsp_max</th>\n",
       "      <th>wdsp_mean</th>\n",
       "      <th>wdsp_min</th>\n",
       "      <th>wdsp_std</th>\n",
       "    </tr>\n",
       "    <tr>\n",
       "      <th>date</th>\n",
       "      <th></th>\n",
       "      <th></th>\n",
       "      <th></th>\n",
       "      <th></th>\n",
       "      <th></th>\n",
       "      <th></th>\n",
       "      <th></th>\n",
       "      <th></th>\n",
       "      <th></th>\n",
       "      <th></th>\n",
       "      <th></th>\n",
       "      <th></th>\n",
       "      <th></th>\n",
       "      <th></th>\n",
       "      <th></th>\n",
       "      <th></th>\n",
       "      <th></th>\n",
       "      <th></th>\n",
       "      <th></th>\n",
       "    </tr>\n",
       "  </thead>\n",
       "  <tbody>\n",
       "    <tr>\n",
       "      <th>1989-01-01</th>\n",
       "      <td>51.793</td>\n",
       "      <td>-8.244</td>\n",
       "      <td>0.0</td>\n",
       "      <td>0.00</td>\n",
       "      <td>0.0</td>\n",
       "      <td>0.00</td>\n",
       "      <td>97.0</td>\n",
       "      <td>86.33</td>\n",
       "      <td>74.0</td>\n",
       "      <td>7.54</td>\n",
       "      <td>1075</td>\n",
       "      <td>10.0</td>\n",
       "      <td>9.33</td>\n",
       "      <td>8.2</td>\n",
       "      <td>0.64</td>\n",
       "      <td>16.0</td>\n",
       "      <td>11.71</td>\n",
       "      <td>7.0</td>\n",
       "      <td>2.16</td>\n",
       "    </tr>\n",
       "    <tr>\n",
       "      <th>1989-01-02</th>\n",
       "      <td>51.793</td>\n",
       "      <td>-8.244</td>\n",
       "      <td>0.5</td>\n",
       "      <td>0.03</td>\n",
       "      <td>0.0</td>\n",
       "      <td>0.11</td>\n",
       "      <td>96.0</td>\n",
       "      <td>84.46</td>\n",
       "      <td>73.0</td>\n",
       "      <td>5.16</td>\n",
       "      <td>1075</td>\n",
       "      <td>9.1</td>\n",
       "      <td>8.86</td>\n",
       "      <td>8.5</td>\n",
       "      <td>0.18</td>\n",
       "      <td>17.0</td>\n",
       "      <td>13.96</td>\n",
       "      <td>7.0</td>\n",
       "      <td>2.03</td>\n",
       "    </tr>\n",
       "    <tr>\n",
       "      <th>1989-01-03</th>\n",
       "      <td>51.793</td>\n",
       "      <td>-8.244</td>\n",
       "      <td>1.9</td>\n",
       "      <td>0.22</td>\n",
       "      <td>0.0</td>\n",
       "      <td>0.51</td>\n",
       "      <td>99.0</td>\n",
       "      <td>89.25</td>\n",
       "      <td>75.0</td>\n",
       "      <td>7.04</td>\n",
       "      <td>1075</td>\n",
       "      <td>10.9</td>\n",
       "      <td>10.12</td>\n",
       "      <td>9.2</td>\n",
       "      <td>0.52</td>\n",
       "      <td>30.0</td>\n",
       "      <td>23.96</td>\n",
       "      <td>18.0</td>\n",
       "      <td>3.26</td>\n",
       "    </tr>\n",
       "    <tr>\n",
       "      <th>1989-01-04</th>\n",
       "      <td>51.793</td>\n",
       "      <td>-8.244</td>\n",
       "      <td>0.7</td>\n",
       "      <td>0.07</td>\n",
       "      <td>0.0</td>\n",
       "      <td>0.17</td>\n",
       "      <td>86.0</td>\n",
       "      <td>80.25</td>\n",
       "      <td>72.0</td>\n",
       "      <td>4.38</td>\n",
       "      <td>1075</td>\n",
       "      <td>9.2</td>\n",
       "      <td>6.60</td>\n",
       "      <td>5.0</td>\n",
       "      <td>1.42</td>\n",
       "      <td>29.0</td>\n",
       "      <td>17.88</td>\n",
       "      <td>9.0</td>\n",
       "      <td>6.32</td>\n",
       "    </tr>\n",
       "    <tr>\n",
       "      <th>1989-01-05</th>\n",
       "      <td>51.793</td>\n",
       "      <td>-8.244</td>\n",
       "      <td>1.2</td>\n",
       "      <td>0.26</td>\n",
       "      <td>0.0</td>\n",
       "      <td>0.36</td>\n",
       "      <td>99.0</td>\n",
       "      <td>91.38</td>\n",
       "      <td>81.0</td>\n",
       "      <td>5.48</td>\n",
       "      <td>1075</td>\n",
       "      <td>12.4</td>\n",
       "      <td>9.65</td>\n",
       "      <td>5.9</td>\n",
       "      <td>2.04</td>\n",
       "      <td>25.0</td>\n",
       "      <td>16.58</td>\n",
       "      <td>7.0</td>\n",
       "      <td>5.83</td>\n",
       "    </tr>\n",
       "  </tbody>\n",
       "</table>\n",
       "</div>"
      ],
      "text/plain": [
       "            latitide  longitude  rain_max  rain_mean  rain_min  rain_std  \\\n",
       "date                                                                       \n",
       "1989-01-01    51.793     -8.244       0.0       0.00       0.0      0.00   \n",
       "1989-01-02    51.793     -8.244       0.5       0.03       0.0      0.11   \n",
       "1989-01-03    51.793     -8.244       1.9       0.22       0.0      0.51   \n",
       "1989-01-04    51.793     -8.244       0.7       0.07       0.0      0.17   \n",
       "1989-01-05    51.793     -8.244       1.2       0.26       0.0      0.36   \n",
       "\n",
       "            rhum_max  rhum_mean  rhum_min  rhum_std  station_number  temp_max  \\\n",
       "date                                                                            \n",
       "1989-01-01      97.0      86.33      74.0      7.54            1075      10.0   \n",
       "1989-01-02      96.0      84.46      73.0      5.16            1075       9.1   \n",
       "1989-01-03      99.0      89.25      75.0      7.04            1075      10.9   \n",
       "1989-01-04      86.0      80.25      72.0      4.38            1075       9.2   \n",
       "1989-01-05      99.0      91.38      81.0      5.48            1075      12.4   \n",
       "\n",
       "            temp_mean  temp_min  temp_std  wdsp_max  wdsp_mean  wdsp_min  \\\n",
       "date                                                                       \n",
       "1989-01-01       9.33       8.2      0.64      16.0      11.71       7.0   \n",
       "1989-01-02       8.86       8.5      0.18      17.0      13.96       7.0   \n",
       "1989-01-03      10.12       9.2      0.52      30.0      23.96      18.0   \n",
       "1989-01-04       6.60       5.0      1.42      29.0      17.88       9.0   \n",
       "1989-01-05       9.65       5.9      2.04      25.0      16.58       7.0   \n",
       "\n",
       "            wdsp_std  \n",
       "date                  \n",
       "1989-01-01      2.16  \n",
       "1989-01-02      2.03  \n",
       "1989-01-03      3.26  \n",
       "1989-01-04      6.32  \n",
       "1989-01-05      5.83  "
      ]
     },
     "execution_count": 2,
     "metadata": {},
     "output_type": "execute_result"
    }
   ],
   "source": [
    "df = pd.read_parquet('data/data_daily_by_station.gz.parquet')\n",
    "print(df.shape)\n",
    "df.head()"
   ]
  },
  {
   "cell_type": "code",
   "execution_count": 3,
   "metadata": {},
   "outputs": [
    {
     "name": "stdout",
     "output_type": "stream",
     "text": [
      "[CellId: 80f0694000000000, CellId: 80f06b4000000000, CellId: 80f06bc000000000, CellId: 80f06d0000000000, CellId: 80f06e4000000000, CellId: 80f06ec000000000, CellId: 80f0724000000000, CellId: 80f072c000000000]\n"
     ]
    }
   ],
   "source": [
    "import s2sphere\n",
    "\n",
    "r = s2sphere.RegionCoverer()\n",
    "p1 = s2sphere.LatLng.from_degrees(33, -122)\n",
    "p2 = s2sphere.LatLng.from_degrees(33.1, -122.1)\n",
    "cell_ids = r.get_covering(s2sphere.LatLngRect.from_point_pair(p1, p2))\n",
    "print(cell_ids)"
   ]
  },
  {
   "cell_type": "code",
   "execution_count": 8,
   "metadata": {},
   "outputs": [],
   "source": [
    "cell = s2sphere.Cell.from_lat_lng(s2sphere.LatLng.from_degrees(33, -122))"
   ]
  },
  {
   "cell_type": "code",
   "execution_count": 115,
   "metadata": {},
   "outputs": [
    {
     "data": {
      "text/plain": [
       "Cell: face 4, level 30, orientation 0, id 9291052239093219947"
      ]
     },
     "execution_count": 115,
     "metadata": {},
     "output_type": "execute_result"
    }
   ],
   "source": [
    "cell"
   ]
  },
  {
   "cell_type": "code",
   "execution_count": 121,
   "metadata": {},
   "outputs": [
    {
     "data": {
      "text/plain": [
       "s2sphere.sphere.Cell"
      ]
     },
     "execution_count": 121,
     "metadata": {},
     "output_type": "execute_result"
    }
   ],
   "source": [
    "type(cell)"
   ]
  },
  {
   "cell_type": "code",
   "execution_count": 124,
   "metadata": {},
   "outputs": [
    {
     "data": {
      "text/plain": [
       "s2sphere.sphere.Cell"
      ]
     },
     "execution_count": 124,
     "metadata": {},
     "output_type": "execute_result"
    }
   ],
   "source": [
    "type(s2sphere.Cell(cell.id().parent()))"
   ]
  },
  {
   "cell_type": "code",
   "execution_count": 116,
   "metadata": {},
   "outputs": [
    {
     "data": {
      "text/plain": [
       "CellId: 80f072c90cbfc26c"
      ]
     },
     "execution_count": 116,
     "metadata": {},
     "output_type": "execute_result"
    }
   ],
   "source": [
    "parent_cell"
   ]
  },
  {
   "cell_type": "code",
   "execution_count": 164,
   "metadata": {},
   "outputs": [
    {
     "data": {
      "text/plain": [
       "{'level_30': {'cell_id': 9291052239093219947,\n",
       "  'cell_uid': CellId: 80f072c90cbfc26b,\n",
       "  'cell_vertex_list': ['LatLng: 33.00000000471436,-122.00000006352735',\n",
       "   'LatLng: 32.99999992765168,-122.00000006352735',\n",
       "   'LatLng: 32.999999952413425,-121.99999997677291',\n",
       "   'LatLng: 33.00000002947611,-121.99999997677291']},\n",
       " 'level_29': {'cell_id': 9291052239093219948,\n",
       "  'cell_uid': CellId: 80f072c90cbfc26c,\n",
       "  'cell_vertex_list': ['LatLng: 32.99999997995262,-122.0000001502818',\n",
       "   'LatLng: 32.999999825827246,-122.0000001502818',\n",
       "   'LatLng: 32.99999987535073,-121.99999997677291',\n",
       "   'LatLng: 33.00000002947611,-121.99999997677291']},\n",
       " 'level_28': {'cell_id': 9291052239093219952,\n",
       "  'cell_uid': CellId: 80f072c90cbfc270,\n",
       "  'cell_vertex_list': ['LatLng: 32.99999993042915,-122.00000032379072',\n",
       "   'LatLng: 32.99999962217838,-122.00000032379072',\n",
       "   'LatLng: 32.99999972122535,-121.99999997677291',\n",
       "   'LatLng: 33.00000002947611,-121.99999997677291']},\n",
       " 'level_27': {'cell_id': 9291052239093219904,\n",
       "  'cell_uid': CellId: 80f072c90cbfc240,\n",
       "  'cell_vertex_list': ['LatLng: 33.00000023867991,-122.00000032379072',\n",
       "   'LatLng: 32.99999962217838,-122.00000032379072',\n",
       "   'LatLng: 32.999999820272315,-121.99999962975508',\n",
       "   'LatLng: 33.00000043677383,-121.99999962975508']},\n",
       " 'level_26': {'cell_id': 9291052239093220096,\n",
       "  'cell_uid': CellId: 80f072c90cbfc300,\n",
       "  'cell_vertex_list': ['LatLng: 33.000000657087476,-122.00000101782635',\n",
       "   'LatLng: 32.99999942408445,-122.00000101782635',\n",
       "   'LatLng: 32.999999820272315,-121.99999962975508',\n",
       "   'LatLng: 33.00000105327535,-121.99999962975508']},\n",
       " 'level_25': {'cell_id': 9291052239093220352,\n",
       "  'cell_uid': CellId: 80f072c90cbfc400,\n",
       "  'cell_vertex_list': ['LatLng: 33.0000018900905,-122.00000101782635',\n",
       "   'LatLng: 32.99999942408445,-122.00000101782635',\n",
       "   'LatLng: 33.00000021646016,-121.9999982416838',\n",
       "   'LatLng: 33.00000268246623,-121.9999982416838']},\n",
       " 'level_24': {'cell_id': 9291052239093223424,\n",
       "  'cell_uid': CellId: 80f072c90cbfd000,\n",
       "  'cell_vertex_list': ['LatLng: 33.000003563720675,-122.00000379396884',\n",
       "   'LatLng: 32.9999986317087,-122.00000379396884',\n",
       "   'LatLng: 33.00000021646016,-121.9999982416838',\n",
       "   'LatLng: 33.000005148472255,-121.9999982416838']},\n",
       " 'level_23': {'cell_id': 9291052239093219328,\n",
       "  'cell_uid': CellId: 80f072c90cbfc000,\n",
       "  'cell_vertex_list': ['LatLng: 33.000003563720675,-122.00000379396884',\n",
       "   'LatLng: 32.99999369969649,-122.00000379396884',\n",
       "   'LatLng: 32.99999686919894,-121.99999268939844',\n",
       "   'LatLng: 33.00000673322361,-121.99999268939844']},\n",
       " 'level_22': {'cell_id': 9291052239093170176,\n",
       "  'cell_uid': CellId: 80f072c90cbf0000,\n",
       "  'cell_vertex_list': ['LatLng: 33.00001342774396,-122.00000379396884',\n",
       "   'LatLng: 32.99999369969649,-122.00000379396884',\n",
       "   'LatLng: 33.00000003870049,-121.9999815848269',\n",
       "   'LatLng: 33.00001976674991,-121.9999815848269']},\n",
       " 'level_21': {'cell_id': 9291052239092973568,\n",
       "  'cell_uid': CellId: 80f072c90cbc0000,\n",
       "  'cell_vertex_list': ['LatLng: 33.00003315578778,-122.00000379396884',\n",
       "   'LatLng: 32.99999369969649,-122.00000379396884',\n",
       "   'LatLng: 33.00000637770095,-121.99995937568046',\n",
       "   'LatLng: 33.000045833800016,-121.99995937568046']},\n",
       " 'level_20': {'cell_id': 9291052239092187136,\n",
       "  'cell_uid': CellId: 80f072c90cb00000,\n",
       "  'cell_vertex_list': ['LatLng: 33.00007261186451,-122.00000379396884',\n",
       "   'LatLng: 32.99999369969649,-122.00000379396884',\n",
       "   'LatLng: 33.00001905569119,-121.99991495737405',\n",
       "   'LatLng: 33.00009796789031,-121.99991495737405']},\n",
       " 'level_19': {'cell_id': 9291052239093235712,\n",
       "  'cell_uid': CellId: 80f072c90cc00000,\n",
       "  'cell_vertex_list': ['LatLng: 33.00004725578183,-122.00009263049145',\n",
       "   'LatLng: 32.99988943144971,-122.00009263049145',\n",
       "   'LatLng: 32.9999401434338,-121.99991495737405',\n",
       "   'LatLng: 33.00009796789031,-121.99991495737405']},\n",
       " 'level_18': {'cell_id': 9291052239097430016,\n",
       "  'cell_uid': CellId: 80f072c90d000000,\n",
       "  'cell_vertex_list': ['LatLng: 32.99999654344583,-122.00027030332011',\n",
       "   'LatLng: 32.99968089479728,-122.00027030332011',\n",
       "   'LatLng: 32.9997823187442,-121.99991495737405',\n",
       "   'LatLng: 33.00009796789031,-121.99991495737405']},\n",
       " 'level_17': {'cell_id': 9291052239080652800,\n",
       "  'cell_uid': CellId: 80f072c90c000000,\n",
       "  'cell_vertex_list': ['LatLng: 33.00021076530991,-122.00062564811091',\n",
       "   'LatLng: 32.99957946994026,-122.00062564811091',\n",
       "   'LatLng: 32.9997823187442,-121.99991495737405',\n",
       "   'LatLng: 33.000413616104055,-121.99991495737405']},\n",
       " 'level_16': {'cell_id': 9291052239147761664,\n",
       "  'cell_uid': CellId: 80f072c910000000,\n",
       "  'cell_vertex_list': ['LatLng: 33.00000791087536,-122.00133633422672',\n",
       "   'LatLng: 32.99874532038751,-122.00133633422672',\n",
       "   'LatLng: 32.99915101765502,-121.99991495737405',\n",
       "   'LatLng: 33.000413616104055,-121.99991495737405']},\n",
       " 'level_15': {'cell_id': 9291052239953068032,\n",
       "  'cell_uid': CellId: 80f072c940000000,\n",
       "  'cell_vertex_list': ['LatLng: 33.00000791087536,-122.00133633422672',\n",
       "   'LatLng: 32.99748271498394,-122.00133633422672',\n",
       "   'LatLng: 32.998294079033734,-121.99849356203805',\n",
       "   'LatLng: 33.0008193067706,-121.99849356203805']},\n",
       " 'level_14': {'cell_id': 9291052238879326208,\n",
       "  'cell_uid': CellId: 80f072c900000000,\n",
       "  'cell_vertex_list': ['LatLng: 33.00172156111606,-122.00417903247387',\n",
       "   'LatLng: 32.996671292694536,-122.00417903247387',\n",
       "   'LatLng: 32.998294079033734,-121.99849356203805',\n",
       "   'LatLng: 33.00334447483153,-121.99849356203805']},\n",
       " 'level_13': {'cell_id': 9291052251764228096,\n",
       "  'cell_uid': CellId: 80f072cc00000000,\n",
       "  'cell_vertex_list': ['LatLng: 33.00172156111606,-122.00417903247387',\n",
       "   'LatLng: 32.991620785673625,-122.00417903247384',\n",
       "   'LatLng: 32.994865870525466,-121.99280779590266',\n",
       "   'LatLng: 33.00496715551688,-121.99280779590266']},\n",
       " 'level_12': {'cell_id': 9291052268944097280,\n",
       "  'cell_uid': CellId: 80f072d000000000,\n",
       "  'cell_vertex_list': ['LatLng: 32.99847503489227,-122.01554908571447',\n",
       "   'LatLng: 32.97827355009482,-122.01554908571447',\n",
       "   'LatLng: 32.98476363106825,-121.99280779590266',\n",
       "   'LatLng: 33.00496715551688,-121.99280779590266']},\n",
       " 'level_11': {'cell_id': 9291052200224620544,\n",
       "  'cell_uid': CellId: 80f072c000000000,\n",
       "  'cell_vertex_list': ['LatLng: 33.01217481859422,-122.03828563794798',\n",
       "   'LatLng: 32.9717797464187,-122.03828563794798',\n",
       "   'LatLng: 32.98476363106825,-121.99280779590266',\n",
       "   'LatLng: 33.025166859036936,-121.99280779590266']},\n",
       " 'level_10': {'cell_id': 9291052475102527488,\n",
       "  'cell_uid': CellId: 80f0730000000000,\n",
       "  'cell_vertex_list': ['LatLng: 32.99916788874415,-122.08374449567627',\n",
       "   'LatLng: 32.9183788899767,-122.08374449567626',\n",
       "   'LatLng: 32.94434514392822,-121.99280779590266',\n",
       "   'LatLng: 33.025166859036936,-121.99280779590266']},\n",
       " 'level_9': {'cell_id': 9291053574614155264,\n",
       "  'cell_uid': CellId: 80f0740000000000,\n",
       "  'cell_vertex_list': ['LatLng: 32.97310951357801,-122.17460498684162',\n",
       "   'LatLng: 32.81153685476586,-122.17460498684162',\n",
       "   'LatLng: 32.8634625889321,-121.99280779590266',\n",
       "   'LatLng: 33.025166859036936,-121.99280779590266']},\n",
       " 'level_8': {'cell_id': 9291049176567644160,\n",
       "  'cell_uid': CellId: 80f0700000000000,\n",
       "  'cell_vertex_list': ['LatLng: 33.08201447013439,-122.35609518371197',\n",
       "   'LatLng: 32.75937585986989,-122.35609518371197',\n",
       "   'LatLng: 32.8634625889321,-121.99280779590266',\n",
       "   'LatLng: 33.18662620040811,-121.99280779590266']},\n",
       " 'level_7': {'cell_id': 9290996400009510912,\n",
       "  'cell_uid': CellId: 80f0400000000000,\n",
       "  'cell_vertex_list': ['LatLng: 33.40367575928151,-122.35609518371197',\n",
       "   'LatLng: 32.75937585986989,-122.35609518371197',\n",
       "   'LatLng: 32.966598510076935,-121.62830983522124',\n",
       "   'LatLng: 33.61295076922361,-121.62830983522124']},\n",
       " 'level_6': {'cell_id': 9291207506242043904,\n",
       "  'cell_uid': CellId: 80f1000000000000,\n",
       "  'cell_vertex_list': ['LatLng: 33.82889229597525,-123.07890104806111',\n",
       "   'LatLng: 32.548428801246416,-123.07890104806111',\n",
       "   'LatLng: 32.966598510076935,-121.62830983522124',\n",
       "   'LatLng: 34.255177933436,-121.62830983522124']},\n",
       " 'level_5': {'cell_id': 9292051931172175872,\n",
       "  'cell_uid': CellId: 80f4000000000000,\n",
       "  'cell_vertex_list': ['LatLng: 34.64422054710851,-124.50852298766841',\n",
       "   'LatLng: 32.11600654084984,-124.50852298766841',\n",
       "   'LatLng: 32.966598510076935,-121.62830983522124',\n",
       "   'LatLng: 35.5265077965131,-121.62830983522124']},\n",
       " 'level_4': {'cell_id': 9290926031265333248,\n",
       "  'cell_uid': CellId: 80f0000000000000,\n",
       "  'cell_vertex_list': ['LatLng: 34.64422054710851,-124.50852298766841',\n",
       "   'LatLng: 29.532803705822648,-124.50852298766841',\n",
       "   'LatLng: 31.098071404261553,-118.673146489435',\n",
       "   'LatLng: 36.34237313080051,-118.673146489435']},\n",
       " 'level_3': {'cell_id': 9277415232383221760,\n",
       "  'cell_uid': CellId: 80c0000000000000,\n",
       "  'cell_vertex_list': ['LatLng: 39.48995323591252,-124.50852298766841',\n",
       "   'LatLng: 29.532803705822648,-124.50852298766841',\n",
       "   'LatLng: 32.39984017391932,-112.61986494804043',\n",
       "   'LatLng: 42.70938995736147,-112.61986494804043']},\n",
       " 'level_2': {'cell_id': 9295429630892703744,\n",
       "  'cell_uid': CellId: 8100000000000000,\n",
       "  'cell_vertex_list': ['LatLng: 35.264389682754654,-135.0',\n",
       "   'LatLng: 16.416440373585463,-135.0',\n",
       "   'LatLng: 21.037511025421814,-112.61986494804043',\n",
       "   'LatLng: 42.70938995736147,-112.61986494804043']},\n",
       " 'level_1': {'cell_id': 9511602413006487552,\n",
       "  'cell_uid': CellId: 8400000000000000,\n",
       "  'cell_vertex_list': ['LatLng: 35.264389682754654,-135.0',\n",
       "   'LatLng: -0.0,-135.0',\n",
       "   'LatLng: -0.0,-90.0',\n",
       "   'LatLng: 45.0,-90.0']}}"
      ]
     },
     "execution_count": 164,
     "metadata": {},
     "output_type": "execute_result"
    }
   ],
   "source": [
    "n_steps = 30\n",
    "cell_meta = dict()\n",
    "curr_cell = cell\n",
    "for n in range(n_steps):\n",
    "    curr_cell_uid = curr_cell.id()\n",
    "    curr_cell_id = curr_cell.id().id()\n",
    "    curr_cell_level = curr_cell.id().level()\n",
    "    cell_meta[f'level_{curr_cell_level}'] = {\n",
    "        'cell_id' : curr_cell_id,\n",
    "        'cell_uid' : curr_cell_uid,\n",
    "        'cell_vertex_list' : [str(s2sphere.LatLng.from_point(curr_cell.get_vertex(k))) for k in range(4)]\n",
    "    }\n",
    "    parent_cell = s2sphere.Cell(curr_cell.id().parent())\n",
    "    curr_cell = parent_cell\n",
    "cell_meta"
   ]
  },
  {
   "cell_type": "code",
   "execution_count": 170,
   "metadata": {},
   "outputs": [
    {
     "name": "stdout",
     "output_type": "stream",
     "text": [
      "LatLng: 52.80976598419109,-2.0889960238054526\n",
      "LatLng: 52.80976594422005,-2.0889959719554083\n",
      "LatLng: 52.80976602587492,-2.0889959781407157\n",
      "LatLng: 52.809766024162116,-2.0889960756555026\n",
      "LatLng: 52.80976594250725,-2.0889960694701943\n"
     ]
    }
   ],
   "source": [
    "import s2sphere\n",
    "lat = 52.809766\n",
    "lng = -2.088996\n",
    "cell_id = s2sphere.CellId.from_lat_lng(s2sphere.LatLng.from_degrees(lat,lng)).parent(30)\n",
    "print (s2sphere.LatLng.from_point(s2sphere.Cell(cell_id).get_center()))\n",
    "print (s2sphere.LatLng.from_point(s2sphere.Cell(cell_id).get_vertex(0)))\n",
    "print (s2sphere.LatLng.from_point(s2sphere.Cell(cell_id).get_vertex(1)))\n",
    "print (s2sphere.LatLng.from_point(s2sphere.Cell(cell_id).get_vertex(2)))\n",
    "print (s2sphere.LatLng.from_point(s2sphere.Cell(cell_id).get_vertex(3)))"
   ]
  },
  {
   "cell_type": "code",
   "execution_count": 12,
   "metadata": {},
   "outputs": [
    {
     "ename": "TypeError",
     "evalue": "'float' object is not callable",
     "output_type": "error",
     "traceback": [
      "\u001b[1;31m---------------------------------------------------------------------------\u001b[0m",
      "\u001b[1;31mTypeError\u001b[0m                                 Traceback (most recent call last)",
      "\u001b[1;32m<ipython-input-12-bcc9e46e98b1>\u001b[0m in \u001b[0;36m<module>\u001b[1;34m\u001b[0m\n\u001b[0;32m     32\u001b[0m         \u001b[0mlatlng\u001b[0m \u001b[1;33m=\u001b[0m \u001b[0ms2sphere\u001b[0m\u001b[1;33m.\u001b[0m\u001b[0mLatLng\u001b[0m\u001b[1;33m(\u001b[0m\u001b[0mvertex_tmp_lat\u001b[0m\u001b[1;33m,\u001b[0m\u001b[0mvertex_tmp_long\u001b[0m\u001b[1;33m)\u001b[0m\u001b[1;33m\u001b[0m\u001b[1;33m\u001b[0m\u001b[0m\n\u001b[0;32m     33\u001b[0m         \u001b[1;31m#latlng = s2sphere.LatLng.from_point(vertex)\u001b[0m\u001b[1;33m\u001b[0m\u001b[1;33m\u001b[0m\u001b[1;33m\u001b[0m\u001b[0m\n\u001b[1;32m---> 34\u001b[1;33m         vertices.append((latlng.lat().degrees(),\n\u001b[0m\u001b[0;32m     35\u001b[0m                          latlng.lng().degrees()))\n\u001b[0;32m     36\u001b[0m     \u001b[0mgeo\u001b[0m \u001b[1;33m=\u001b[0m \u001b[0mPolygon\u001b[0m\u001b[1;33m(\u001b[0m\u001b[0mvertices\u001b[0m\u001b[1;33m)\u001b[0m\u001b[1;33m\u001b[0m\u001b[1;33m\u001b[0m\u001b[0m\n",
      "\u001b[1;31mTypeError\u001b[0m: 'float' object is not callable"
     ]
    },
    {
     "name": "stdout",
     "output_type": "stream",
     "text": [
      "Error in callback <function install_repl_displayhook.<locals>.post_execute at 0x000002E776F5E8C8> (for post_execute):\n"
     ]
    },
    {
     "ename": "ValueError",
     "evalue": "A non-empty list of tiles should be provided to merge.",
     "output_type": "error",
     "traceback": [
      "\u001b[1;31m---------------------------------------------------------------------------\u001b[0m",
      "\u001b[1;31mValueError\u001b[0m                                Traceback (most recent call last)",
      "\u001b[1;32m~\\AppData\\Local\\Continuum\\anaconda3\\envs\\ami\\lib\\site-packages\\matplotlib\\pyplot.py\u001b[0m in \u001b[0;36mpost_execute\u001b[1;34m()\u001b[0m\n\u001b[0;32m    107\u001b[0m             \u001b[1;32mdef\u001b[0m \u001b[0mpost_execute\u001b[0m\u001b[1;33m(\u001b[0m\u001b[1;33m)\u001b[0m\u001b[1;33m:\u001b[0m\u001b[1;33m\u001b[0m\u001b[1;33m\u001b[0m\u001b[0m\n\u001b[0;32m    108\u001b[0m                 \u001b[1;32mif\u001b[0m \u001b[0mmatplotlib\u001b[0m\u001b[1;33m.\u001b[0m\u001b[0mis_interactive\u001b[0m\u001b[1;33m(\u001b[0m\u001b[1;33m)\u001b[0m\u001b[1;33m:\u001b[0m\u001b[1;33m\u001b[0m\u001b[1;33m\u001b[0m\u001b[0m\n\u001b[1;32m--> 109\u001b[1;33m                     \u001b[0mdraw_all\u001b[0m\u001b[1;33m(\u001b[0m\u001b[1;33m)\u001b[0m\u001b[1;33m\u001b[0m\u001b[1;33m\u001b[0m\u001b[0m\n\u001b[0m\u001b[0;32m    110\u001b[0m \u001b[1;33m\u001b[0m\u001b[0m\n\u001b[0;32m    111\u001b[0m             \u001b[1;31m# IPython >= 2\u001b[0m\u001b[1;33m\u001b[0m\u001b[1;33m\u001b[0m\u001b[1;33m\u001b[0m\u001b[0m\n",
      "\u001b[1;32m~\\AppData\\Local\\Continuum\\anaconda3\\envs\\ami\\lib\\site-packages\\matplotlib\\_pylab_helpers.py\u001b[0m in \u001b[0;36mdraw_all\u001b[1;34m(cls, force)\u001b[0m\n\u001b[0;32m    126\u001b[0m         \u001b[1;32mfor\u001b[0m \u001b[0mf_mgr\u001b[0m \u001b[1;32min\u001b[0m \u001b[0mcls\u001b[0m\u001b[1;33m.\u001b[0m\u001b[0mget_all_fig_managers\u001b[0m\u001b[1;33m(\u001b[0m\u001b[1;33m)\u001b[0m\u001b[1;33m:\u001b[0m\u001b[1;33m\u001b[0m\u001b[1;33m\u001b[0m\u001b[0m\n\u001b[0;32m    127\u001b[0m             \u001b[1;32mif\u001b[0m \u001b[0mforce\u001b[0m \u001b[1;32mor\u001b[0m \u001b[0mf_mgr\u001b[0m\u001b[1;33m.\u001b[0m\u001b[0mcanvas\u001b[0m\u001b[1;33m.\u001b[0m\u001b[0mfigure\u001b[0m\u001b[1;33m.\u001b[0m\u001b[0mstale\u001b[0m\u001b[1;33m:\u001b[0m\u001b[1;33m\u001b[0m\u001b[1;33m\u001b[0m\u001b[0m\n\u001b[1;32m--> 128\u001b[1;33m                 \u001b[0mf_mgr\u001b[0m\u001b[1;33m.\u001b[0m\u001b[0mcanvas\u001b[0m\u001b[1;33m.\u001b[0m\u001b[0mdraw_idle\u001b[0m\u001b[1;33m(\u001b[0m\u001b[1;33m)\u001b[0m\u001b[1;33m\u001b[0m\u001b[1;33m\u001b[0m\u001b[0m\n\u001b[0m\u001b[0;32m    129\u001b[0m \u001b[1;33m\u001b[0m\u001b[0m\n\u001b[0;32m    130\u001b[0m \u001b[0matexit\u001b[0m\u001b[1;33m.\u001b[0m\u001b[0mregister\u001b[0m\u001b[1;33m(\u001b[0m\u001b[0mGcf\u001b[0m\u001b[1;33m.\u001b[0m\u001b[0mdestroy_all\u001b[0m\u001b[1;33m)\u001b[0m\u001b[1;33m\u001b[0m\u001b[1;33m\u001b[0m\u001b[0m\n",
      "\u001b[1;32m~\\AppData\\Local\\Continuum\\anaconda3\\envs\\ami\\lib\\site-packages\\matplotlib\\backend_bases.py\u001b[0m in \u001b[0;36mdraw_idle\u001b[1;34m(self, *args, **kwargs)\u001b[0m\n\u001b[0;32m   1905\u001b[0m         \u001b[1;32mif\u001b[0m \u001b[1;32mnot\u001b[0m \u001b[0mself\u001b[0m\u001b[1;33m.\u001b[0m\u001b[0m_is_idle_drawing\u001b[0m\u001b[1;33m:\u001b[0m\u001b[1;33m\u001b[0m\u001b[1;33m\u001b[0m\u001b[0m\n\u001b[0;32m   1906\u001b[0m             \u001b[1;32mwith\u001b[0m \u001b[0mself\u001b[0m\u001b[1;33m.\u001b[0m\u001b[0m_idle_draw_cntx\u001b[0m\u001b[1;33m(\u001b[0m\u001b[1;33m)\u001b[0m\u001b[1;33m:\u001b[0m\u001b[1;33m\u001b[0m\u001b[1;33m\u001b[0m\u001b[0m\n\u001b[1;32m-> 1907\u001b[1;33m                 \u001b[0mself\u001b[0m\u001b[1;33m.\u001b[0m\u001b[0mdraw\u001b[0m\u001b[1;33m(\u001b[0m\u001b[1;33m*\u001b[0m\u001b[0margs\u001b[0m\u001b[1;33m,\u001b[0m \u001b[1;33m**\u001b[0m\u001b[0mkwargs\u001b[0m\u001b[1;33m)\u001b[0m\u001b[1;33m\u001b[0m\u001b[1;33m\u001b[0m\u001b[0m\n\u001b[0m\u001b[0;32m   1908\u001b[0m \u001b[1;33m\u001b[0m\u001b[0m\n\u001b[0;32m   1909\u001b[0m     \u001b[1;32mdef\u001b[0m \u001b[0mdraw_cursor\u001b[0m\u001b[1;33m(\u001b[0m\u001b[0mself\u001b[0m\u001b[1;33m,\u001b[0m \u001b[0mevent\u001b[0m\u001b[1;33m)\u001b[0m\u001b[1;33m:\u001b[0m\u001b[1;33m\u001b[0m\u001b[1;33m\u001b[0m\u001b[0m\n",
      "\u001b[1;32m~\\AppData\\Local\\Continuum\\anaconda3\\envs\\ami\\lib\\site-packages\\matplotlib\\backends\\backend_agg.py\u001b[0m in \u001b[0;36mdraw\u001b[1;34m(self)\u001b[0m\n\u001b[0;32m    386\u001b[0m         \u001b[0mself\u001b[0m\u001b[1;33m.\u001b[0m\u001b[0mrenderer\u001b[0m \u001b[1;33m=\u001b[0m \u001b[0mself\u001b[0m\u001b[1;33m.\u001b[0m\u001b[0mget_renderer\u001b[0m\u001b[1;33m(\u001b[0m\u001b[0mcleared\u001b[0m\u001b[1;33m=\u001b[0m\u001b[1;32mTrue\u001b[0m\u001b[1;33m)\u001b[0m\u001b[1;33m\u001b[0m\u001b[1;33m\u001b[0m\u001b[0m\n\u001b[0;32m    387\u001b[0m         \u001b[1;32mwith\u001b[0m \u001b[0mRendererAgg\u001b[0m\u001b[1;33m.\u001b[0m\u001b[0mlock\u001b[0m\u001b[1;33m:\u001b[0m\u001b[1;33m\u001b[0m\u001b[1;33m\u001b[0m\u001b[0m\n\u001b[1;32m--> 388\u001b[1;33m             \u001b[0mself\u001b[0m\u001b[1;33m.\u001b[0m\u001b[0mfigure\u001b[0m\u001b[1;33m.\u001b[0m\u001b[0mdraw\u001b[0m\u001b[1;33m(\u001b[0m\u001b[0mself\u001b[0m\u001b[1;33m.\u001b[0m\u001b[0mrenderer\u001b[0m\u001b[1;33m)\u001b[0m\u001b[1;33m\u001b[0m\u001b[1;33m\u001b[0m\u001b[0m\n\u001b[0m\u001b[0;32m    389\u001b[0m             \u001b[1;31m# A GUI class may be need to update a window using this draw, so\u001b[0m\u001b[1;33m\u001b[0m\u001b[1;33m\u001b[0m\u001b[1;33m\u001b[0m\u001b[0m\n\u001b[0;32m    390\u001b[0m             \u001b[1;31m# don't forget to call the superclass.\u001b[0m\u001b[1;33m\u001b[0m\u001b[1;33m\u001b[0m\u001b[1;33m\u001b[0m\u001b[0m\n",
      "\u001b[1;32m~\\AppData\\Local\\Continuum\\anaconda3\\envs\\ami\\lib\\site-packages\\matplotlib\\artist.py\u001b[0m in \u001b[0;36mdraw_wrapper\u001b[1;34m(artist, renderer, *args, **kwargs)\u001b[0m\n\u001b[0;32m     36\u001b[0m                 \u001b[0mrenderer\u001b[0m\u001b[1;33m.\u001b[0m\u001b[0mstart_filter\u001b[0m\u001b[1;33m(\u001b[0m\u001b[1;33m)\u001b[0m\u001b[1;33m\u001b[0m\u001b[1;33m\u001b[0m\u001b[0m\n\u001b[0;32m     37\u001b[0m \u001b[1;33m\u001b[0m\u001b[0m\n\u001b[1;32m---> 38\u001b[1;33m             \u001b[1;32mreturn\u001b[0m \u001b[0mdraw\u001b[0m\u001b[1;33m(\u001b[0m\u001b[0martist\u001b[0m\u001b[1;33m,\u001b[0m \u001b[0mrenderer\u001b[0m\u001b[1;33m,\u001b[0m \u001b[1;33m*\u001b[0m\u001b[0margs\u001b[0m\u001b[1;33m,\u001b[0m \u001b[1;33m**\u001b[0m\u001b[0mkwargs\u001b[0m\u001b[1;33m)\u001b[0m\u001b[1;33m\u001b[0m\u001b[1;33m\u001b[0m\u001b[0m\n\u001b[0m\u001b[0;32m     39\u001b[0m         \u001b[1;32mfinally\u001b[0m\u001b[1;33m:\u001b[0m\u001b[1;33m\u001b[0m\u001b[1;33m\u001b[0m\u001b[0m\n\u001b[0;32m     40\u001b[0m             \u001b[1;32mif\u001b[0m \u001b[0martist\u001b[0m\u001b[1;33m.\u001b[0m\u001b[0mget_agg_filter\u001b[0m\u001b[1;33m(\u001b[0m\u001b[1;33m)\u001b[0m \u001b[1;32mis\u001b[0m \u001b[1;32mnot\u001b[0m \u001b[1;32mNone\u001b[0m\u001b[1;33m:\u001b[0m\u001b[1;33m\u001b[0m\u001b[1;33m\u001b[0m\u001b[0m\n",
      "\u001b[1;32m~\\AppData\\Local\\Continuum\\anaconda3\\envs\\ami\\lib\\site-packages\\matplotlib\\figure.py\u001b[0m in \u001b[0;36mdraw\u001b[1;34m(self, renderer)\u001b[0m\n\u001b[0;32m   1707\u001b[0m             \u001b[0mself\u001b[0m\u001b[1;33m.\u001b[0m\u001b[0mpatch\u001b[0m\u001b[1;33m.\u001b[0m\u001b[0mdraw\u001b[0m\u001b[1;33m(\u001b[0m\u001b[0mrenderer\u001b[0m\u001b[1;33m)\u001b[0m\u001b[1;33m\u001b[0m\u001b[1;33m\u001b[0m\u001b[0m\n\u001b[0;32m   1708\u001b[0m             mimage._draw_list_compositing_images(\n\u001b[1;32m-> 1709\u001b[1;33m                 renderer, self, artists, self.suppressComposite)\n\u001b[0m\u001b[0;32m   1710\u001b[0m \u001b[1;33m\u001b[0m\u001b[0m\n\u001b[0;32m   1711\u001b[0m             \u001b[0mrenderer\u001b[0m\u001b[1;33m.\u001b[0m\u001b[0mclose_group\u001b[0m\u001b[1;33m(\u001b[0m\u001b[1;34m'figure'\u001b[0m\u001b[1;33m)\u001b[0m\u001b[1;33m\u001b[0m\u001b[1;33m\u001b[0m\u001b[0m\n",
      "\u001b[1;32m~\\AppData\\Local\\Continuum\\anaconda3\\envs\\ami\\lib\\site-packages\\matplotlib\\image.py\u001b[0m in \u001b[0;36m_draw_list_compositing_images\u001b[1;34m(renderer, parent, artists, suppress_composite)\u001b[0m\n\u001b[0;32m    133\u001b[0m     \u001b[1;32mif\u001b[0m \u001b[0mnot_composite\u001b[0m \u001b[1;32mor\u001b[0m \u001b[1;32mnot\u001b[0m \u001b[0mhas_images\u001b[0m\u001b[1;33m:\u001b[0m\u001b[1;33m\u001b[0m\u001b[1;33m\u001b[0m\u001b[0m\n\u001b[0;32m    134\u001b[0m         \u001b[1;32mfor\u001b[0m \u001b[0ma\u001b[0m \u001b[1;32min\u001b[0m \u001b[0martists\u001b[0m\u001b[1;33m:\u001b[0m\u001b[1;33m\u001b[0m\u001b[1;33m\u001b[0m\u001b[0m\n\u001b[1;32m--> 135\u001b[1;33m             \u001b[0ma\u001b[0m\u001b[1;33m.\u001b[0m\u001b[0mdraw\u001b[0m\u001b[1;33m(\u001b[0m\u001b[0mrenderer\u001b[0m\u001b[1;33m)\u001b[0m\u001b[1;33m\u001b[0m\u001b[1;33m\u001b[0m\u001b[0m\n\u001b[0m\u001b[0;32m    136\u001b[0m     \u001b[1;32melse\u001b[0m\u001b[1;33m:\u001b[0m\u001b[1;33m\u001b[0m\u001b[1;33m\u001b[0m\u001b[0m\n\u001b[0;32m    137\u001b[0m         \u001b[1;31m# Composite any adjacent images together\u001b[0m\u001b[1;33m\u001b[0m\u001b[1;33m\u001b[0m\u001b[1;33m\u001b[0m\u001b[0m\n",
      "\u001b[1;32m~\\AppData\\Local\\Continuum\\anaconda3\\envs\\ami\\lib\\site-packages\\matplotlib\\artist.py\u001b[0m in \u001b[0;36mdraw_wrapper\u001b[1;34m(artist, renderer, *args, **kwargs)\u001b[0m\n\u001b[0;32m     36\u001b[0m                 \u001b[0mrenderer\u001b[0m\u001b[1;33m.\u001b[0m\u001b[0mstart_filter\u001b[0m\u001b[1;33m(\u001b[0m\u001b[1;33m)\u001b[0m\u001b[1;33m\u001b[0m\u001b[1;33m\u001b[0m\u001b[0m\n\u001b[0;32m     37\u001b[0m \u001b[1;33m\u001b[0m\u001b[0m\n\u001b[1;32m---> 38\u001b[1;33m             \u001b[1;32mreturn\u001b[0m \u001b[0mdraw\u001b[0m\u001b[1;33m(\u001b[0m\u001b[0martist\u001b[0m\u001b[1;33m,\u001b[0m \u001b[0mrenderer\u001b[0m\u001b[1;33m,\u001b[0m \u001b[1;33m*\u001b[0m\u001b[0margs\u001b[0m\u001b[1;33m,\u001b[0m \u001b[1;33m**\u001b[0m\u001b[0mkwargs\u001b[0m\u001b[1;33m)\u001b[0m\u001b[1;33m\u001b[0m\u001b[1;33m\u001b[0m\u001b[0m\n\u001b[0m\u001b[0;32m     39\u001b[0m         \u001b[1;32mfinally\u001b[0m\u001b[1;33m:\u001b[0m\u001b[1;33m\u001b[0m\u001b[1;33m\u001b[0m\u001b[0m\n\u001b[0;32m     40\u001b[0m             \u001b[1;32mif\u001b[0m \u001b[0martist\u001b[0m\u001b[1;33m.\u001b[0m\u001b[0mget_agg_filter\u001b[0m\u001b[1;33m(\u001b[0m\u001b[1;33m)\u001b[0m \u001b[1;32mis\u001b[0m \u001b[1;32mnot\u001b[0m \u001b[1;32mNone\u001b[0m\u001b[1;33m:\u001b[0m\u001b[1;33m\u001b[0m\u001b[1;33m\u001b[0m\u001b[0m\n",
      "\u001b[1;32m~\\AppData\\Local\\Continuum\\anaconda3\\envs\\ami\\lib\\site-packages\\cartopy\\mpl\\geoaxes.py\u001b[0m in \u001b[0;36mdraw\u001b[1;34m(self, renderer, inframe)\u001b[0m\n\u001b[0;32m    380\u001b[0m             \u001b[1;32mfor\u001b[0m \u001b[0mfactory\u001b[0m\u001b[1;33m,\u001b[0m \u001b[0margs\u001b[0m\u001b[1;33m,\u001b[0m \u001b[0mkwargs\u001b[0m \u001b[1;32min\u001b[0m \u001b[0mself\u001b[0m\u001b[1;33m.\u001b[0m\u001b[0mimg_factories\u001b[0m\u001b[1;33m:\u001b[0m\u001b[1;33m\u001b[0m\u001b[1;33m\u001b[0m\u001b[0m\n\u001b[0;32m    381\u001b[0m                 img, extent, origin = factory.image_for_domain(\n\u001b[1;32m--> 382\u001b[1;33m                     self._get_extent_geom(factory.crs), args[0])\n\u001b[0m\u001b[0;32m    383\u001b[0m                 self.imshow(img, extent=extent, origin=origin,\n\u001b[0;32m    384\u001b[0m                             transform=factory.crs, *args[1:], **kwargs)\n",
      "\u001b[1;32m~\\AppData\\Local\\Continuum\\anaconda3\\envs\\ami\\lib\\site-packages\\cartopy\\io\\img_tiles.py\u001b[0m in \u001b[0;36mimage_for_domain\u001b[1;34m(self, target_domain, target_z)\u001b[0m\n\u001b[0;32m     66\u001b[0m             \u001b[0mtiles\u001b[0m\u001b[1;33m.\u001b[0m\u001b[0mappend\u001b[0m\u001b[1;33m(\u001b[0m\u001b[1;33m[\u001b[0m\u001b[0mimg\u001b[0m\u001b[1;33m,\u001b[0m \u001b[0mx\u001b[0m\u001b[1;33m,\u001b[0m \u001b[0my\u001b[0m\u001b[1;33m,\u001b[0m \u001b[0morigin\u001b[0m\u001b[1;33m]\u001b[0m\u001b[1;33m)\u001b[0m\u001b[1;33m\u001b[0m\u001b[1;33m\u001b[0m\u001b[0m\n\u001b[0;32m     67\u001b[0m \u001b[1;33m\u001b[0m\u001b[0m\n\u001b[1;32m---> 68\u001b[1;33m         \u001b[0mimg\u001b[0m\u001b[1;33m,\u001b[0m \u001b[0mextent\u001b[0m\u001b[1;33m,\u001b[0m \u001b[0morigin\u001b[0m \u001b[1;33m=\u001b[0m \u001b[0m_merge_tiles\u001b[0m\u001b[1;33m(\u001b[0m\u001b[0mtiles\u001b[0m\u001b[1;33m)\u001b[0m\u001b[1;33m\u001b[0m\u001b[1;33m\u001b[0m\u001b[0m\n\u001b[0m\u001b[0;32m     69\u001b[0m         \u001b[1;32mreturn\u001b[0m \u001b[0mimg\u001b[0m\u001b[1;33m,\u001b[0m \u001b[0mextent\u001b[0m\u001b[1;33m,\u001b[0m \u001b[0morigin\u001b[0m\u001b[1;33m\u001b[0m\u001b[1;33m\u001b[0m\u001b[0m\n\u001b[0;32m     70\u001b[0m \u001b[1;33m\u001b[0m\u001b[0m\n",
      "\u001b[1;32m~\\AppData\\Local\\Continuum\\anaconda3\\envs\\ami\\lib\\site-packages\\cartopy\\io\\img_tiles.py\u001b[0m in \u001b[0;36m_merge_tiles\u001b[1;34m(tiles)\u001b[0m\n\u001b[0;32m    501\u001b[0m     \u001b[1;34m\"\"\"Return a single image, merging the given images.\"\"\"\u001b[0m\u001b[1;33m\u001b[0m\u001b[1;33m\u001b[0m\u001b[0m\n\u001b[0;32m    502\u001b[0m     \u001b[1;32mif\u001b[0m \u001b[1;32mnot\u001b[0m \u001b[0mtiles\u001b[0m\u001b[1;33m:\u001b[0m\u001b[1;33m\u001b[0m\u001b[1;33m\u001b[0m\u001b[0m\n\u001b[1;32m--> 503\u001b[1;33m         raise ValueError('A non-empty list of tiles should '\n\u001b[0m\u001b[0;32m    504\u001b[0m                          'be provided to merge.')\n\u001b[0;32m    505\u001b[0m     \u001b[0mxset\u001b[0m \u001b[1;33m=\u001b[0m \u001b[1;33m[\u001b[0m\u001b[0mset\u001b[0m\u001b[1;33m(\u001b[0m\u001b[0mx\u001b[0m\u001b[1;33m)\u001b[0m \u001b[1;32mfor\u001b[0m \u001b[0mi\u001b[0m\u001b[1;33m,\u001b[0m \u001b[0mx\u001b[0m\u001b[1;33m,\u001b[0m \u001b[0my\u001b[0m\u001b[1;33m,\u001b[0m \u001b[0m_\u001b[0m \u001b[1;32min\u001b[0m \u001b[0mtiles\u001b[0m\u001b[1;33m]\u001b[0m\u001b[1;33m\u001b[0m\u001b[1;33m\u001b[0m\u001b[0m\n",
      "\u001b[1;31mValueError\u001b[0m: A non-empty list of tiles should be provided to merge."
     ]
    },
    {
     "ename": "ValueError",
     "evalue": "A non-empty list of tiles should be provided to merge.",
     "output_type": "error",
     "traceback": [
      "\u001b[1;31m---------------------------------------------------------------------------\u001b[0m",
      "\u001b[1;31mValueError\u001b[0m                                Traceback (most recent call last)",
      "\u001b[1;32m~\\AppData\\Local\\Continuum\\anaconda3\\envs\\ami\\lib\\site-packages\\IPython\\core\\formatters.py\u001b[0m in \u001b[0;36m__call__\u001b[1;34m(self, obj)\u001b[0m\n\u001b[0;32m    339\u001b[0m                 \u001b[1;32mpass\u001b[0m\u001b[1;33m\u001b[0m\u001b[1;33m\u001b[0m\u001b[0m\n\u001b[0;32m    340\u001b[0m             \u001b[1;32melse\u001b[0m\u001b[1;33m:\u001b[0m\u001b[1;33m\u001b[0m\u001b[1;33m\u001b[0m\u001b[0m\n\u001b[1;32m--> 341\u001b[1;33m                 \u001b[1;32mreturn\u001b[0m \u001b[0mprinter\u001b[0m\u001b[1;33m(\u001b[0m\u001b[0mobj\u001b[0m\u001b[1;33m)\u001b[0m\u001b[1;33m\u001b[0m\u001b[1;33m\u001b[0m\u001b[0m\n\u001b[0m\u001b[0;32m    342\u001b[0m             \u001b[1;31m# Finally look for special method names\u001b[0m\u001b[1;33m\u001b[0m\u001b[1;33m\u001b[0m\u001b[1;33m\u001b[0m\u001b[0m\n\u001b[0;32m    343\u001b[0m             \u001b[0mmethod\u001b[0m \u001b[1;33m=\u001b[0m \u001b[0mget_real_method\u001b[0m\u001b[1;33m(\u001b[0m\u001b[0mobj\u001b[0m\u001b[1;33m,\u001b[0m \u001b[0mself\u001b[0m\u001b[1;33m.\u001b[0m\u001b[0mprint_method\u001b[0m\u001b[1;33m)\u001b[0m\u001b[1;33m\u001b[0m\u001b[1;33m\u001b[0m\u001b[0m\n",
      "\u001b[1;32m~\\AppData\\Local\\Continuum\\anaconda3\\envs\\ami\\lib\\site-packages\\IPython\\core\\pylabtools.py\u001b[0m in \u001b[0;36m<lambda>\u001b[1;34m(fig)\u001b[0m\n\u001b[0;32m    242\u001b[0m \u001b[1;33m\u001b[0m\u001b[0m\n\u001b[0;32m    243\u001b[0m     \u001b[1;32mif\u001b[0m \u001b[1;34m'png'\u001b[0m \u001b[1;32min\u001b[0m \u001b[0mformats\u001b[0m\u001b[1;33m:\u001b[0m\u001b[1;33m\u001b[0m\u001b[1;33m\u001b[0m\u001b[0m\n\u001b[1;32m--> 244\u001b[1;33m         \u001b[0mpng_formatter\u001b[0m\u001b[1;33m.\u001b[0m\u001b[0mfor_type\u001b[0m\u001b[1;33m(\u001b[0m\u001b[0mFigure\u001b[0m\u001b[1;33m,\u001b[0m \u001b[1;32mlambda\u001b[0m \u001b[0mfig\u001b[0m\u001b[1;33m:\u001b[0m \u001b[0mprint_figure\u001b[0m\u001b[1;33m(\u001b[0m\u001b[0mfig\u001b[0m\u001b[1;33m,\u001b[0m \u001b[1;34m'png'\u001b[0m\u001b[1;33m,\u001b[0m \u001b[1;33m**\u001b[0m\u001b[0mkwargs\u001b[0m\u001b[1;33m)\u001b[0m\u001b[1;33m)\u001b[0m\u001b[1;33m\u001b[0m\u001b[1;33m\u001b[0m\u001b[0m\n\u001b[0m\u001b[0;32m    245\u001b[0m     \u001b[1;32mif\u001b[0m \u001b[1;34m'retina'\u001b[0m \u001b[1;32min\u001b[0m \u001b[0mformats\u001b[0m \u001b[1;32mor\u001b[0m \u001b[1;34m'png2x'\u001b[0m \u001b[1;32min\u001b[0m \u001b[0mformats\u001b[0m\u001b[1;33m:\u001b[0m\u001b[1;33m\u001b[0m\u001b[1;33m\u001b[0m\u001b[0m\n\u001b[0;32m    246\u001b[0m         \u001b[0mpng_formatter\u001b[0m\u001b[1;33m.\u001b[0m\u001b[0mfor_type\u001b[0m\u001b[1;33m(\u001b[0m\u001b[0mFigure\u001b[0m\u001b[1;33m,\u001b[0m \u001b[1;32mlambda\u001b[0m \u001b[0mfig\u001b[0m\u001b[1;33m:\u001b[0m \u001b[0mretina_figure\u001b[0m\u001b[1;33m(\u001b[0m\u001b[0mfig\u001b[0m\u001b[1;33m,\u001b[0m \u001b[1;33m**\u001b[0m\u001b[0mkwargs\u001b[0m\u001b[1;33m)\u001b[0m\u001b[1;33m)\u001b[0m\u001b[1;33m\u001b[0m\u001b[1;33m\u001b[0m\u001b[0m\n",
      "\u001b[1;32m~\\AppData\\Local\\Continuum\\anaconda3\\envs\\ami\\lib\\site-packages\\IPython\\core\\pylabtools.py\u001b[0m in \u001b[0;36mprint_figure\u001b[1;34m(fig, fmt, bbox_inches, **kwargs)\u001b[0m\n\u001b[0;32m    126\u001b[0m \u001b[1;33m\u001b[0m\u001b[0m\n\u001b[0;32m    127\u001b[0m     \u001b[0mbytes_io\u001b[0m \u001b[1;33m=\u001b[0m \u001b[0mBytesIO\u001b[0m\u001b[1;33m(\u001b[0m\u001b[1;33m)\u001b[0m\u001b[1;33m\u001b[0m\u001b[1;33m\u001b[0m\u001b[0m\n\u001b[1;32m--> 128\u001b[1;33m     \u001b[0mfig\u001b[0m\u001b[1;33m.\u001b[0m\u001b[0mcanvas\u001b[0m\u001b[1;33m.\u001b[0m\u001b[0mprint_figure\u001b[0m\u001b[1;33m(\u001b[0m\u001b[0mbytes_io\u001b[0m\u001b[1;33m,\u001b[0m \u001b[1;33m**\u001b[0m\u001b[0mkw\u001b[0m\u001b[1;33m)\u001b[0m\u001b[1;33m\u001b[0m\u001b[1;33m\u001b[0m\u001b[0m\n\u001b[0m\u001b[0;32m    129\u001b[0m     \u001b[0mdata\u001b[0m \u001b[1;33m=\u001b[0m \u001b[0mbytes_io\u001b[0m\u001b[1;33m.\u001b[0m\u001b[0mgetvalue\u001b[0m\u001b[1;33m(\u001b[0m\u001b[1;33m)\u001b[0m\u001b[1;33m\u001b[0m\u001b[1;33m\u001b[0m\u001b[0m\n\u001b[0;32m    130\u001b[0m     \u001b[1;32mif\u001b[0m \u001b[0mfmt\u001b[0m \u001b[1;33m==\u001b[0m \u001b[1;34m'svg'\u001b[0m\u001b[1;33m:\u001b[0m\u001b[1;33m\u001b[0m\u001b[1;33m\u001b[0m\u001b[0m\n",
      "\u001b[1;32m~\\AppData\\Local\\Continuum\\anaconda3\\envs\\ami\\lib\\site-packages\\matplotlib\\backend_bases.py\u001b[0m in \u001b[0;36mprint_figure\u001b[1;34m(self, filename, dpi, facecolor, edgecolor, orientation, format, bbox_inches, **kwargs)\u001b[0m\n\u001b[0;32m   2054\u001b[0m                         \u001b[0morientation\u001b[0m\u001b[1;33m=\u001b[0m\u001b[0morientation\u001b[0m\u001b[1;33m,\u001b[0m\u001b[1;33m\u001b[0m\u001b[1;33m\u001b[0m\u001b[0m\n\u001b[0;32m   2055\u001b[0m                         \u001b[0mdryrun\u001b[0m\u001b[1;33m=\u001b[0m\u001b[1;32mTrue\u001b[0m\u001b[1;33m,\u001b[0m\u001b[1;33m\u001b[0m\u001b[1;33m\u001b[0m\u001b[0m\n\u001b[1;32m-> 2056\u001b[1;33m                         **kwargs)\n\u001b[0m\u001b[0;32m   2057\u001b[0m                     \u001b[0mrenderer\u001b[0m \u001b[1;33m=\u001b[0m \u001b[0mself\u001b[0m\u001b[1;33m.\u001b[0m\u001b[0mfigure\u001b[0m\u001b[1;33m.\u001b[0m\u001b[0m_cachedRenderer\u001b[0m\u001b[1;33m\u001b[0m\u001b[1;33m\u001b[0m\u001b[0m\n\u001b[0;32m   2058\u001b[0m                     \u001b[0mbbox_artists\u001b[0m \u001b[1;33m=\u001b[0m \u001b[0mkwargs\u001b[0m\u001b[1;33m.\u001b[0m\u001b[0mpop\u001b[0m\u001b[1;33m(\u001b[0m\u001b[1;34m\"bbox_extra_artists\"\u001b[0m\u001b[1;33m,\u001b[0m \u001b[1;32mNone\u001b[0m\u001b[1;33m)\u001b[0m\u001b[1;33m\u001b[0m\u001b[1;33m\u001b[0m\u001b[0m\n",
      "\u001b[1;32m~\\AppData\\Local\\Continuum\\anaconda3\\envs\\ami\\lib\\site-packages\\matplotlib\\backends\\backend_agg.py\u001b[0m in \u001b[0;36mprint_png\u001b[1;34m(self, filename_or_obj, metadata, pil_kwargs, *args, **kwargs)\u001b[0m\n\u001b[0;32m    525\u001b[0m \u001b[1;33m\u001b[0m\u001b[0m\n\u001b[0;32m    526\u001b[0m         \u001b[1;32melse\u001b[0m\u001b[1;33m:\u001b[0m\u001b[1;33m\u001b[0m\u001b[1;33m\u001b[0m\u001b[0m\n\u001b[1;32m--> 527\u001b[1;33m             \u001b[0mFigureCanvasAgg\u001b[0m\u001b[1;33m.\u001b[0m\u001b[0mdraw\u001b[0m\u001b[1;33m(\u001b[0m\u001b[0mself\u001b[0m\u001b[1;33m)\u001b[0m\u001b[1;33m\u001b[0m\u001b[1;33m\u001b[0m\u001b[0m\n\u001b[0m\u001b[0;32m    528\u001b[0m             \u001b[0mrenderer\u001b[0m \u001b[1;33m=\u001b[0m \u001b[0mself\u001b[0m\u001b[1;33m.\u001b[0m\u001b[0mget_renderer\u001b[0m\u001b[1;33m(\u001b[0m\u001b[1;33m)\u001b[0m\u001b[1;33m\u001b[0m\u001b[1;33m\u001b[0m\u001b[0m\n\u001b[0;32m    529\u001b[0m             \u001b[1;32mwith\u001b[0m \u001b[0mcbook\u001b[0m\u001b[1;33m.\u001b[0m\u001b[0m_setattr_cm\u001b[0m\u001b[1;33m(\u001b[0m\u001b[0mrenderer\u001b[0m\u001b[1;33m,\u001b[0m \u001b[0mdpi\u001b[0m\u001b[1;33m=\u001b[0m\u001b[0mself\u001b[0m\u001b[1;33m.\u001b[0m\u001b[0mfigure\u001b[0m\u001b[1;33m.\u001b[0m\u001b[0mdpi\u001b[0m\u001b[1;33m)\u001b[0m\u001b[1;33m,\u001b[0m\u001b[0;31m \u001b[0m\u001b[0;31m\\\u001b[0m\u001b[1;33m\u001b[0m\u001b[1;33m\u001b[0m\u001b[0m\n",
      "\u001b[1;32m~\\AppData\\Local\\Continuum\\anaconda3\\envs\\ami\\lib\\site-packages\\matplotlib\\backends\\backend_agg.py\u001b[0m in \u001b[0;36mdraw\u001b[1;34m(self)\u001b[0m\n\u001b[0;32m    386\u001b[0m         \u001b[0mself\u001b[0m\u001b[1;33m.\u001b[0m\u001b[0mrenderer\u001b[0m \u001b[1;33m=\u001b[0m \u001b[0mself\u001b[0m\u001b[1;33m.\u001b[0m\u001b[0mget_renderer\u001b[0m\u001b[1;33m(\u001b[0m\u001b[0mcleared\u001b[0m\u001b[1;33m=\u001b[0m\u001b[1;32mTrue\u001b[0m\u001b[1;33m)\u001b[0m\u001b[1;33m\u001b[0m\u001b[1;33m\u001b[0m\u001b[0m\n\u001b[0;32m    387\u001b[0m         \u001b[1;32mwith\u001b[0m \u001b[0mRendererAgg\u001b[0m\u001b[1;33m.\u001b[0m\u001b[0mlock\u001b[0m\u001b[1;33m:\u001b[0m\u001b[1;33m\u001b[0m\u001b[1;33m\u001b[0m\u001b[0m\n\u001b[1;32m--> 388\u001b[1;33m             \u001b[0mself\u001b[0m\u001b[1;33m.\u001b[0m\u001b[0mfigure\u001b[0m\u001b[1;33m.\u001b[0m\u001b[0mdraw\u001b[0m\u001b[1;33m(\u001b[0m\u001b[0mself\u001b[0m\u001b[1;33m.\u001b[0m\u001b[0mrenderer\u001b[0m\u001b[1;33m)\u001b[0m\u001b[1;33m\u001b[0m\u001b[1;33m\u001b[0m\u001b[0m\n\u001b[0m\u001b[0;32m    389\u001b[0m             \u001b[1;31m# A GUI class may be need to update a window using this draw, so\u001b[0m\u001b[1;33m\u001b[0m\u001b[1;33m\u001b[0m\u001b[1;33m\u001b[0m\u001b[0m\n\u001b[0;32m    390\u001b[0m             \u001b[1;31m# don't forget to call the superclass.\u001b[0m\u001b[1;33m\u001b[0m\u001b[1;33m\u001b[0m\u001b[1;33m\u001b[0m\u001b[0m\n",
      "\u001b[1;32m~\\AppData\\Local\\Continuum\\anaconda3\\envs\\ami\\lib\\site-packages\\matplotlib\\artist.py\u001b[0m in \u001b[0;36mdraw_wrapper\u001b[1;34m(artist, renderer, *args, **kwargs)\u001b[0m\n\u001b[0;32m     36\u001b[0m                 \u001b[0mrenderer\u001b[0m\u001b[1;33m.\u001b[0m\u001b[0mstart_filter\u001b[0m\u001b[1;33m(\u001b[0m\u001b[1;33m)\u001b[0m\u001b[1;33m\u001b[0m\u001b[1;33m\u001b[0m\u001b[0m\n\u001b[0;32m     37\u001b[0m \u001b[1;33m\u001b[0m\u001b[0m\n\u001b[1;32m---> 38\u001b[1;33m             \u001b[1;32mreturn\u001b[0m \u001b[0mdraw\u001b[0m\u001b[1;33m(\u001b[0m\u001b[0martist\u001b[0m\u001b[1;33m,\u001b[0m \u001b[0mrenderer\u001b[0m\u001b[1;33m,\u001b[0m \u001b[1;33m*\u001b[0m\u001b[0margs\u001b[0m\u001b[1;33m,\u001b[0m \u001b[1;33m**\u001b[0m\u001b[0mkwargs\u001b[0m\u001b[1;33m)\u001b[0m\u001b[1;33m\u001b[0m\u001b[1;33m\u001b[0m\u001b[0m\n\u001b[0m\u001b[0;32m     39\u001b[0m         \u001b[1;32mfinally\u001b[0m\u001b[1;33m:\u001b[0m\u001b[1;33m\u001b[0m\u001b[1;33m\u001b[0m\u001b[0m\n\u001b[0;32m     40\u001b[0m             \u001b[1;32mif\u001b[0m \u001b[0martist\u001b[0m\u001b[1;33m.\u001b[0m\u001b[0mget_agg_filter\u001b[0m\u001b[1;33m(\u001b[0m\u001b[1;33m)\u001b[0m \u001b[1;32mis\u001b[0m \u001b[1;32mnot\u001b[0m \u001b[1;32mNone\u001b[0m\u001b[1;33m:\u001b[0m\u001b[1;33m\u001b[0m\u001b[1;33m\u001b[0m\u001b[0m\n",
      "\u001b[1;32m~\\AppData\\Local\\Continuum\\anaconda3\\envs\\ami\\lib\\site-packages\\matplotlib\\figure.py\u001b[0m in \u001b[0;36mdraw\u001b[1;34m(self, renderer)\u001b[0m\n\u001b[0;32m   1707\u001b[0m             \u001b[0mself\u001b[0m\u001b[1;33m.\u001b[0m\u001b[0mpatch\u001b[0m\u001b[1;33m.\u001b[0m\u001b[0mdraw\u001b[0m\u001b[1;33m(\u001b[0m\u001b[0mrenderer\u001b[0m\u001b[1;33m)\u001b[0m\u001b[1;33m\u001b[0m\u001b[1;33m\u001b[0m\u001b[0m\n\u001b[0;32m   1708\u001b[0m             mimage._draw_list_compositing_images(\n\u001b[1;32m-> 1709\u001b[1;33m                 renderer, self, artists, self.suppressComposite)\n\u001b[0m\u001b[0;32m   1710\u001b[0m \u001b[1;33m\u001b[0m\u001b[0m\n\u001b[0;32m   1711\u001b[0m             \u001b[0mrenderer\u001b[0m\u001b[1;33m.\u001b[0m\u001b[0mclose_group\u001b[0m\u001b[1;33m(\u001b[0m\u001b[1;34m'figure'\u001b[0m\u001b[1;33m)\u001b[0m\u001b[1;33m\u001b[0m\u001b[1;33m\u001b[0m\u001b[0m\n",
      "\u001b[1;32m~\\AppData\\Local\\Continuum\\anaconda3\\envs\\ami\\lib\\site-packages\\matplotlib\\image.py\u001b[0m in \u001b[0;36m_draw_list_compositing_images\u001b[1;34m(renderer, parent, artists, suppress_composite)\u001b[0m\n\u001b[0;32m    133\u001b[0m     \u001b[1;32mif\u001b[0m \u001b[0mnot_composite\u001b[0m \u001b[1;32mor\u001b[0m \u001b[1;32mnot\u001b[0m \u001b[0mhas_images\u001b[0m\u001b[1;33m:\u001b[0m\u001b[1;33m\u001b[0m\u001b[1;33m\u001b[0m\u001b[0m\n\u001b[0;32m    134\u001b[0m         \u001b[1;32mfor\u001b[0m \u001b[0ma\u001b[0m \u001b[1;32min\u001b[0m \u001b[0martists\u001b[0m\u001b[1;33m:\u001b[0m\u001b[1;33m\u001b[0m\u001b[1;33m\u001b[0m\u001b[0m\n\u001b[1;32m--> 135\u001b[1;33m             \u001b[0ma\u001b[0m\u001b[1;33m.\u001b[0m\u001b[0mdraw\u001b[0m\u001b[1;33m(\u001b[0m\u001b[0mrenderer\u001b[0m\u001b[1;33m)\u001b[0m\u001b[1;33m\u001b[0m\u001b[1;33m\u001b[0m\u001b[0m\n\u001b[0m\u001b[0;32m    136\u001b[0m     \u001b[1;32melse\u001b[0m\u001b[1;33m:\u001b[0m\u001b[1;33m\u001b[0m\u001b[1;33m\u001b[0m\u001b[0m\n\u001b[0;32m    137\u001b[0m         \u001b[1;31m# Composite any adjacent images together\u001b[0m\u001b[1;33m\u001b[0m\u001b[1;33m\u001b[0m\u001b[1;33m\u001b[0m\u001b[0m\n",
      "\u001b[1;32m~\\AppData\\Local\\Continuum\\anaconda3\\envs\\ami\\lib\\site-packages\\matplotlib\\artist.py\u001b[0m in \u001b[0;36mdraw_wrapper\u001b[1;34m(artist, renderer, *args, **kwargs)\u001b[0m\n\u001b[0;32m     36\u001b[0m                 \u001b[0mrenderer\u001b[0m\u001b[1;33m.\u001b[0m\u001b[0mstart_filter\u001b[0m\u001b[1;33m(\u001b[0m\u001b[1;33m)\u001b[0m\u001b[1;33m\u001b[0m\u001b[1;33m\u001b[0m\u001b[0m\n\u001b[0;32m     37\u001b[0m \u001b[1;33m\u001b[0m\u001b[0m\n\u001b[1;32m---> 38\u001b[1;33m             \u001b[1;32mreturn\u001b[0m \u001b[0mdraw\u001b[0m\u001b[1;33m(\u001b[0m\u001b[0martist\u001b[0m\u001b[1;33m,\u001b[0m \u001b[0mrenderer\u001b[0m\u001b[1;33m,\u001b[0m \u001b[1;33m*\u001b[0m\u001b[0margs\u001b[0m\u001b[1;33m,\u001b[0m \u001b[1;33m**\u001b[0m\u001b[0mkwargs\u001b[0m\u001b[1;33m)\u001b[0m\u001b[1;33m\u001b[0m\u001b[1;33m\u001b[0m\u001b[0m\n\u001b[0m\u001b[0;32m     39\u001b[0m         \u001b[1;32mfinally\u001b[0m\u001b[1;33m:\u001b[0m\u001b[1;33m\u001b[0m\u001b[1;33m\u001b[0m\u001b[0m\n\u001b[0;32m     40\u001b[0m             \u001b[1;32mif\u001b[0m \u001b[0martist\u001b[0m\u001b[1;33m.\u001b[0m\u001b[0mget_agg_filter\u001b[0m\u001b[1;33m(\u001b[0m\u001b[1;33m)\u001b[0m \u001b[1;32mis\u001b[0m \u001b[1;32mnot\u001b[0m \u001b[1;32mNone\u001b[0m\u001b[1;33m:\u001b[0m\u001b[1;33m\u001b[0m\u001b[1;33m\u001b[0m\u001b[0m\n",
      "\u001b[1;32m~\\AppData\\Local\\Continuum\\anaconda3\\envs\\ami\\lib\\site-packages\\cartopy\\mpl\\geoaxes.py\u001b[0m in \u001b[0;36mdraw\u001b[1;34m(self, renderer, inframe)\u001b[0m\n\u001b[0;32m    380\u001b[0m             \u001b[1;32mfor\u001b[0m \u001b[0mfactory\u001b[0m\u001b[1;33m,\u001b[0m \u001b[0margs\u001b[0m\u001b[1;33m,\u001b[0m \u001b[0mkwargs\u001b[0m \u001b[1;32min\u001b[0m \u001b[0mself\u001b[0m\u001b[1;33m.\u001b[0m\u001b[0mimg_factories\u001b[0m\u001b[1;33m:\u001b[0m\u001b[1;33m\u001b[0m\u001b[1;33m\u001b[0m\u001b[0m\n\u001b[0;32m    381\u001b[0m                 img, extent, origin = factory.image_for_domain(\n\u001b[1;32m--> 382\u001b[1;33m                     self._get_extent_geom(factory.crs), args[0])\n\u001b[0m\u001b[0;32m    383\u001b[0m                 self.imshow(img, extent=extent, origin=origin,\n\u001b[0;32m    384\u001b[0m                             transform=factory.crs, *args[1:], **kwargs)\n",
      "\u001b[1;32m~\\AppData\\Local\\Continuum\\anaconda3\\envs\\ami\\lib\\site-packages\\cartopy\\io\\img_tiles.py\u001b[0m in \u001b[0;36mimage_for_domain\u001b[1;34m(self, target_domain, target_z)\u001b[0m\n\u001b[0;32m     66\u001b[0m             \u001b[0mtiles\u001b[0m\u001b[1;33m.\u001b[0m\u001b[0mappend\u001b[0m\u001b[1;33m(\u001b[0m\u001b[1;33m[\u001b[0m\u001b[0mimg\u001b[0m\u001b[1;33m,\u001b[0m \u001b[0mx\u001b[0m\u001b[1;33m,\u001b[0m \u001b[0my\u001b[0m\u001b[1;33m,\u001b[0m \u001b[0morigin\u001b[0m\u001b[1;33m]\u001b[0m\u001b[1;33m)\u001b[0m\u001b[1;33m\u001b[0m\u001b[1;33m\u001b[0m\u001b[0m\n\u001b[0;32m     67\u001b[0m \u001b[1;33m\u001b[0m\u001b[0m\n\u001b[1;32m---> 68\u001b[1;33m         \u001b[0mimg\u001b[0m\u001b[1;33m,\u001b[0m \u001b[0mextent\u001b[0m\u001b[1;33m,\u001b[0m \u001b[0morigin\u001b[0m \u001b[1;33m=\u001b[0m \u001b[0m_merge_tiles\u001b[0m\u001b[1;33m(\u001b[0m\u001b[0mtiles\u001b[0m\u001b[1;33m)\u001b[0m\u001b[1;33m\u001b[0m\u001b[1;33m\u001b[0m\u001b[0m\n\u001b[0m\u001b[0;32m     69\u001b[0m         \u001b[1;32mreturn\u001b[0m \u001b[0mimg\u001b[0m\u001b[1;33m,\u001b[0m \u001b[0mextent\u001b[0m\u001b[1;33m,\u001b[0m \u001b[0morigin\u001b[0m\u001b[1;33m\u001b[0m\u001b[1;33m\u001b[0m\u001b[0m\n\u001b[0;32m     70\u001b[0m \u001b[1;33m\u001b[0m\u001b[0m\n",
      "\u001b[1;32m~\\AppData\\Local\\Continuum\\anaconda3\\envs\\ami\\lib\\site-packages\\cartopy\\io\\img_tiles.py\u001b[0m in \u001b[0;36m_merge_tiles\u001b[1;34m(tiles)\u001b[0m\n\u001b[0;32m    501\u001b[0m     \u001b[1;34m\"\"\"Return a single image, merging the given images.\"\"\"\u001b[0m\u001b[1;33m\u001b[0m\u001b[1;33m\u001b[0m\u001b[0m\n\u001b[0;32m    502\u001b[0m     \u001b[1;32mif\u001b[0m \u001b[1;32mnot\u001b[0m \u001b[0mtiles\u001b[0m\u001b[1;33m:\u001b[0m\u001b[1;33m\u001b[0m\u001b[1;33m\u001b[0m\u001b[0m\n\u001b[1;32m--> 503\u001b[1;33m         raise ValueError('A non-empty list of tiles should '\n\u001b[0m\u001b[0;32m    504\u001b[0m                          'be provided to merge.')\n\u001b[0;32m    505\u001b[0m     \u001b[0mxset\u001b[0m \u001b[1;33m=\u001b[0m \u001b[1;33m[\u001b[0m\u001b[0mset\u001b[0m\u001b[1;33m(\u001b[0m\u001b[0mx\u001b[0m\u001b[1;33m)\u001b[0m \u001b[1;32mfor\u001b[0m \u001b[0mi\u001b[0m\u001b[1;33m,\u001b[0m \u001b[0mx\u001b[0m\u001b[1;33m,\u001b[0m \u001b[0my\u001b[0m\u001b[1;33m,\u001b[0m \u001b[0m_\u001b[0m \u001b[1;32min\u001b[0m \u001b[0mtiles\u001b[0m\u001b[1;33m]\u001b[0m\u001b[1;33m\u001b[0m\u001b[1;33m\u001b[0m\u001b[0m\n",
      "\u001b[1;31mValueError\u001b[0m: A non-empty list of tiles should be provided to merge."
     ]
    },
    {
     "data": {
      "text/plain": [
       "<Figure size 4000x4000 with 1 Axes>"
      ]
     },
     "metadata": {
      "needs_background": "light"
     },
     "output_type": "display_data"
    }
   ],
   "source": [
    "import matplotlib.pyplot as plt\n",
    "import s2sphere\n",
    "from shapely.geometry import Polygon\n",
    "import cartopy.crs as ccrs\n",
    "import cartopy.io.img_tiles as cimgt\n",
    "\n",
    "%matplotlib inline\n",
    "\n",
    "proj = cimgt.MapQuestOSM()\n",
    "plt.figure(figsize=(20,20), dpi=200)\n",
    "ax = plt.axes(projection=proj.crs)\n",
    "ax.add_image(proj, 12)\n",
    "ax.set_extent([-51.411886, -50.922470,\n",
    "               -30.301314, -29.94364])\n",
    "region_rect = s2sphere.LatLngRect(\n",
    "    s2sphere.LatLng.from_degrees(-51.264871, -30.241701),\n",
    "    s2sphere.LatLng.from_degrees(-51.04618, -30.000003))\n",
    "coverer = s2sphere.RegionCoverer()\n",
    "coverer.min_level = 8\n",
    "coverer.max_level = 15\n",
    "coverer.max_cells = 500\n",
    "covering = coverer.get_covering(region_rect)\n",
    "geoms = []\n",
    "for cellid in covering:\n",
    "    new_cell = s2sphere.Cell(cellid)\n",
    "    vertices = []\n",
    "    for i in range(0, 4):\n",
    "        vertex = new_cell.get_vertex(i)\n",
    "        vertex_tmp = str(s2sphere.LatLng.from_point(vertex))\n",
    "        vertex_tmp_lat = float(vertex_tmp.split(',')[0].split(':')[-1])\n",
    "        vertex_tmp_long = float(vertex_tmp.split(',')[-1])\n",
    "        latlng = s2sphere.LatLng(vertex_tmp_lat,vertex_tmp_long)\n",
    "        #latlng = s2sphere.LatLng.from_point(vertex)\n",
    "        vertices.append((latlng.lat().degrees(),\n",
    "                         latlng.lng().degrees()))\n",
    "    geo = Polygon(vertices)\n",
    "    geoms.append(geo)\n",
    "print(\"Total Geometries: {}\".format(len(geoms)))\n",
    "    \n",
    "ax.add_geometries(geoms, ccrs.PlateCarree(), facecolor='coral',\n",
    "                  edgecolor='black', alpha=0.4)\n",
    "plt.show()"
   ]
  },
  {
   "cell_type": "code",
   "execution_count": null,
   "metadata": {},
   "outputs": [],
   "source": []
  },
  {
   "cell_type": "code",
   "execution_count": 134,
   "metadata": {},
   "outputs": [
    {
     "data": {
      "text/plain": [
       "LatLngRect: LineInterval: (0.5759586518954118, 0.5759586536725844), SphereInterval: (-2.129301688541844, -2.1293016870276924)"
      ]
     },
     "execution_count": 134,
     "metadata": {},
     "output_type": "execute_result"
    }
   ],
   "source": [
    "cell.get_rect_bound()"
   ]
  },
  {
   "cell_type": "code",
   "execution_count": 157,
   "metadata": {},
   "outputs": [
    {
     "data": {
      "text/plain": [
       "'LatLng: 32.99999992765168,-122.00000006352735'"
      ]
     },
     "execution_count": 157,
     "metadata": {},
     "output_type": "execute_result"
    }
   ],
   "source": [
    "xx = s2sphere.LatLng.from_point(cell.get_vertex(1))\n",
    "dir(xx)\n",
    "str(xx)\n",
    "#dir(xx.lat)\n",
    "#xx._LatLng__coords"
   ]
  },
  {
   "cell_type": "code",
   "execution_count": 158,
   "metadata": {},
   "outputs": [
    {
     "data": {
      "text/plain": [
       "['LatLng: 33.00000000471436,-122.00000006352735',\n",
       " 'LatLng: 32.99999992765168,-122.00000006352735',\n",
       " 'LatLng: 32.999999952413425,-121.99999997677291',\n",
       " 'LatLng: 33.00000002947611,-121.99999997677291']"
      ]
     },
     "execution_count": 158,
     "metadata": {},
     "output_type": "execute_result"
    }
   ],
   "source": [
    "[str(s2sphere.LatLng.from_point(cell.get_vertex(k))) for k in range(4)]"
   ]
  },
  {
   "cell_type": "code",
   "execution_count": 135,
   "metadata": {},
   "outputs": [
    {
     "name": "stdout",
     "output_type": "stream",
     "text": [
      "LatLng: 33.00000000471436,-122.00000006352735\n",
      "LatLng: 32.99999992765168,-122.00000006352735\n",
      "LatLng: 32.999999952413425,-121.99999997677291\n",
      "LatLng: 33.00000002947611,-121.99999997677291\n"
     ]
    }
   ],
   "source": [
    "for k in range(4):\n",
    "    print(s2sphere.LatLng.from_point(cell.get_vertex(k)))"
   ]
  },
  {
   "cell_type": "code",
   "execution_count": 10,
   "metadata": {},
   "outputs": [],
   "source": [
    "level12_cell = s2sphere.Cell(cell.id().parent(12))"
   ]
  },
  {
   "cell_type": "code",
   "execution_count": 15,
   "metadata": {},
   "outputs": [
    {
     "data": {
      "text/plain": [
       "<bound method Cell.id of Cell: face 4, level 12, orientation 0, id 9291052268944097280>"
      ]
     },
     "execution_count": 15,
     "metadata": {},
     "output_type": "execute_result"
    }
   ],
   "source": [
    "level12_cell.id"
   ]
  },
  {
   "cell_type": "code",
   "execution_count": null,
   "metadata": {},
   "outputs": [],
   "source": []
  },
  {
   "cell_type": "code",
   "execution_count": null,
   "metadata": {},
   "outputs": [],
   "source": []
  },
  {
   "cell_type": "code",
   "execution_count": 1,
   "metadata": {},
   "outputs": [
    {
     "ename": "KeyError",
     "evalue": "'PROJ_LIB'",
     "output_type": "error",
     "traceback": [
      "\u001b[1;31m---------------------------------------------------------------------------\u001b[0m",
      "\u001b[1;31mKeyError\u001b[0m                                  Traceback (most recent call last)",
      "\u001b[1;32m<ipython-input-1-f0b0a68884d8>\u001b[0m in \u001b[0;36m<module>\u001b[1;34m\u001b[0m\n\u001b[1;32m----> 1\u001b[1;33m \u001b[1;32mfrom\u001b[0m \u001b[0mmpl_toolkits\u001b[0m\u001b[1;33m.\u001b[0m\u001b[0mbasemap\u001b[0m \u001b[1;32mimport\u001b[0m \u001b[0mBasemap\u001b[0m\u001b[1;33m\u001b[0m\u001b[1;33m\u001b[0m\u001b[0m\n\u001b[0m\u001b[0;32m      2\u001b[0m \u001b[1;32mimport\u001b[0m \u001b[0mmatplotlib\u001b[0m\u001b[1;33m.\u001b[0m\u001b[0mpyplot\u001b[0m \u001b[1;32mas\u001b[0m \u001b[0mplt\u001b[0m\u001b[1;33m\u001b[0m\u001b[1;33m\u001b[0m\u001b[0m\n\u001b[0;32m      3\u001b[0m \u001b[1;32mfrom\u001b[0m \u001b[0mmatplotlib\u001b[0m\u001b[1;33m.\u001b[0m\u001b[0mcollections\u001b[0m \u001b[1;32mimport\u001b[0m \u001b[0mPatchCollection\u001b[0m\u001b[1;33m\u001b[0m\u001b[1;33m\u001b[0m\u001b[0m\n\u001b[0;32m      4\u001b[0m \u001b[1;32mfrom\u001b[0m \u001b[0mmatplotlib\u001b[0m\u001b[1;33m.\u001b[0m\u001b[0mpatches\u001b[0m \u001b[1;32mimport\u001b[0m \u001b[0mPolygon\u001b[0m\u001b[1;33m\u001b[0m\u001b[1;33m\u001b[0m\u001b[0m\n\u001b[0;32m      5\u001b[0m \u001b[1;32mimport\u001b[0m \u001b[0mnumpy\u001b[0m \u001b[1;32mas\u001b[0m \u001b[0mnp\u001b[0m\u001b[1;33m\u001b[0m\u001b[1;33m\u001b[0m\u001b[0m\n",
      "\u001b[1;32m~\\AppData\\Local\\Continuum\\anaconda3\\envs\\ami\\lib\\site-packages\\mpl_toolkits\\basemap\\__init__.py\u001b[0m in \u001b[0;36m<module>\u001b[1;34m\u001b[0m\n\u001b[0;32m    153\u001b[0m \u001b[1;33m\u001b[0m\u001b[0m\n\u001b[0;32m    154\u001b[0m \u001b[1;31m# create dictionary that maps epsg codes to Basemap kwargs.\u001b[0m\u001b[1;33m\u001b[0m\u001b[1;33m\u001b[0m\u001b[1;33m\u001b[0m\u001b[0m\n\u001b[1;32m--> 155\u001b[1;33m \u001b[0mpyproj_datadir\u001b[0m \u001b[1;33m=\u001b[0m \u001b[0mos\u001b[0m\u001b[1;33m.\u001b[0m\u001b[0menviron\u001b[0m\u001b[1;33m[\u001b[0m\u001b[1;34m'PROJ_LIB'\u001b[0m\u001b[1;33m]\u001b[0m\u001b[1;33m\u001b[0m\u001b[1;33m\u001b[0m\u001b[0m\n\u001b[0m\u001b[0;32m    156\u001b[0m \u001b[0mepsgf\u001b[0m \u001b[1;33m=\u001b[0m \u001b[0mopen\u001b[0m\u001b[1;33m(\u001b[0m\u001b[0mos\u001b[0m\u001b[1;33m.\u001b[0m\u001b[0mpath\u001b[0m\u001b[1;33m.\u001b[0m\u001b[0mjoin\u001b[0m\u001b[1;33m(\u001b[0m\u001b[0mpyproj_datadir\u001b[0m\u001b[1;33m,\u001b[0m\u001b[1;34m'epsg'\u001b[0m\u001b[1;33m)\u001b[0m\u001b[1;33m)\u001b[0m\u001b[1;33m\u001b[0m\u001b[1;33m\u001b[0m\u001b[0m\n\u001b[0;32m    157\u001b[0m \u001b[0mepsg_dict\u001b[0m\u001b[1;33m=\u001b[0m\u001b[1;33m{\u001b[0m\u001b[1;33m}\u001b[0m\u001b[1;33m\u001b[0m\u001b[1;33m\u001b[0m\u001b[0m\n",
      "\u001b[1;32m~\\AppData\\Local\\Continuum\\anaconda3\\envs\\ami\\lib\\os.py\u001b[0m in \u001b[0;36m__getitem__\u001b[1;34m(self, key)\u001b[0m\n\u001b[0;32m    667\u001b[0m         \u001b[1;32mexcept\u001b[0m \u001b[0mKeyError\u001b[0m\u001b[1;33m:\u001b[0m\u001b[1;33m\u001b[0m\u001b[1;33m\u001b[0m\u001b[0m\n\u001b[0;32m    668\u001b[0m             \u001b[1;31m# raise KeyError with the original key value\u001b[0m\u001b[1;33m\u001b[0m\u001b[1;33m\u001b[0m\u001b[1;33m\u001b[0m\u001b[0m\n\u001b[1;32m--> 669\u001b[1;33m             \u001b[1;32mraise\u001b[0m \u001b[0mKeyError\u001b[0m\u001b[1;33m(\u001b[0m\u001b[0mkey\u001b[0m\u001b[1;33m)\u001b[0m \u001b[1;32mfrom\u001b[0m \u001b[1;32mNone\u001b[0m\u001b[1;33m\u001b[0m\u001b[1;33m\u001b[0m\u001b[0m\n\u001b[0m\u001b[0;32m    670\u001b[0m         \u001b[1;32mreturn\u001b[0m \u001b[0mself\u001b[0m\u001b[1;33m.\u001b[0m\u001b[0mdecodevalue\u001b[0m\u001b[1;33m(\u001b[0m\u001b[0mvalue\u001b[0m\u001b[1;33m)\u001b[0m\u001b[1;33m\u001b[0m\u001b[1;33m\u001b[0m\u001b[0m\n\u001b[0;32m    671\u001b[0m \u001b[1;33m\u001b[0m\u001b[0m\n",
      "\u001b[1;31mKeyError\u001b[0m: 'PROJ_LIB'"
     ]
    }
   ],
   "source": [
    "from mpl_toolkits.basemap import Basemap\n",
    "import matplotlib.pyplot as plt\n",
    "from matplotlib.collections import PatchCollection\n",
    "from matplotlib.patches import Polygon\n",
    "import numpy as np\n",
    "\n",
    "\n",
    "# Make the figure\n",
    "fig = plt.figure()\n",
    "ax = fig.add_subplot(111)\n",
    "\n",
    "# Easiest way to make a basemap is to use the cylidrical projection and \n",
    "# define the bottom left lat/lon and top right lat/lon corners\n",
    "\n",
    "# Map of Utah\n",
    "bot_left_lat  =36.5\n",
    "bot_left_lon  =-114.5\n",
    "top_right_lat =42.5\n",
    "top_right_lon = -108.5\n",
    "\n",
    "# create the map object, m\n",
    "m = Basemap(resolution='i', projection='cyl', \\\n",
    "    llcrnrlon=bot_left_lon, llcrnrlat=bot_left_lat, \\\n",
    "    urcrnrlon=top_right_lon, urcrnrlat=top_right_lat)\n",
    "\n",
    "# Note: You can define the resolution of the map you just created. Higher \n",
    "# resolutions take longer to create.\n",
    "#    'c' - crude\n",
    "#    'l' - low\n",
    "#    'i' - intermediate\n",
    "#    'h' - high\n",
    "#    'f' - full\n",
    "\n",
    "# Draw some map elements on the map\n",
    "m.drawcoastlines()\n",
    "m.drawstates()\n",
    "m.drawcountries()\n",
    "m.drawrivers(color='blue')\n",
    "\n",
    "# Drawing ArcGIS Basemap (only works with cylc projections??)\n",
    "# Examples of what each map looks like can be found here:\n",
    "# http://kbkb-wx-python.blogspot.com/2016/04/python-basemap-background-image-from.html\n",
    "maps = ['ESRI_Imagery_World_2D',    # 0\n",
    "        'ESRI_StreetMap_World_2D',  # 1\n",
    "        'NatGeo_World_Map',         # 2\n",
    "        'NGS_Topo_US_2D',           # 3\n",
    "        'Ocean_Basemap',            # 4\n",
    "        'USA_Topo_Maps',            # 5\n",
    "        'World_Imagery',            # 6\n",
    "        'World_Physical_Map',       # 7\n",
    "        'World_Shaded_Relief',      # 8\n",
    "        'World_Street_Map',         # 9\n",
    "        'World_Terrain_Base',       # 10\n",
    "        'World_Topo_Map'            # 11\n",
    "        ]\n",
    "print(\"drawing image from arcGIS server...\")\n",
    "m.arcgisimage(service=maps[8], xpixels=1000, verbose=False)\n",
    "print(\"...finished\")\n",
    "\n",
    "# Plot a scatter point at WBB on the map object\n",
    "lon = -111.85\n",
    "lat = 40.77\n",
    "m.scatter(lon,lat,c='r',s=150)\n",
    "\n",
    "# Plot some wind barbs\n",
    "lons = np.arange(-115,-100,.5)\n",
    "lats = np.arange(33,48,.5)\n",
    "u = np.arange(-5,10,.5)\n",
    "v = np.arange(5,20,.5)\n",
    "m.barbs(lons, lats, u, v, color='fuchsia')\n",
    "\n",
    "# Plot line between two points\n",
    "# (can also use greatcircle function to be more accurate)\n",
    "x = [-110, -112]\n",
    "y = [40, 42]\n",
    "m.plot(x, y, color='navy', lw=5)\n",
    "\n",
    "# Fill two polygon shapes\n",
    "patches = []\n",
    "homeplate = np.array([[-114,38],[-113,37],[-112,38],[-112,40],[-114,40]])\n",
    "patches.append(Polygon(homeplate))\n",
    "triangle = np.array([[-111,38],[-110,37],[-110,42]])\n",
    "patches.append(Polygon(triangle))\n",
    "ax.add_collection(PatchCollection(patches, facecolor='lightgreen', edgecolor='k', linewidths=1.5))\n",
    "\n",
    "# Plot shapefiles: see here: http://basemaptutorial.readthedocs.io/en/latest/shapefile.html\n",
    "\n",
    "# Plot contours\n",
    "# m.contour(lons2D, lats2D, values2D)  # contour lines\n",
    "# m.contourf(lons2D, lats2D, values2D) # contour color filled, can specify a cmap\n",
    "\n",
    "# Plot gridded data\n",
    "# m.pcolormesh(lons2D, lats2D, values2D) # can specify a cmap\n",
    "\n",
    "# Add plot title and other plot elements the normal way\n",
    "plt.title('Map of Utah Basemap Example')\n",
    "plt.xlabel('this is the x label')\n",
    "\n",
    "plt.show()"
   ]
  }
 ],
 "metadata": {
  "kernelspec": {
   "display_name": "Python 3",
   "language": "python",
   "name": "python3"
  },
  "language_info": {
   "codemirror_mode": {
    "name": "ipython",
    "version": 3
   },
   "file_extension": ".py",
   "mimetype": "text/x-python",
   "name": "python",
   "nbconvert_exporter": "python",
   "pygments_lexer": "ipython3",
   "version": "3.6.8"
  }
 },
 "nbformat": 4,
 "nbformat_minor": 2
}
