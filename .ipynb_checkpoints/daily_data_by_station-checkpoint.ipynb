{
 "cells": [
  {
   "cell_type": "code",
   "execution_count": 30,
   "metadata": {},
   "outputs": [],
   "source": [
    "import pandas as pd\n",
    "import numpy as np\n",
    "import os"
   ]
  },
  {
   "cell_type": "code",
   "execution_count": 31,
   "metadata": {},
   "outputs": [],
   "source": [
    "def get_station_meta(station_number,file_prefix='hly'):\n",
    "    station_meta = dict()\n",
    "    station_header_file = f'data/{file_prefix}{station_number}_header.csv'\n",
    "    df_header = pd.read_csv(station_header_file)\n",
    "    for row in df_header[df_header.columns[0]]:\n",
    "        if 'Latitude' in row:\n",
    "            split_vals = row.split(',')\n",
    "            station_meta['latitude'] = float(split_vals[0].replace('Latitude:',''))\n",
    "            station_meta['longitude'] = float(split_vals[-1].replace('Longitude:',''))\n",
    "    return station_meta"
   ]
  },
  {
   "cell_type": "code",
   "execution_count": 88,
   "metadata": {},
   "outputs": [],
   "source": [
    "raw_data_files = [file for file in os.listdir('data/') if 'gz.parquet' in file and ('hly' in file or 'dly' in file)]\n",
    "#raw_data_files = list(np.random.choice(raw_data_files,15))\n",
    "#raw_data_files"
   ]
  },
  {
   "cell_type": "code",
   "execution_count": null,
   "metadata": {},
   "outputs": [
    {
     "name": "stdout",
     "output_type": "stream",
     "text": [
      "data/dly1024.gz.parquet\n",
      "(27426, 2)\n",
      "(27426, 5)\n",
      "(27426, 5)\n",
      "data/dly1042.gz.parquet\n",
      "(24136, 2)\n",
      "(24136, 5)\n",
      "(51562, 5)\n",
      "data/dly1043.gz.parquet\n",
      "(16985, 2)\n",
      "(16985, 5)\n",
      "(68547, 5)\n",
      "data/dly1075.gz.parquet\n",
      "(19455, 23)\n",
      "(19455, 26)\n",
      "(88002, 26)\n",
      "data/dly108.gz.parquet\n",
      "(28579, 2)\n",
      "(28579, 5)\n",
      "(116581, 26)\n",
      "data/dly1103.gz.parquet\n",
      "(22767, 2)\n"
     ]
    }
   ],
   "source": [
    "df_processed = pd.DataFrame()\n",
    "for file in raw_data_files:\n",
    "    station_number = int(file.replace('.gz','').replace('.parquet','').replace('hly','').replace('dly',''))\n",
    "    station_file = f'data/{file}'\n",
    "    file_prefix = file[0:3]\n",
    "    station_meta = get_station_meta(station_number,file_prefix)\n",
    "    print(station_file)\n",
    "    df = pd.read_parquet(station_file)\n",
    "    print(df.shape)\n",
    "    # only process data if we have some\n",
    "    if len(df)>0:\n",
    "        df = df.set_index(pd.to_datetime(df.index))\n",
    "        df.columns = [f'{file_prefix}_{col}' for col in df.columns.values]\n",
    "        df = df.set_index(df.index.to_series().dt.date)\n",
    "        if file_prefix == 'dly':\n",
    "            df = df.groupby(by=df.index).agg([np.mean])\n",
    "        elif file_prefix == 'hly':\n",
    "            df = df.groupby(by=df.index).agg([np.mean, np.min, np.max, np.std])\n",
    "        df.columns = ['_'.join(col).strip() for col in df.columns.values]\n",
    "        df = df.dropna(how='all')\n",
    "        df = df.round(2)\n",
    "        df['station_number'] = station_number\n",
    "        df['latitude'] = station_meta['latitude']\n",
    "        df['longitude'] = station_meta['longitude']\n",
    "        print(df.shape)\n",
    "        df_processed = df_processed.append(df,sort=True)\n",
    "        print(df_processed.shape)\n",
    "print(df_processed.shape)\n",
    "df_processed = df_processed.groupby([df_processed.index,'station_number']).max()\n",
    "print(df_processed.shape)\n",
    "df_processed.to_parquet('data/daily_by_station.gz.parquet',compression='gzip')\n",
    "df_processed.head()"
   ]
  },
  {
   "cell_type": "code",
   "execution_count": 64,
   "metadata": {},
   "outputs": [],
   "source": [
    "#df_processed.index.to_series().dt.date"
   ]
  },
  {
   "cell_type": "code",
   "execution_count": null,
   "metadata": {},
   "outputs": [],
   "source": []
  },
  {
   "cell_type": "code",
   "execution_count": null,
   "metadata": {},
   "outputs": [],
   "source": []
  },
  {
   "cell_type": "code",
   "execution_count": null,
   "metadata": {},
   "outputs": [],
   "source": []
  }
 ],
 "metadata": {
  "kernelspec": {
   "display_name": "Python 3",
   "language": "python",
   "name": "python3"
  },
  "language_info": {
   "codemirror_mode": {
    "name": "ipython",
    "version": 3
   },
   "file_extension": ".py",
   "mimetype": "text/x-python",
   "name": "python",
   "nbconvert_exporter": "python",
   "pygments_lexer": "ipython3",
   "version": "3.6.8"
  }
 },
 "nbformat": 4,
 "nbformat_minor": 2
}
